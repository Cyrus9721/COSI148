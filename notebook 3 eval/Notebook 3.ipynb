{
 "cells": [
  {
   "cell_type": "markdown",
   "id": "8fc59ecf",
   "metadata": {},
   "source": [
    "# Notebook 3: Performance metric in machine learning\n",
    "\n",
    "COSI/ECON-148B-1 : Introduction to Machine Learning with Economic Applications\n",
    "\n",
    "Zizhang Chen\n",
    "\n",
    "[zizhang2@brandeis.edu](mailto:zizhang2@brandeis.edu)"
   ]
  },
  {
   "cell_type": "markdown",
   "id": "d5def85d",
   "metadata": {},
   "source": [
    "## 1. Overview"
   ]
  },
  {
   "cell_type": "markdown",
   "id": "1e10ed67",
   "metadata": {},
   "source": [
    "In machine learning, the evaluation metric is used to determine a model's performance on a given dataset. It helps to \n",
    "\n",
    "- Compare different models and select the one with the best performance.\n",
    "\n",
    "\n",
    "- Tuning model parameters. \n",
    "\n",
    "\n",
    "- Tracking the progress of a model over time. "
   ]
  },
  {
   "cell_type": "markdown",
   "id": "e11b4352",
   "metadata": {},
   "source": [
    "## 2, Performance metric for classification "
   ]
  },
  {
   "cell_type": "markdown",
   "id": "485dfd17",
   "metadata": {},
   "source": [
    "##### 2.0 Accuracy"
   ]
  },
  {
   "cell_type": "markdown",
   "id": "e758fbdc",
   "metadata": {},
   "source": [
    "Measures the proportion of samples that were correctly classified by the algorithm."
   ]
  },
  {
   "cell_type": "markdown",
   "id": "ac26e0a3",
   "metadata": {},
   "source": [
    "##### 2.1 Confusion table"
   ]
  },
  {
   "cell_type": "markdown",
   "id": "5d1b5858",
   "metadata": {},
   "source": [
    "True Positive (TP) refers to the number of instances that are correctly classified as positive. In a binary classification problem, positive usually represents the class of interest. For example, in a disease diagnosis problem, a positive result means the patient has the disease.\n",
    "\n",
    "False Positive (FP) refers to the number of instances that are incorrectly classified as positive. In other words, it is a type of error in which a negative instance is predicted as positive.\n",
    "\n",
    "True Negative (TN) refers to the number of instances that are correctly classified as negative. In a binary classification problem, negative usually represents the class not of interest. For example, in a disease diagnosis problem, a negative result means the patient does not have the disease.\n",
    "\n",
    "False Negative (FN) refers to the number of instances that are incorrectly classified as negative. It is a type of error in which a positive instance is predicted as negative."
   ]
  },
  {
   "cell_type": "markdown",
   "id": "1278199d",
   "metadata": {},
   "source": [
    "![confusion_matrix.png](confusion_matrix.png)"
   ]
  },
  {
   "cell_type": "markdown",
   "id": "f029db79",
   "metadata": {},
   "source": [
    "![meme.jpg](meme.jpg)"
   ]
  },
  {
   "cell_type": "code",
   "execution_count": 1,
   "id": "e45f4f92",
   "metadata": {},
   "outputs": [
    {
     "data": {
      "text/html": [
       "<div>\n",
       "<style scoped>\n",
       "    .dataframe tbody tr th:only-of-type {\n",
       "        vertical-align: middle;\n",
       "    }\n",
       "\n",
       "    .dataframe tbody tr th {\n",
       "        vertical-align: top;\n",
       "    }\n",
       "\n",
       "    .dataframe thead th {\n",
       "        text-align: right;\n",
       "    }\n",
       "</style>\n",
       "<table border=\"1\" class=\"dataframe\">\n",
       "  <thead>\n",
       "    <tr style=\"text-align: right;\">\n",
       "      <th></th>\n",
       "      <th>mean radius</th>\n",
       "      <th>mean texture</th>\n",
       "      <th>mean perimeter</th>\n",
       "      <th>mean area</th>\n",
       "      <th>mean smoothness</th>\n",
       "      <th>mean compactness</th>\n",
       "      <th>mean concavity</th>\n",
       "      <th>mean concave points</th>\n",
       "      <th>mean symmetry</th>\n",
       "      <th>mean fractal dimension</th>\n",
       "      <th>...</th>\n",
       "      <th>worst radius</th>\n",
       "      <th>worst texture</th>\n",
       "      <th>worst perimeter</th>\n",
       "      <th>worst area</th>\n",
       "      <th>worst smoothness</th>\n",
       "      <th>worst compactness</th>\n",
       "      <th>worst concavity</th>\n",
       "      <th>worst concave points</th>\n",
       "      <th>worst symmetry</th>\n",
       "      <th>worst fractal dimension</th>\n",
       "    </tr>\n",
       "  </thead>\n",
       "  <tbody>\n",
       "    <tr>\n",
       "      <th>149</th>\n",
       "      <td>13.74</td>\n",
       "      <td>17.91</td>\n",
       "      <td>88.12</td>\n",
       "      <td>585.0</td>\n",
       "      <td>0.07944</td>\n",
       "      <td>0.06376</td>\n",
       "      <td>0.02881</td>\n",
       "      <td>0.01329</td>\n",
       "      <td>0.1473</td>\n",
       "      <td>0.05580</td>\n",
       "      <td>...</td>\n",
       "      <td>15.34</td>\n",
       "      <td>22.46</td>\n",
       "      <td>97.19</td>\n",
       "      <td>725.9</td>\n",
       "      <td>0.09711</td>\n",
       "      <td>0.1824</td>\n",
       "      <td>0.1564</td>\n",
       "      <td>0.06019</td>\n",
       "      <td>0.2350</td>\n",
       "      <td>0.07014</td>\n",
       "    </tr>\n",
       "    <tr>\n",
       "      <th>124</th>\n",
       "      <td>13.37</td>\n",
       "      <td>16.39</td>\n",
       "      <td>86.10</td>\n",
       "      <td>553.5</td>\n",
       "      <td>0.07115</td>\n",
       "      <td>0.07325</td>\n",
       "      <td>0.08092</td>\n",
       "      <td>0.02800</td>\n",
       "      <td>0.1422</td>\n",
       "      <td>0.05823</td>\n",
       "      <td>...</td>\n",
       "      <td>14.26</td>\n",
       "      <td>22.75</td>\n",
       "      <td>91.99</td>\n",
       "      <td>632.1</td>\n",
       "      <td>0.10250</td>\n",
       "      <td>0.2531</td>\n",
       "      <td>0.3308</td>\n",
       "      <td>0.08978</td>\n",
       "      <td>0.2048</td>\n",
       "      <td>0.07628</td>\n",
       "    </tr>\n",
       "    <tr>\n",
       "      <th>421</th>\n",
       "      <td>14.69</td>\n",
       "      <td>13.98</td>\n",
       "      <td>98.22</td>\n",
       "      <td>656.1</td>\n",
       "      <td>0.10310</td>\n",
       "      <td>0.18360</td>\n",
       "      <td>0.14500</td>\n",
       "      <td>0.06300</td>\n",
       "      <td>0.2086</td>\n",
       "      <td>0.07406</td>\n",
       "      <td>...</td>\n",
       "      <td>16.46</td>\n",
       "      <td>18.34</td>\n",
       "      <td>114.10</td>\n",
       "      <td>809.2</td>\n",
       "      <td>0.13120</td>\n",
       "      <td>0.3635</td>\n",
       "      <td>0.3219</td>\n",
       "      <td>0.11080</td>\n",
       "      <td>0.2827</td>\n",
       "      <td>0.09208</td>\n",
       "    </tr>\n",
       "    <tr>\n",
       "      <th>195</th>\n",
       "      <td>12.91</td>\n",
       "      <td>16.33</td>\n",
       "      <td>82.53</td>\n",
       "      <td>516.4</td>\n",
       "      <td>0.07941</td>\n",
       "      <td>0.05366</td>\n",
       "      <td>0.03873</td>\n",
       "      <td>0.02377</td>\n",
       "      <td>0.1829</td>\n",
       "      <td>0.05667</td>\n",
       "      <td>...</td>\n",
       "      <td>13.88</td>\n",
       "      <td>22.00</td>\n",
       "      <td>90.81</td>\n",
       "      <td>600.6</td>\n",
       "      <td>0.10970</td>\n",
       "      <td>0.1506</td>\n",
       "      <td>0.1764</td>\n",
       "      <td>0.08235</td>\n",
       "      <td>0.3024</td>\n",
       "      <td>0.06949</td>\n",
       "    </tr>\n",
       "    <tr>\n",
       "      <th>545</th>\n",
       "      <td>13.62</td>\n",
       "      <td>23.23</td>\n",
       "      <td>87.19</td>\n",
       "      <td>573.2</td>\n",
       "      <td>0.09246</td>\n",
       "      <td>0.06747</td>\n",
       "      <td>0.02974</td>\n",
       "      <td>0.02443</td>\n",
       "      <td>0.1664</td>\n",
       "      <td>0.05801</td>\n",
       "      <td>...</td>\n",
       "      <td>15.35</td>\n",
       "      <td>29.09</td>\n",
       "      <td>97.58</td>\n",
       "      <td>729.8</td>\n",
       "      <td>0.12160</td>\n",
       "      <td>0.1517</td>\n",
       "      <td>0.1049</td>\n",
       "      <td>0.07174</td>\n",
       "      <td>0.2642</td>\n",
       "      <td>0.06953</td>\n",
       "    </tr>\n",
       "  </tbody>\n",
       "</table>\n",
       "<p>5 rows × 30 columns</p>\n",
       "</div>"
      ],
      "text/plain": [
       "     mean radius  mean texture  mean perimeter  mean area  mean smoothness  \\\n",
       "149        13.74         17.91           88.12      585.0          0.07944   \n",
       "124        13.37         16.39           86.10      553.5          0.07115   \n",
       "421        14.69         13.98           98.22      656.1          0.10310   \n",
       "195        12.91         16.33           82.53      516.4          0.07941   \n",
       "545        13.62         23.23           87.19      573.2          0.09246   \n",
       "\n",
       "     mean compactness  mean concavity  mean concave points  mean symmetry  \\\n",
       "149           0.06376         0.02881              0.01329         0.1473   \n",
       "124           0.07325         0.08092              0.02800         0.1422   \n",
       "421           0.18360         0.14500              0.06300         0.2086   \n",
       "195           0.05366         0.03873              0.02377         0.1829   \n",
       "545           0.06747         0.02974              0.02443         0.1664   \n",
       "\n",
       "     mean fractal dimension  ...  worst radius  worst texture  \\\n",
       "149                 0.05580  ...         15.34          22.46   \n",
       "124                 0.05823  ...         14.26          22.75   \n",
       "421                 0.07406  ...         16.46          18.34   \n",
       "195                 0.05667  ...         13.88          22.00   \n",
       "545                 0.05801  ...         15.35          29.09   \n",
       "\n",
       "     worst perimeter  worst area  worst smoothness  worst compactness  \\\n",
       "149            97.19       725.9           0.09711             0.1824   \n",
       "124            91.99       632.1           0.10250             0.2531   \n",
       "421           114.10       809.2           0.13120             0.3635   \n",
       "195            90.81       600.6           0.10970             0.1506   \n",
       "545            97.58       729.8           0.12160             0.1517   \n",
       "\n",
       "     worst concavity  worst concave points  worst symmetry  \\\n",
       "149           0.1564               0.06019          0.2350   \n",
       "124           0.3308               0.08978          0.2048   \n",
       "421           0.3219               0.11080          0.2827   \n",
       "195           0.1764               0.08235          0.3024   \n",
       "545           0.1049               0.07174          0.2642   \n",
       "\n",
       "     worst fractal dimension  \n",
       "149                  0.07014  \n",
       "124                  0.07628  \n",
       "421                  0.09208  \n",
       "195                  0.06949  \n",
       "545                  0.06953  \n",
       "\n",
       "[5 rows x 30 columns]"
      ]
     },
     "execution_count": 1,
     "metadata": {},
     "output_type": "execute_result"
    }
   ],
   "source": [
    "import numpy as np\n",
    "import pandas as pd\n",
    "from sklearn.linear_model import LogisticRegression\n",
    "from sklearn.datasets import load_breast_cancer\n",
    "from sklearn.model_selection import train_test_split\n",
    "from sklearn.metrics import confusion_matrix\n",
    "dataset = load_breast_cancer(as_frame=True)\n",
    "X = dataset['data']\n",
    "y = dataset['target'].values\n",
    "train_X, test_X, train_y, test_y = train_test_split(X, y , test_size=0.3, random_state=42)\n",
    "train_X.head()"
   ]
  },
  {
   "cell_type": "code",
   "execution_count": 2,
   "id": "7c9c55b8",
   "metadata": {},
   "outputs": [],
   "source": [
    "clf = LogisticRegression(C = 10, solver = 'newton-cg').fit(train_X, train_y)\n",
    "pred_y = clf.predict(test_X)"
   ]
  },
  {
   "cell_type": "code",
   "execution_count": 3,
   "id": "ac54ed92",
   "metadata": {},
   "outputs": [
    {
     "data": {
      "image/png": "[encoded data removed]",
      "text/plain": [
       "<Figure size 500x350 with 2 Axes>"
      ]
     },
     "metadata": {},
     "output_type": "display_data"
    }
   ],
   "source": [
    "import matplotlib.pyplot as plt\n",
    "import seaborn as sns\n",
    "sns.set(font_scale=1.4) # for label size\n",
    "confusion_mat = confusion_matrix(test_y, pred_y)\n",
    "df_cm = pd.DataFrame(confusion_mat[::-1].T[::-1], reversed(range(2)), reversed(range(2)))\n",
    "plt.figure(figsize=(5,3.5))\n",
    "sns.heatmap(df_cm, annot=True, annot_kws={\"size\": 16}, fmt='g')\n",
    "plt.xlabel('Actual')\n",
    "plt.ylabel('Prediction')\n",
    "plt.show()"
   ]
  },
  {
   "cell_type": "code",
   "execution_count": 4,
   "id": "42075071",
   "metadata": {},
   "outputs": [
    {
     "name": "stdout",
     "output_type": "stream",
     "text": [
      "True positive: 106\n",
      "True negative: 60\n",
      "False positive: 3\n",
      "False negative: 2\n"
     ]
    }
   ],
   "source": [
    "tn, fp, fn, tp = confusion_mat.ravel()\n",
    "print('True positive:', tp)\n",
    "print('True negative:', tn)\n",
    "print('False positive:', fp)\n",
    "print('False negative:', fn)"
   ]
  },
  {
   "cell_type": "markdown",
   "id": "369a8ade",
   "metadata": {},
   "source": [
    "Simple illustration:"
   ]
  },
  {
   "cell_type": "code",
   "execution_count": 5,
   "id": "d4819e49",
   "metadata": {},
   "outputs": [
    {
     "name": "stdout",
     "output_type": "stream",
     "text": [
      "True positive: 106\n",
      "True negative: 60\n",
      "False positive: 3\n",
      "False negative: 2\n"
     ]
    }
   ],
   "source": [
    "TP = np.sum((pred_y == 1) & (test_y == 1))\n",
    "TN = np.sum((pred_y == 0) & (test_y == 0))\n",
    "FP = np.sum((pred_y == 1) & (test_y == 0))\n",
    "FN = np.sum((pred_y == 0) & (test_y == 1))\n",
    "print('True positive:', TP)\n",
    "print('True negative:', TN)\n",
    "print('False positive:', FP)\n",
    "print('False negative:', FN)\n"
   ]
  },
  {
   "cell_type": "markdown",
   "id": "5a01731d",
   "metadata": {},
   "source": [
    "##### 2.2 Precision, Recall, Specificity,  \n"
   ]
  },
  {
   "cell_type": "markdown",
   "id": "56056724",
   "metadata": {},
   "source": [
    "Precision, recall, sensitivity, and specificity are metrics used to evaluate the performance of binary classification algorithms.\n",
    "\n",
    "   - **Precision** measures the proportion of positive predictions that are actually positive. It is calculated as the number of true positive predictions divided by the sum of true positive and false positive predictions. Precision answers the question **\"Of all the positive predictions made by the classifier, what fraction of them are actually correct?\"**\n",
    "    \n",
    "$$\n",
    "\\text{Precision} = \\frac{TP}{TP + FP}\n",
    "$$\n",
    "\n",
    "  "
   ]
  },
  {
   "cell_type": "markdown",
   "id": "bb22dabf",
   "metadata": {},
   "source": [
    "- **Recall**, also known as **sensitivity**, measures the proportion of positive samples that were correctly classified as positive. It is calculated as the number of true positive predictions divided by the sum of true positive and false negative predictions. Recall answers the question **\"Of all the positive samples in the dataset, what fraction of them were correctly classified as positive by the classifier?\"**\n",
    "\n",
    "$$\n",
    "\\text{Recall} = \\frac{TP}{TP + FN}\n",
    "$$"
   ]
  },
  {
   "cell_type": "markdown",
   "id": "1fbd67e2",
   "metadata": {},
   "source": [
    "- **Specificity** measures the proportion of negative samples that were correctly classified as negative. It is calculated as the number of true negative predictions divided by the sum of true negative and false positive predictions. Specificity answers the question **\"Of all the negative samples in the dataset, what fraction of them were correctly classified as negative by the classifier?\"**\n",
    "\n",
    "$$\n",
    "\\text{Specificity} = \\frac{TN}{FP + TN}\n",
    "$$"
   ]
  },
  {
   "cell_type": "markdown",
   "id": "dcbc91f8",
   "metadata": {},
   "source": [
    "- **F1-score** is the harmonic mean of precision and recall. It is a commonly used metric to summarize the performance of a binary classifier, especially when precision and recall are both important. \n",
    "\n",
    "$$\n",
    "\\text{F1-score} = \\frac{2 * Precision * Recall}{Precision * Recall}\n",
    "$$"
   ]
  },
  {
   "cell_type": "markdown",
   "id": "5e2bef76",
   "metadata": {},
   "source": [
    "Note that precision, recall, sensitivity, specificity, and F1-score are all defined in the context of binary classification algorithms, where the goal is to predict one of two possible classes. For multiclass classification problems, these metrics can be calculated for each class and averaged across classes to obtain a single summary of the classifier's performance.\n"
   ]
  },
  {
   "cell_type": "markdown",
   "id": "dfe3afcd",
   "metadata": {},
   "source": [
    "##### 3.3 ROC curve, AUC"
   ]
  },
  {
   "cell_type": "markdown",
   "id": "94e9015b",
   "metadata": {},
   "source": [
    "The Receiver Operating Characteristic (ROC) curve is a graphical representation of the performance of a binary classifier system as its discrimination threshold is varied. It is a plot of the true positive rate against the false positive rate."
   ]
  },
  {
   "cell_type": "markdown",
   "id": "be6e219d",
   "metadata": {},
   "source": [
    "$$\n",
    "f(x) > t\n",
    "$$\n",
    "\n",
    "$f$: trained classifier\n",
    "\n",
    "$x$: a sample\n",
    "\n",
    "$t$: threshold\n"
   ]
  },
  {
   "cell_type": "code",
   "execution_count": 6,
   "id": "993a4252",
   "metadata": {},
   "outputs": [
    {
     "data": {
      "image/png": "[encoded data removed]",
      "text/plain": [
       "<Figure size 640x480 with 1 Axes>"
      ]
     },
     "metadata": {},
     "output_type": "display_data"
    }
   ],
   "source": [
    "from sklearn import metrics\n",
    "import scipy.stats as stats\n",
    "\n",
    "y_pred_proba = clf.predict_proba(test_X)[::,1]\n",
    "fpr, tpr, _ = metrics.roc_curve(test_y,  y_pred_proba)\n",
    "plt.plot(fpr,tpr, marker='.', label='Logistic regression')\n",
    "plt.plot(np.linspace(0, 1, 10), np.linspace(0, 1, 10), label='Random guess')\n",
    "plt.ylabel('True Positive Rate')\n",
    "plt.xlabel('False Positive Rate')\n",
    "plt.legend()\n",
    "plt.show()"
   ]
  },
  {
   "cell_type": "markdown",
   "id": "27c18616",
   "metadata": {},
   "source": [
    "The **AUC** is the area under the ROC curve and summarizes the overall performance of the classifier. A higher AUC value indicates a better classifier, with a value of 1.0 representing a perfect classifier."
   ]
  },
  {
   "cell_type": "code",
   "execution_count": 7,
   "id": "fe835839",
   "metadata": {},
   "outputs": [
    {
     "data": {
      "image/png": "[encoded data removed]",
      "text/plain": [
       "<Figure size 640x480 with 1 Axes>"
      ]
     },
     "metadata": {},
     "output_type": "display_data"
    }
   ],
   "source": [
    "y_pred_proba = clf.predict_proba(test_X)[::,1]\n",
    "fpr, tpr, _ = metrics.roc_curve(test_y,  y_pred_proba)\n",
    "plt.plot(fpr,tpr, marker='.', label='Logistic regression')\n",
    "plt.ylabel('True Positive Rate')\n",
    "plt.xlabel('False Positive Rate')\n",
    "plt.fill_between(fpr,tpr, step=\"pre\", alpha=0.4)\n",
    "plt.text(0.4, 0.5, 'AUC', dict(size=20))\n",
    "plt.show()"
   ]
  },
  {
   "cell_type": "markdown",
   "id": "8622fe56",
   "metadata": {},
   "source": [
    "##### 2.4 Get a summary report"
   ]
  },
  {
   "cell_type": "code",
   "execution_count": 8,
   "id": "a6a8c764",
   "metadata": {},
   "outputs": [
    {
     "name": "stdout",
     "output_type": "stream",
     "text": [
      "              precision    recall  f1-score   support\n",
      "\n",
      "           0      0.968     0.952     0.960        63\n",
      "           1      0.972     0.981     0.977       108\n",
      "\n",
      "    accuracy                          0.971       171\n",
      "   macro avg      0.970     0.967     0.968       171\n",
      "weighted avg      0.971     0.971     0.971       171\n",
      "\n"
     ]
    }
   ],
   "source": [
    "from sklearn.metrics import classification_report\n",
    "print(classification_report(test_y, pred_y, digits = 3))"
   ]
  },
  {
   "cell_type": "markdown",
   "id": "47be6d1a",
   "metadata": {},
   "source": [
    "## 3, Performance metric for regression"
   ]
  },
  {
   "cell_type": "markdown",
   "id": "d50d8a06",
   "metadata": {},
   "source": [
    "##### 3.1 MSE, RMSE, MAE, "
   ]
  },
  {
   "cell_type": "markdown",
   "id": "f7c64894",
   "metadata": {},
   "source": [
    "- Mean Squared Error (MSE): The average squared difference between the predicted and actual values.\n",
    "\n",
    "\n",
    "- Root Mean Squared Error (RMSE): The square root of Mean Squared Error.\n",
    "\n",
    "\n",
    "- Mean Absolute Error (MAE): The average absolute difference between the predicted and actual values.\n"
   ]
  },
  {
   "cell_type": "code",
   "execution_count": 9,
   "id": "b174091a",
   "metadata": {},
   "outputs": [],
   "source": [
    "from sklearn import datasets\n",
    "\n",
    "diabetes = datasets.load_diabetes()\n",
    "X = diabetes['data'][:, np.newaxis, 2]\n",
    "y = diabetes['target']\n",
    "train_X, test_X, train_y, test_y = train_test_split(X, y , test_size=0.1, random_state=42)"
   ]
  },
  {
   "cell_type": "code",
   "execution_count": 10,
   "id": "32a480ff",
   "metadata": {},
   "outputs": [],
   "source": [
    "from sklearn.linear_model import LinearRegression\n",
    "lm = LinearRegression()\n",
    "lm.fit(train_X, train_y)\n",
    "pred_y = lm.predict(test_X)"
   ]
  },
  {
   "cell_type": "code",
   "execution_count": 11,
   "id": "b926b5d8",
   "metadata": {},
   "outputs": [
    {
     "name": "stdout",
     "output_type": "stream",
     "text": [
      "mean_squared_error: 3835.4416422256345\n",
      "mean_squared_error: 61.93094252654027\n",
      "mean_absolute_error: 51.15098740760275\n"
     ]
    }
   ],
   "source": [
    "from sklearn.metrics import mean_squared_error\n",
    "from sklearn.metrics import mean_absolute_error\n",
    "print('mean_squared_error:', mean_squared_error(test_y, pred_y))\n",
    "\n",
    "print('mean_squared_error:', mean_squared_error(test_y, pred_y, squared=False))\n",
    "\n",
    "print('mean_absolute_error:', mean_absolute_error(test_y, pred_y))"
   ]
  },
  {
   "cell_type": "markdown",
   "id": "3abda55a",
   "metadata": {},
   "source": [
    "Simple verification"
   ]
  },
  {
   "cell_type": "code",
   "execution_count": 12,
   "id": "792d9373",
   "metadata": {},
   "outputs": [
    {
     "name": "stdout",
     "output_type": "stream",
     "text": [
      "mean_squared_error: 3835.4416422256345\n",
      "mean_squared_error: 61.93094252654027\n",
      "mean_absolute_error: 3835.4416422256345\n"
     ]
    }
   ],
   "source": [
    "print('mean_squared_error:', np.mean((test_y - pred_y) ** 2))\n",
    "\n",
    "print('mean_squared_error:', np.sqrt(np.mean((test_y - pred_y) ** 2)))\n",
    "\n",
    "print('mean_absolute_error:', np.abs(np.mean((test_y - pred_y) ** 2)))"
   ]
  },
  {
   "cell_type": "markdown",
   "id": "17a5a39e",
   "metadata": {},
   "source": [
    "##### 3.2 $R^2$"
   ]
  },
  {
   "cell_type": "markdown",
   "id": "df131677",
   "metadata": {},
   "source": [
    "- R-squared (Coefficient of Determination): A measure of how well the model fits the data, with a higher R-squared value indicating a better fit."
   ]
  },
  {
   "cell_type": "markdown",
   "id": "07284600",
   "metadata": {},
   "source": [
    "$$\n",
    "R^{2} = 1 - \\frac{\\text{SSE}}{\\text{SST}}\n",
    "$$\n",
    "\n",
    "\n",
    "SSE: (Sum of Squared Errors) is the sum of the squared differences between the **actual** and **predicted** values.\n",
    "\n",
    "SST: (Total Sum of Squares) is the sum of the squared differences between the **actual** values and the **mean** of the actual values."
   ]
  },
  {
   "cell_type": "code",
   "execution_count": 13,
   "id": "ab40469a",
   "metadata": {},
   "outputs": [
    {
     "name": "stdout",
     "output_type": "stream",
     "text": [
      "R-square: 0.3729745940596795\n"
     ]
    }
   ],
   "source": [
    "from sklearn.metrics import r2_score\n",
    "print('R-square:', r2_score(test_y, pred_y))"
   ]
  },
  {
   "cell_type": "markdown",
   "id": "f05235f1",
   "metadata": {},
   "source": [
    "A value of 1 indicates that the model perfectly fits the data, while a value of 0 indicates that the model does not explain any of the variation in the data."
   ]
  },
  {
   "cell_type": "markdown",
   "id": "0e83bec0",
   "metadata": {},
   "source": [
    "## 4, Choice of performance metric"
   ]
  },
  {
   "cell_type": "markdown",
   "id": "5df5629f",
   "metadata": {},
   "source": [
    "##### 4.1 Example 1\n",
    "\n",
    "Consider fraud detection, for example. Say an action could be fraud or innocent.\n",
    "\n",
    "1: Fraud\n",
    "\n",
    "0: Innocent\n",
    "\n",
    "TP: our model successfully detects fraud action. (loss 0 dollars)\n",
    "\n",
    "TN: our model successfully detects innocent action. (loss 0 dollars)\n",
    "\n",
    "FP: our model classifies the innocent action as fraud. (loss 10 dollars due to the effort to prove innocent for the innocent action)\n",
    "\n",
    "FN: our model classifies the fraud innocent as innocent. (loss of 10000 dollar due to the financial loss)\n",
    "\n",
    "In this case, it is crucial to minimize **false negatives**, as failing to detect a fraudulent transaction could have significant financial consequences. \n",
    "\n",
    "\n",
    "In this case, **recall** is the preferred metric than the precision, as it measures the proportion of actual positive instances that were correctly identified."
   ]
  },
  {
   "cell_type": "markdown",
   "id": "7f16e881",
   "metadata": {},
   "source": [
    "![fraud.jpg](fraud.jpg)"
   ]
  },
  {
   "cell_type": "markdown",
   "id": "deb1a00f",
   "metadata": {},
   "source": [
    "##### 4.2 Example 2\n",
    "\n",
    "Consider filtering the spam email, for example. Say an email could be spam or common. (the loss of dollars is just for illustration, not because of the TA is greedy for money)\n",
    "\n",
    "1: Spam\n",
    "\n",
    "0: Common\n",
    "\n",
    "TP: our model successfully detects Spam email. (loss 0 dollars)\n",
    "\n",
    "TN: our model successfully detects Common email. (loss 0 dollars)\n",
    "\n",
    "**FP**: our model classifies the Common email as Spam. (loss 100 dollars due to miss of some important information, like the cancellation of tomorrow's class)\n",
    "\n",
    "FN: our model classifies the Spam email as Common. (loss 0.1 dollar since spam email looks annoying)\n",
    "\n",
    "In this case, it is crucial to minimize **false positives**, as failing to detect a common email could miss some important information\n",
    "\n",
    "\n",
    "In this case, **precision** is the preferred metric than the recall."
   ]
  },
  {
   "cell_type": "markdown",
   "id": "65200a97",
   "metadata": {},
   "source": [
    "#### 4.3 Discussion: what about Medical Diagnosis?"
   ]
  }
 ],
 "metadata": {
  "kernelspec": {
   "display_name": "Python 3 (ipykernel)",
   "language": "python",
   "name": "python3"
  },
  "language_info": {
   "codemirror_mode": {
    "name": "ipython",
    "version": 3
   },
   "file_extension": ".py",
   "mimetype": "text/x-python",
   "name": "python",
   "nbconvert_exporter": "python",
   "pygments_lexer": "ipython3",
   "version": "3.8.15"
  }
 },
 "nbformat": 4,
 "nbformat_minor": 5
}
