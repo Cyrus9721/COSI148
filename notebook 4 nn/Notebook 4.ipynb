{
 "cells": [
  {
   "cell_type": "markdown",
   "id": "19313466",
   "metadata": {},
   "source": [
    "# Notebook 4: Perceptrons and Multilayer Neural Networks\n",
    "\n",
    "COSI/ECON-148B-1 : Introduction to Machine Learning with Economic Applications\n",
    "\n",
    "Zizhang Chen\n",
    "\n",
    "[zizhang2@brandeis.edu](mailto:zizhang2@brandeis.edu)"
   ]
  },
  {
   "cell_type": "markdown",
   "id": "b8359840",
   "metadata": {},
   "source": [
    "### 1, A brief example of Multilayer Neural Networks in sklearn"
   ]
  },
  {
   "cell_type": "code",
   "execution_count": 1,
   "id": "9a70f360",
   "metadata": {},
   "outputs": [],
   "source": [
    "import numpy as np\n",
    "import pandas as pd\n",
    "from tqdm import tqdm\n",
    "from sklearn.neural_network import MLPClassifier\n",
    "from sklearn.model_selection import train_test_split\n",
    "from sklearn.metrics import classification_report\n",
    "import matplotlib.pyplot as plt\n",
    "import random\n",
    "\n",
    "random.seed(2023)"
   ]
  },
  {
   "cell_type": "code",
   "execution_count": 2,
   "id": "2497d4d5",
   "metadata": {},
   "outputs": [],
   "source": [
    "data_train = pd.read_csv(\"Training.csv\")\n",
    "data_test = pd.read_csv(\"Test.csv\")\n",
    "\n",
    "X_train = data_train.loc[:, data_train.columns!='Label']\n",
    "Y_train = data_train.loc[:, 'Label']\n",
    "X_test = data_test.loc[:, data_test.columns!='Label']\n",
    "Y_test = data_test.loc[:, 'Label']"
   ]
  },
  {
   "cell_type": "code",
   "execution_count": 3,
   "id": "6499ac08",
   "metadata": {},
   "outputs": [],
   "source": [
    "MLP_sklearn = MLPClassifier(hidden_layer_sizes=(50,10), max_iter=1000)"
   ]
  },
  {
   "cell_type": "code",
   "execution_count": 4,
   "id": "753a8743",
   "metadata": {},
   "outputs": [],
   "source": [
    "MLP_sklearn.fit(X_train, Y_train)\n",
    "Y_pred = MLP_sklearn.predict(X_test)"
   ]
  },
  {
   "cell_type": "code",
   "execution_count": 5,
   "id": "a39fa4f6",
   "metadata": {},
   "outputs": [
    {
     "name": "stdout",
     "output_type": "stream",
     "text": [
      "              precision    recall  f1-score   support\n",
      "\n",
      "     class 0       0.85      0.91      0.88       200\n",
      "     class 1       0.90      0.84      0.87       200\n",
      "\n",
      "    accuracy                           0.88       400\n",
      "   macro avg       0.88      0.88      0.87       400\n",
      "weighted avg       0.88      0.88      0.87       400\n",
      "\n"
     ]
    }
   ],
   "source": [
    "target_names = ['class 0', 'class 1']\n",
    "print(classification_report(Y_test, Y_pred, target_names=target_names))"
   ]
  },
  {
   "cell_type": "markdown",
   "id": "e626d479",
   "metadata": {},
   "source": [
    "### 2, Implement a two-layer neural network from scratch with introduction"
   ]
  },
  {
   "cell_type": "markdown",
   "id": "f21b5105",
   "metadata": {},
   "source": [
    "##### 2.1 Parameter initialization \n",
    "\n",
    "Set the initial values of the weights and biases of the neurons in the network. "
   ]
  },
  {
   "cell_type": "markdown",
   "id": "28ef0c2f",
   "metadata": {},
   "source": [
    "<div>\n",
    "<img src=\"init.png\" width=\"300\"/>\n",
    "</div>"
   ]
  },
  {
   "cell_type": "markdown",
   "id": "d3062932",
   "metadata": {},
   "source": [
    "Initializing the weights and biases properly is important because it can affect the **convergence speed and accuracy of the neural network during training.**\n",
    "\n",
    "Some popular initialization: \n",
    "\n",
    "**Xavier initialization** (Understanding the difficulty of training deep feedforward neural networks - Glorot, X. & Bengio, Y. (2010))\n",
    "\n",
    "On the $l^{th}$ layer we have:\n",
    "\n",
    "\\begin{aligned}\n",
    "W^{[l]} & \\sim \\mathcal{N}\\left(\\mu=0, \\sigma^2\\right) \\\\\n",
    "b^{[l]} & =0 \\\\\n",
    "\\sigma & = \\sqrt{\\frac{2}{n_{in} + n_{out}}}\n",
    "\\end{aligned}\n",
    "\n",
    "Where $n_{in}$ and $n_{out}$ in the input and output dimension.\n",
    "\n",
    "**He initialization** (Delving deep into rectifiers: Surpassing human-level performance on ImageNet classification - He, K. et al. (2015))\n",
    "\n",
    "On the $l^{th}$ layer we have:\n",
    "\n",
    "\\begin{aligned}\n",
    "W^{[l]} & \\sim \\mathcal{N}\\left(\\mu=0, \\sigma^2\\right) \\\\\n",
    "b^{[l]} & =0 \\\\\n",
    "\\sigma & = \\sqrt{\\frac{\\text{gain}}{n_{in}}}\n",
    "\\end{aligned}\n",
    "\n",
    "Where $n_{in}$ in the input dimension and $\\text{gain}$ is determined by the activation function we will discuss later. For Relu, $gain=2$"
   ]
  },
  {
   "cell_type": "markdown",
   "id": "57f6580d",
   "metadata": {},
   "source": [
    "Implementation of the above two initilizations"
   ]
  },
  {
   "cell_type": "code",
   "execution_count": 6,
   "id": "ea1aeea2",
   "metadata": {},
   "outputs": [],
   "source": [
    "def xavier_init(n_in, n_out):\n",
    "    std_dev = np.sqrt(2.0 / (n_in + n_out))\n",
    "    W = np.random.normal(0, std_dev, (n_in, n_out))\n",
    "    return W\n",
    "\n",
    "def he_init(n_in, n_out, gain=2):\n",
    "    std_dev = np.sqrt(gain / n_in)\n",
    "    W = np.random.normal(0, std_dev, (n_in, n_out))\n",
    "    return W"
   ]
  },
  {
   "cell_type": "markdown",
   "id": "49b0ece8",
   "metadata": {},
   "source": [
    "#### 2.2 Activation function"
   ]
  },
  {
   "cell_type": "markdown",
   "id": "6ee1e113",
   "metadata": {},
   "source": [
    "In short, the activation function determines to what extent the message from the current neuron will go to the next neuron (or whether or not the present neuron will be activated). \n",
    "\n",
    "An activation function takes the weighted sum of inputs and produces an output. "
   ]
  },
  {
   "cell_type": "markdown",
   "id": "06bae573",
   "metadata": {},
   "source": [
    "<div>\n",
    "<img src=\"act.png\" width=\"500\"/>\n",
    "</div>"
   ]
  },
  {
   "cell_type": "markdown",
   "id": "9b07e850",
   "metadata": {},
   "source": [
    "**Softmax** usually used in output neurons (output layer) in a classification problem. It produces a probability distribution of each class that sums to 1. \n",
    "\n",
    "\n",
    "$$\n",
    "    \\operatorname{Softmax}\\left(x_i\\right)=\\frac{\\exp \\left(x_i\\right)}{\\sum_j \\exp \\left(x_j\\right)}\n",
    "$$\n",
    "\n",
    "Let's see an example"
   ]
  },
  {
   "cell_type": "code",
   "execution_count": 7,
   "id": "1f2400ee",
   "metadata": {},
   "outputs": [
    {
     "name": "stdout",
     "output_type": "stream",
     "text": [
      "[[0.01165623 0.03168492 0.08612854 0.23412166 0.63640865]] sum to 1.0\n"
     ]
    }
   ],
   "source": [
    "def softmax(x):\n",
    "    exp_x = np.exp(x)\n",
    "    return exp_x / np.sum(exp_x, axis=1, keepdims=True)\n",
    "\n",
    "x = np.array([1, 2, 3, 4, 5])\n",
    "x = x.reshape(-1, len(x)) # one row of a matrix\n",
    "softmax_output = softmax(x)\n",
    "\n",
    "print(softmax_output, 'sum to', np.sum(softmax_output))"
   ]
  },
  {
   "attachments": {},
   "cell_type": "markdown",
   "id": "53d55e67",
   "metadata": {},
   "source": [
    "**Relu** (Rectified Linear Unit) is usually used in input and hidden neurons (hidden layer). It outputs the input if it is positive and zero otherwise. It determines whether a neuron should be activated or not.\n",
    "\n",
    "\n",
    "$$\n",
    "    \\operatorname{ReLU}(x)=(x)^{+}=\\max (0, x)\n",
    "$$\n",
    "\n",
    "Let's see an example"
   ]
  },
  {
   "cell_type": "code",
   "execution_count": 8,
   "id": "c863d4a5",
   "metadata": {},
   "outputs": [
    {
     "data": {
      "image/png": "[encoded data removed]",
      "text/plain": [
       "<Figure size 432x288 with 1 Axes>"
      ]
     },
     "metadata": {
      "needs_background": "light"
     },
     "output_type": "display_data"
    }
   ],
   "source": [
    "def relu(X):\n",
    "    return np.maximum(0, X)\n",
    "\n",
    "X = np.linspace(-10, 10, 100)\n",
    "y = relu(X)\n",
    "\n",
    "# Plot the results\n",
    "plt.plot(X, y)\n",
    "plt.xlabel('Input value')\n",
    "plt.ylabel('ReLU output')\n",
    "plt.title('ReLU Activation Function')\n",
    "plt.show()"
   ]
  },
  {
   "cell_type": "markdown",
   "id": "5868e159",
   "metadata": {},
   "source": [
    "##### 2.3 Forward process"
   ]
  },
  {
   "cell_type": "markdown",
   "id": "3bd3efc8",
   "metadata": {},
   "source": [
    "<div>\n",
    "<img src=\"forward.png\" width=\"500\"/>\n",
    "</div>"
   ]
  },
  {
   "cell_type": "markdown",
   "id": "540d7b80",
   "metadata": {},
   "source": [
    "**Forward process** take the input data and pass it through each layer to produce an output or prediction.\n",
    "\n",
    "For a 2-layer neural network use ReLU activation function in hidden layer and Softmax activation function in out out layer, we have: "
   ]
  },
  {
   "cell_type": "markdown",
   "id": "36860447",
   "metadata": {},
   "source": [
    "$$ Z^{[1]} = W^{[1]} X + b^{[1]} $$\n",
    "\n",
    "$$ A^{[1]} = g^{[1]}(Z^{[1]}) = \\text{ReLU}(Z^{[1]}) $$\n",
    "\n",
    "$$ Z^{[2]} = W^{[2]} A^{[1]} + b^{[2]} $$\n",
    "\n",
    "$$ A^{[2]} = g^{[2]}(Z^{[2]}) = \\text{softmax}(Z^{[2]}) $$"
   ]
  },
  {
   "cell_type": "markdown",
   "id": "47780740",
   "metadata": {},
   "source": [
    "$X$: input data\n",
    "\n",
    "$W^{[1]}$: weight parameter of hidden layer\n",
    "\n",
    "$b^{[1]}$: bias vector of hidden layer\n",
    "\n",
    "$Z^{[1]}$: weighted sum\n",
    "\n",
    "$A^{[1]}$: activation of the hidden layer, it is passed to the next layer\n",
    "\n",
    "$W^{[2]}$: weight parameter of output layer \n",
    "\n",
    "$b^{[2]}$: bias vector of output layer\n",
    "\n",
    "$Z^{[2]}$: weighted sum\n",
    "\n",
    "$A^{[2]}$: activation of the output layer"
   ]
  },
  {
   "cell_type": "markdown",
   "id": "7820a1b5",
   "metadata": {},
   "source": [
    "##### 2.4 Loss function"
   ]
  },
  {
   "attachments": {},
   "cell_type": "markdown",
   "id": "a9167a13",
   "metadata": {},
   "source": [
    "2.4.1 Loss function measures the difference between the predicted and the actual values.\n",
    "\n",
    "Some commonly used loss functions:\n",
    "\n",
    "**Cross entropy loss**: commonly used for classification problem\n",
    "\n",
    "$$L=-\\frac{1}{n} \\sum_{i=1}^n y_i \\cdot \\log \\left(\\hat{y}_i\\right)$$\n",
    "\n",
    "where $n$ is the number of data, $y_i$ is the ground true label of data $i$(one hot encoded), $\\hat{y}_i$ is the predicted probability.\n",
    "\n",
    "Here is an example for illustration. Assume all x belongs to 'class 1', **the higher the probability, the lower the cross entropy loss**\n"
   ]
  },
  {
   "cell_type": "code",
   "execution_count": 9,
   "id": "1911d83a",
   "metadata": {},
   "outputs": [
    {
     "data": {
      "image/png": "[encoded data removed]",
      "text/plain": [
       "<Figure size 432x288 with 1 Axes>"
      ]
     },
     "metadata": {
      "needs_background": "light"
     },
     "output_type": "display_data"
    }
   ],
   "source": [
    "x = np.linspace(0.001, 0.999, 100)\n",
    "y_true = np.ones(len(x))\n",
    "y_loss = -y_true * np.log(x) / len(x)\n",
    "plt.plot(x, y_loss)\n",
    "plt.xlabel('Predicted Probability')\n",
    "plt.ylabel('Cross-Entropy Loss')\n",
    "plt.show()"
   ]
  },
  {
   "cell_type": "markdown",
   "id": "d6507bcd",
   "metadata": {},
   "source": [
    "**Mean Square Error loss**: commonly used for regression problem\n",
    "\n",
    "$$L=\\frac{1}{n} \\sum_{i=1}^n\\left(y_i-\\tilde{y}_i\\right)^2$$"
   ]
  },
  {
   "cell_type": "markdown",
   "id": "e96b48e7",
   "metadata": {},
   "source": [
    "2.4.2 The goal of training a neural network is to **minimize its loss function**.\n",
    "\n",
    "**Gradient decent**: minimize the loss function during the training process.\n",
    "\n",
    "<div>\n",
    "<img src=\"grad.png\" width=\"400\"/>\n",
    "</div>\n",
    "\n",
    "It iteratively adjusting the weights in the direction of the steepest descent of the loss function with respect to the parameters.\n"
   ]
  },
  {
   "cell_type": "markdown",
   "id": "96dae9c4",
   "metadata": {},
   "source": [
    "In short the model parameter is updated as:\n",
    "\n",
    "$$\n",
    "W=W -\\alpha \\nabla L\n",
    "$$\n",
    "\n",
    "$\\alpha$: learning rate, a small scaler, it controls the step size at which the optimizer updates the model parameters during training"
   ]
  },
  {
   "cell_type": "markdown",
   "id": "547f8224",
   "metadata": {},
   "source": [
    "##### 2.5 Backward process"
   ]
  },
  {
   "cell_type": "markdown",
   "id": "08296b3e",
   "metadata": {},
   "source": [
    "**2.5.1 Compute the graidents**, here, for example, we use $dZ$ to denoate the gradent of loss function $L$ with respect to $Z$, \n",
    "\n",
    "Ie. $\\frac{\\partial L}{\\partial Z} = dZ$\n",
    "\n",
    "Derivative of cross entropy loss with softmax functon: $ dZ^{[2]} = A^{[2]} - Y $\n",
    "\n",
    "$$ dW^{[2]} = \\frac{1}{n} dZ^{[2]} A^{[1]T} $$\n",
    "\n",
    "$$ db^{[2]} = \\frac{1}{n} \\sum_{i=1}^{n} dZ^{[2]} $$\n",
    "\n",
    "$$ dZ^{[1]} = (W^{[2]T} dZ^{[2]}) * ReLU(Z^{[1]}) $$\n",
    "\n",
    "$$ dW^{[1]} = \\frac{1}{n} dZ^{[1]} X^T $$\n",
    "\n",
    "$$ db^{[1]} = \\frac{1}{n} \\sum_{i=1}^{n} dZ^{1} $$\n",
    "\n",
    "$Y$: the ground true label (in one-hot encoding)\n",
    "\n",
    "$n$: number of data\n",
    "\n",
    "\n",
    "**2.5.2 Update the parameters**, here, we use gradient decents to update the parameters\n",
    "\n",
    "$$ W^{[2]} = W^{[2]} - \\alpha dW^{[2]} $$\n",
    "\n",
    "$$ b^{[2]} = b^{[2]} - \\alpha db^{[2]} $$\n",
    "\n",
    "$$ W^{[1]} = W^{[1]} - \\alpha dW^{[1]} $$\n",
    "\n",
    "$$ b^{[1]} = b^{[1]} - \\alpha db^{[1]} $$\n",
    "\n",
    "where $\\alpha$ is the learning rate."
   ]
  },
  {
   "cell_type": "code",
   "execution_count": 10,
   "id": "3d681dde",
   "metadata": {},
   "outputs": [],
   "source": [
    "class NeuralNetwork_numpy:\n",
    "    def __init__(self, input_size, hidden_size, output_size):\n",
    "        \n",
    "        # Xaview initialization\n",
    "        self.W1 = xavier_init(input_size, hidden_size)\n",
    "        self.b1 = np.zeros((1, hidden_size))\n",
    "        self.W2 = xavier_init(hidden_size, output_size)\n",
    "        self.b2 = np.zeros((1, output_size))\n",
    "        \n",
    "    \n",
    "    def forward(self, X):\n",
    "        \n",
    "        self.z1 = np.dot(X, self.W1) + self.b1\n",
    "        self.a1 = relu(self.z1)\n",
    "        self.z2 = np.dot(self.a1, self.W2) + self.b2\n",
    "        self.a2 = softmax(self.z2)\n",
    "        \n",
    "        return self.a2\n",
    "    \n",
    "    def backward(self, X, y, learning_rate):\n",
    "        # y is for vector\n",
    "        dz2 = self.a2\n",
    "        dz2[range(len(X)), y] -= 1\n",
    "        \n",
    "        dW2 = np.dot(self.a1.T, dz2) / len(X)\n",
    "        db2 = np.sum(dz2, axis=0, keepdims=True) / len(X)\n",
    "        \n",
    "        dz1 = np.dot(dz2, self.W2.T) * (self.z1 > 0)\n",
    "        dW1 = np.dot(X.T, dz1) / len(X)\n",
    "        db1 = np.sum(dz1, axis=0) / len(X)\n",
    "        \n",
    "        # Update the weights and biases\n",
    "        self.W1 -= learning_rate * dW1\n",
    "        self.b1 -= learning_rate * db1\n",
    "        self.W2 -= learning_rate * dW2\n",
    "        self.b2 -= learning_rate * db2\n",
    "    \n",
    "    \n",
    "    def train(self, X, y, num_epochs, learning_rate):\n",
    "        \n",
    "        # Train the network using mini-batch stochastic gradient descent\n",
    "        for i in tqdm(range(num_epochs)):\n",
    "\n",
    "            a2 = self.forward(X)\n",
    "            self.backward(X, y, learning_rate)\n",
    "            \n",
    "    def predict(self, X):\n",
    "        # Predict the class labels for the input data\n",
    "        y_pred = np.argmax(self.forward(X), axis=1)\n",
    "        return y_pred"
   ]
  },
  {
   "cell_type": "code",
   "execution_count": 11,
   "id": "d003863e",
   "metadata": {},
   "outputs": [
    {
     "name": "stderr",
     "output_type": "stream",
     "text": [
      "100%|██████████| 1000/1000 [00:00<00:00, 3135.39it/s]\n"
     ]
    }
   ],
   "source": [
    "X_train_arr = X_train.to_numpy()\n",
    "Y_train_arr = Y_train.to_numpy()\n",
    "\n",
    "X_test_arr = X_test.to_numpy()\n",
    "Y_test_arr = Y_test.to_numpy()\n",
    "\n",
    "MLP_numpy = NeuralNetwork_numpy(12, 6, 2)\n",
    "MLP_numpy.train(X_train_arr, Y_train_arr, learning_rate=0.015, num_epochs=1000)\n",
    "Y_pred_arr = MLP_numpy.predict(X_test_arr)"
   ]
  },
  {
   "cell_type": "code",
   "execution_count": 12,
   "id": "3789d1ba",
   "metadata": {},
   "outputs": [
    {
     "name": "stdout",
     "output_type": "stream",
     "text": [
      "              precision    recall  f1-score   support\n",
      "\n",
      "     class 0       0.90      0.81      0.85       200\n",
      "     class 1       0.83      0.91      0.86       200\n",
      "\n",
      "    accuracy                           0.86       400\n",
      "   macro avg       0.86      0.86      0.86       400\n",
      "weighted avg       0.86      0.86      0.86       400\n",
      "\n"
     ]
    }
   ],
   "source": [
    "target_names = ['class 0', 'class 1']\n",
    "print(classification_report(Y_test_arr, Y_pred_arr, target_names=target_names))"
   ]
  },
  {
   "cell_type": "markdown",
   "id": "939d420f",
   "metadata": {},
   "source": [
    "### 3, After class: implement the same neural network in Pytorch"
   ]
  },
  {
   "cell_type": "code",
   "execution_count": null,
   "id": "05b2e52f",
   "metadata": {},
   "outputs": [],
   "source": []
  },
  {
   "cell_type": "code",
   "execution_count": null,
   "id": "b23ab5e5",
   "metadata": {},
   "outputs": [],
   "source": [
    "  v"
   ]
  }
 ],
 "metadata": {
  "kernelspec": {
   "display_name": "Python 3 (ipykernel)",
   "language": "python",
   "name": "python3"
  },
  "language_info": {
   "codemirror_mode": {
    "name": "ipython",
    "version": 3
   },
   "file_extension": ".py",
   "mimetype": "text/x-python",
   "name": "python",
   "nbconvert_exporter": "python",
   "pygments_lexer": "ipython3",
   "version": "3.9.7"
  }
 },
 "nbformat": 4,
 "nbformat_minor": 5
}
