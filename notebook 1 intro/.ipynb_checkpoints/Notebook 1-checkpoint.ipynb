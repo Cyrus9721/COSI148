{
 "cells": [
  {
   "cell_type": "markdown",
   "id": "71787807",
   "metadata": {},
   "source": [
    "# Notebook 1: Intro to python packages for data analysis\n",
    "\n",
    "COSI/ECON-148B-1 : Introduction to Machine Learning with Economic Applications\n",
    "\n",
    "Zizhang Chen\n",
    "\n",
    "[zizhang2@brandeis.edu](mailto:zizhang2@brandeis.edu)"
   ]
  },
  {
   "cell_type": "markdown",
   "id": "a582e490",
   "metadata": {},
   "source": [
    "## 1. NumPy"
   ]
  },
  {
   "cell_type": "markdown",
   "id": "9ebabc4d",
   "metadata": {},
   "source": [
    "What is NumPy? \n",
    "\n",
    "- It is the cornerstone Python module for scientific computing.\n",
    "- NumPy library contains a multidimensional array and matrix data structures. It provides **ndarray**, a homogeneous n-dimensional array object, with methods to efficiently operate on it.\n",
    "- It is specifically designed for mathematical operations (like linear algebra routines, statistical operations, etc.) on 'big data'\n",
    "\n",
    "Let's go!"
   ]
  },
  {
   "cell_type": "markdown",
   "id": "e60c59e5",
   "metadata": {},
   "source": [
    "### 1.1 Creating NumPy Arrays"
   ]
  },
  {
   "cell_type": "markdown",
   "id": "39e5ac00",
   "metadata": {},
   "source": [
    "N-Dimensional array(**ndarray**) in Numpy\n",
    "\n",
    "- A table of elements/numbers, all of the same type, indexed by a tuple of integers. "
   ]
  },
  {
   "cell_type": "markdown",
   "id": "2b3f9af7",
   "metadata": {},
   "source": [
    "First of first, import numpy\n"
   ]
  },
  {
   "cell_type": "code",
   "execution_count": 1,
   "id": "679d1fe0",
   "metadata": {},
   "outputs": [],
   "source": [
    "import numpy as np"
   ]
  },
  {
   "cell_type": "markdown",
   "id": "cee1c680",
   "metadata": {},
   "source": [
    "#### 1.1.1 Creating Numpy array from a list\n"
   ]
  },
  {
   "cell_type": "code",
   "execution_count": 2,
   "id": "90754aa1",
   "metadata": {},
   "outputs": [
    {
     "name": "stdout",
     "output_type": "stream",
     "text": [
      "[1 2 3 4 5]\n"
     ]
    }
   ],
   "source": [
    "l = [1, 2, 3, 4, 5]\n",
    "numpy_array = np.array(l)\n",
    "print(numpy_array)"
   ]
  },
  {
   "cell_type": "code",
   "execution_count": 3,
   "id": "4084383c",
   "metadata": {},
   "outputs": [
    {
     "data": {
      "text/plain": [
       "array([[1, 2, 3],\n",
       "       [4, 5, 6]])"
      ]
     },
     "execution_count": 3,
     "metadata": {},
     "output_type": "execute_result"
    }
   ],
   "source": [
    "# 2-D array \n",
    "np.array([[1, 2, 3],\n",
    "          [4, 5, 6]])"
   ]
  },
  {
   "cell_type": "code",
   "execution_count": 4,
   "id": "bf67c4e4",
   "metadata": {},
   "outputs": [
    {
     "data": {
      "text/plain": [
       "array([[[0., 0., 0., 0.],\n",
       "        [0., 0., 0., 0.],\n",
       "        [0., 0., 0., 0.]],\n",
       "\n",
       "       [[0., 0., 0., 0.],\n",
       "        [0., 0., 0., 0.],\n",
       "        [0., 0., 0., 0.]]])"
      ]
     },
     "execution_count": 4,
     "metadata": {},
     "output_type": "execute_result"
    }
   ],
   "source": [
    "# 3-D array\n",
    "np.zeros((2,3,4))"
   ]
  },
  {
   "cell_type": "markdown",
   "id": "0e197b29",
   "metadata": {},
   "source": [
    "#### 1.1.2 Creating array with specific type"
   ]
  },
  {
   "cell_type": "code",
   "execution_count": 5,
   "id": "5048b35e",
   "metadata": {},
   "outputs": [
    {
     "name": "stdout",
     "output_type": "stream",
     "text": [
      "[1. 2. 3. 4. 5.]\n"
     ]
    }
   ],
   "source": [
    "l_float = np.array([1, 2, 3, 4, 5], dtype=float)\n",
    "print(l_float)"
   ]
  },
  {
   "cell_type": "markdown",
   "id": "5b85efd9",
   "metadata": {},
   "source": [
    "#### 1.1.3 Some useful functions"
   ]
  },
  {
   "cell_type": "code",
   "execution_count": 6,
   "id": "19a5982a",
   "metadata": {},
   "outputs": [
    {
     "data": {
      "text/plain": [
       "array([0., 0., 0., 0., 0.])"
      ]
     },
     "execution_count": 6,
     "metadata": {},
     "output_type": "execute_result"
    }
   ],
   "source": [
    "# array filled with zeros\n",
    "np.zeros(5)"
   ]
  },
  {
   "cell_type": "code",
   "execution_count": 7,
   "id": "a4ccabf6",
   "metadata": {},
   "outputs": [
    {
     "data": {
      "text/plain": [
       "array([1., 1., 1., 1., 1.])"
      ]
     },
     "execution_count": 7,
     "metadata": {},
     "output_type": "execute_result"
    }
   ],
   "source": [
    "# array filled with ones\n",
    "np.ones(5)"
   ]
  },
  {
   "cell_type": "code",
   "execution_count": 8,
   "id": "2f4e991c",
   "metadata": {},
   "outputs": [
    {
     "data": {
      "text/plain": [
       "array([0, 1, 2, 3, 4])"
      ]
     },
     "execution_count": 8,
     "metadata": {},
     "output_type": "execute_result"
    }
   ],
   "source": [
    "# array with a range of elements\n",
    "np.arange(5)"
   ]
  },
  {
   "cell_type": "code",
   "execution_count": 9,
   "id": "7c04e3b1",
   "metadata": {},
   "outputs": [
    {
     "data": {
      "text/plain": [
       "array([0, 2, 4, 6, 8])"
      ]
     },
     "execution_count": 9,
     "metadata": {},
     "output_type": "execute_result"
    }
   ],
   "source": [
    "# array with a range of elements with specific step size\n",
    "np.arange(0, 10, 2)"
   ]
  },
  {
   "cell_type": "markdown",
   "id": "75f44035",
   "metadata": {},
   "source": [
    "#### 1.1.4 The shape of an ndarray"
   ]
  },
  {
   "cell_type": "markdown",
   "id": "e3e1ef83",
   "metadata": {},
   "source": [
    "![shape.png](shape.png)"
   ]
  },
  {
   "cell_type": "code",
   "execution_count": 10,
   "id": "89e6c843",
   "metadata": {},
   "outputs": [
    {
     "name": "stdout",
     "output_type": "stream",
     "text": [
      "(2, 3)\n"
     ]
    }
   ],
   "source": [
    "# a is a two rows, three column matrix\n",
    "a = np.array([[1, 2, 3], [4, 5, 6]])\n",
    "print(a.shape)"
   ]
  },
  {
   "cell_type": "code",
   "execution_count": 11,
   "id": "7294c3b5",
   "metadata": {},
   "outputs": [
    {
     "name": "stdout",
     "output_type": "stream",
     "text": [
      "(2, 2, 3)\n"
     ]
    }
   ],
   "source": [
    "# You can think of b as two stacked 2*3 matrices \n",
    "b = np.array([[[ 1,  2,  3],\n",
    "               [ 4,  5,  6]],\n",
    "              [[ 7,  8,  9],\n",
    "               [10, 11, 12]]])\n",
    "print(b.shape)\n"
   ]
  },
  {
   "cell_type": "markdown",
   "id": "20290f1f",
   "metadata": {},
   "source": [
    "### 1.2 Basic operations"
   ]
  },
  {
   "cell_type": "markdown",
   "id": "a6d74846",
   "metadata": {},
   "source": [
    "#### 1.2.1 Sorting"
   ]
  },
  {
   "cell_type": "code",
   "execution_count": 12,
   "id": "9df6e2dc",
   "metadata": {},
   "outputs": [
    {
     "data": {
      "text/plain": [
       "array([1, 2, 3, 4, 5, 6, 7, 8])"
      ]
     },
     "execution_count": 12,
     "metadata": {},
     "output_type": "execute_result"
    }
   ],
   "source": [
    "arr = np.array([2, 1, 5, 3, 7, 4, 6, 8])\n",
    "np.sort(arr)"
   ]
  },
  {
   "cell_type": "markdown",
   "id": "2e398a1a",
   "metadata": {},
   "source": [
    "#### 1.2.2 Concatenating two arrays"
   ]
  },
  {
   "cell_type": "code",
   "execution_count": 13,
   "id": "b7d5f48f",
   "metadata": {},
   "outputs": [
    {
     "data": {
      "text/plain": [
       "array([1, 2, 3, 4, 5, 6, 7, 8])"
      ]
     },
     "execution_count": 13,
     "metadata": {},
     "output_type": "execute_result"
    }
   ],
   "source": [
    "a = np.array([1, 2, 3, 4])\n",
    "b = np.array([5, 6, 7, 8])\n",
    "np.concatenate((a, b))"
   ]
  },
  {
   "cell_type": "code",
   "execution_count": 14,
   "id": "927d9532",
   "metadata": {},
   "outputs": [
    {
     "data": {
      "text/plain": [
       "array([[1, 2],\n",
       "       [3, 4],\n",
       "       [5, 6],\n",
       "       [7, 8]])"
      ]
     },
     "execution_count": 14,
     "metadata": {},
     "output_type": "execute_result"
    }
   ],
   "source": [
    "# for 2-d array, concatnate by dimension\n",
    "a = np.array([[1, 2], [3, 4]])\n",
    "b = np.array([[5, 6], [7, 8]])\n",
    "np.concatenate([a, b], axis = 0)"
   ]
  },
  {
   "cell_type": "code",
   "execution_count": 15,
   "id": "9741110f",
   "metadata": {},
   "outputs": [
    {
     "data": {
      "text/plain": [
       "array([[1, 2, 5, 6],\n",
       "       [3, 4, 7, 8]])"
      ]
     },
     "execution_count": 15,
     "metadata": {},
     "output_type": "execute_result"
    }
   ],
   "source": [
    "np.concatenate([a, b], axis = 1)"
   ]
  },
  {
   "cell_type": "markdown",
   "id": "10cf4450",
   "metadata": {},
   "source": [
    "#### 1.2.3 +, * operators and broadcasting\n",
    "\n",
    "- The term broadcasting describes how NumPy treats arrays with different shapes during arithmetic operations. \n",
    "- For the full details on broadcasting, read the official [broadcasting documentation (http://docs.scipy.org/doc/numpy/user/basics.broadcasting.html).\n",
    "\n",
    "- **All the below examples are from the NumPy documentation**."
   ]
  },
  {
   "cell_type": "markdown",
   "id": "e57a15f8",
   "metadata": {},
   "source": [
    "Let's start with a simple example\n",
    "\n",
    "NumPy operations are usually done on pairs of arrays, with the same length on an element-by-element basis. \n",
    "\n",
    "While, broadcasting rule relaxes this constraint when the arrays’ shapes meet certain constraints"
   ]
  },
  {
   "cell_type": "code",
   "execution_count": 16,
   "id": "4fbfcefc",
   "metadata": {},
   "outputs": [
    {
     "data": {
      "text/plain": [
       "array([2., 4., 6.])"
      ]
     },
     "execution_count": 16,
     "metadata": {},
     "output_type": "execute_result"
    }
   ],
   "source": [
    "a = np.array([1.0, 2.0, 3.0])\n",
    "b = np.array([2.0, 2.0, 2.0])\n",
    "a * b"
   ]
  },
  {
   "cell_type": "markdown",
   "id": "7cedb9a0",
   "metadata": {},
   "source": [
    "![broadcasting_1.png](broadcasting_1.png)\n"
   ]
  },
  {
   "cell_type": "markdown",
   "id": "3ad0c885",
   "metadata": {},
   "source": [
    "Let's see one more example"
   ]
  },
  {
   "cell_type": "code",
   "execution_count": 17,
   "id": "5097ecd9",
   "metadata": {},
   "outputs": [
    {
     "data": {
      "text/plain": [
       "array([[ 1.,  2.,  3.],\n",
       "       [11., 12., 13.],\n",
       "       [21., 22., 23.],\n",
       "       [31., 32., 33.]])"
      ]
     },
     "execution_count": 17,
     "metadata": {},
     "output_type": "execute_result"
    }
   ],
   "source": [
    "a = np.array([[ 0.0,  0.0,  0.0],\n",
    "              [10.0, 10.0, 10.0],\n",
    "              [20.0, 20.0, 20.0],\n",
    "              [30.0, 30.0, 30.0]])\n",
    "b = np.array([1.0, 2.0, 3.0])\n",
    "a + b"
   ]
  },
  {
   "cell_type": "markdown",
   "id": "6ddb0038",
   "metadata": {},
   "source": [
    "![broadcasting_2.png](broadcasting_2.png)"
   ]
  },
  {
   "cell_type": "markdown",
   "id": "5b55392f",
   "metadata": {},
   "source": [
    "Let's take a look at a practical example \n",
    "\n",
    "Suppose we have the average Height and Weight of a suffcient amount of different classes of athletes.\n",
    "\n",
    "Given a new athele, we want to give a prediction of which class it belongs to. \n",
    "\n",
    "How?\n",
    "\n",
    "We can find the 'closest' point by calculating the distance between observation and each of the athlete groups"
   ]
  },
  {
   "cell_type": "markdown",
   "id": "bb130cbd",
   "metadata": {},
   "source": [
    "![broadcasting_3.png](broadcasting_3.png)"
   ]
  },
  {
   "cell_type": "code",
   "execution_count": 18,
   "id": "63e527c3",
   "metadata": {},
   "outputs": [
    {
     "name": "stdout",
     "output_type": "stream",
     "text": [
      "Obesrvation is predicted as: basketball player\n"
     ]
    }
   ],
   "source": [
    "class_list = ['basketball player', 'football player', 'marathon runner', 'female gymnast']\n",
    "observation = np.array([111.0, 188.0])\n",
    "codes = np.array([[102.0, 203.0],\n",
    "               [132.0, 193.0],\n",
    "               [45.0, 155.0],\n",
    "               [57.0, 173.0]])\n",
    "diff = codes - observation    # the broadcast happens here\n",
    "dist = np.sqrt(np.sum(diff**2, axis = 1))\n",
    "idx = np.argmin(dist)\n",
    "print('Obesrvation is predicted as:', class_list[idx])"
   ]
  },
  {
   "cell_type": "markdown",
   "id": "265eca0c",
   "metadata": {},
   "source": [
    "(by the way I think this example is kinda racist, not sure whether good for presenting)"
   ]
  },
  {
   "cell_type": "markdown",
   "id": "6f82bfb2",
   "metadata": {},
   "source": [
    "#### 1.2.4 Changing the array shape"
   ]
  },
  {
   "cell_type": "markdown",
   "id": "a8c870a2",
   "metadata": {},
   "source": [
    "Flattening the array"
   ]
  },
  {
   "cell_type": "code",
   "execution_count": 19,
   "id": "bbb48cb2",
   "metadata": {},
   "outputs": [
    {
     "data": {
      "text/plain": [
       "array([1, 2, 3, 4, 5, 6])"
      ]
     },
     "execution_count": 19,
     "metadata": {},
     "output_type": "execute_result"
    }
   ],
   "source": [
    "x = np.array([[1, 2, 3], [4, 5, 6]])\n",
    "np.ravel(x)"
   ]
  },
  {
   "cell_type": "code",
   "execution_count": 20,
   "id": "fe69becc",
   "metadata": {},
   "outputs": [
    {
     "data": {
      "text/plain": [
       "array([1, 2, 3, 4, 5, 6])"
      ]
     },
     "execution_count": 20,
     "metadata": {},
     "output_type": "execute_result"
    }
   ],
   "source": [
    "x.reshape(-1)"
   ]
  },
  {
   "cell_type": "markdown",
   "id": "c189658d",
   "metadata": {},
   "source": [
    "Reshaping the array"
   ]
  },
  {
   "cell_type": "code",
   "execution_count": 21,
   "id": "d4770e1d",
   "metadata": {},
   "outputs": [
    {
     "data": {
      "text/plain": [
       "array([[0, 1],\n",
       "       [2, 3],\n",
       "       [4, 5]])"
      ]
     },
     "execution_count": 21,
     "metadata": {},
     "output_type": "execute_result"
    }
   ],
   "source": [
    "a = np.arange(6).reshape((3, 2))\n",
    "a"
   ]
  },
  {
   "cell_type": "markdown",
   "id": "bcb83f89",
   "metadata": {},
   "source": [
    "![reshape.png](reshape.png)"
   ]
  },
  {
   "cell_type": "code",
   "execution_count": 22,
   "id": "507e1804",
   "metadata": {},
   "outputs": [
    {
     "data": {
      "text/plain": [
       "array([[0, 1, 2],\n",
       "       [3, 4, 5]])"
      ]
     },
     "execution_count": 22,
     "metadata": {},
     "output_type": "execute_result"
    }
   ],
   "source": [
    "np.reshape(a, (2, 3))"
   ]
  },
  {
   "cell_type": "code",
   "execution_count": 23,
   "id": "dba360e2",
   "metadata": {},
   "outputs": [
    {
     "data": {
      "text/plain": [
       "array([[0, 1, 2],\n",
       "       [3, 4, 5]])"
      ]
     },
     "execution_count": 23,
     "metadata": {},
     "output_type": "execute_result"
    }
   ],
   "source": [
    "# this is equivalent to flatten then reshape\n",
    "np.reshape(np.ravel(a), (2, 3)) "
   ]
  },
  {
   "cell_type": "markdown",
   "id": "77523c3d",
   "metadata": {},
   "source": [
    "Transpose the array"
   ]
  },
  {
   "cell_type": "code",
   "execution_count": 24,
   "id": "99bba5e1",
   "metadata": {},
   "outputs": [
    {
     "name": "stdout",
     "output_type": "stream",
     "text": [
      "[[1 2]\n",
      " [3 4]] \n",
      "\n",
      "[[1 3]\n",
      " [2 4]]\n"
     ]
    }
   ],
   "source": [
    "a = np.array([[1, 2], [3, 4]])\n",
    "print(a, '\\n')\n",
    "\n",
    "b = np.transpose(a)\n",
    "print(b)"
   ]
  },
  {
   "cell_type": "markdown",
   "id": "c5731f23",
   "metadata": {},
   "source": [
    "#### 1.2.5 Indexing array"
   ]
  },
  {
   "cell_type": "markdown",
   "id": "3970d12c",
   "metadata": {},
   "source": [
    "Indexing and slicing"
   ]
  },
  {
   "cell_type": "code",
   "execution_count": 25,
   "id": "9efd6142",
   "metadata": {},
   "outputs": [
    {
     "data": {
      "text/plain": [
       "array([[ 0,  1,  2],\n",
       "       [ 3,  4,  5],\n",
       "       [ 6,  7,  8],\n",
       "       [ 9, 10, 11]])"
      ]
     },
     "execution_count": 25,
     "metadata": {},
     "output_type": "execute_result"
    }
   ],
   "source": [
    "a = np.arange(12).reshape(4, 3)\n",
    "a"
   ]
  },
  {
   "cell_type": "code",
   "execution_count": 26,
   "id": "6c32c1e2",
   "metadata": {},
   "outputs": [
    {
     "name": "stdout",
     "output_type": "stream",
     "text": [
      "Indexing the element on first 2 row and first 2 columns: 4\n"
     ]
    }
   ],
   "source": [
    "print('Indexing the element on first 2 row and first 2 columns:', a[1, 1])"
   ]
  },
  {
   "cell_type": "code",
   "execution_count": 27,
   "id": "bcd74082",
   "metadata": {},
   "outputs": [
    {
     "name": "stdout",
     "output_type": "stream",
     "text": [
      "slicing the first 2 row and first 2 columns \n",
      " [[0 1]\n",
      " [3 4]]\n"
     ]
    }
   ],
   "source": [
    "temp = a[:2, :2]\n",
    "print('slicing the first 2 row and first 2 columns \\n', temp)"
   ]
  },
  {
   "cell_type": "code",
   "execution_count": 28,
   "id": "9d23c3e0",
   "metadata": {},
   "outputs": [
    {
     "name": "stdout",
     "output_type": "stream",
     "text": [
      "slicing the odd rows and odd columns \n",
      " [[0 2]\n",
      " [6 8]]\n"
     ]
    }
   ],
   "source": [
    "temp2 = a[::2, ::2]\n",
    "print('slicing the odd rows and odd columns \\n', temp2)"
   ]
  },
  {
   "cell_type": "markdown",
   "id": "f1493a99",
   "metadata": {},
   "source": [
    "Boolean array indexing: pick elements from array which satisfy some condition."
   ]
  },
  {
   "cell_type": "code",
   "execution_count": 29,
   "id": "df124b3f",
   "metadata": {},
   "outputs": [
    {
     "data": {
      "text/plain": [
       "array([0, 9, 2, 1, 3, 5, 6, 4, 8, 7])"
      ]
     },
     "execution_count": 29,
     "metadata": {},
     "output_type": "execute_result"
    }
   ],
   "source": [
    "b = np.arange(10)\n",
    "np.random.shuffle(b)\n",
    "b"
   ]
  },
  {
   "cell_type": "code",
   "execution_count": 30,
   "id": "af2a00dc",
   "metadata": {},
   "outputs": [
    {
     "name": "stdout",
     "output_type": "stream",
     "text": [
      "[9 5 6 8 7]\n"
     ]
    }
   ],
   "source": [
    "# select element greater or equal to 5\n",
    "five_up = (b >= 5)\n",
    "print(b[five_up])"
   ]
  },
  {
   "cell_type": "code",
   "execution_count": 31,
   "id": "0abe880a",
   "metadata": {},
   "outputs": [
    {
     "name": "stdout",
     "output_type": "stream",
     "text": [
      "[0 2 6 4 8]\n"
     ]
    }
   ],
   "source": [
    "# select elements that are divisible by 2:\n",
    "divisible_by_2 = b[b%2==0]\n",
    "print(divisible_by_2)"
   ]
  },
  {
   "cell_type": "code",
   "execution_count": 32,
   "id": "ea1688dd",
   "metadata": {},
   "outputs": [
    {
     "name": "stdout",
     "output_type": "stream",
     "text": [
      "[9 3 5 6 4 8 7]\n"
     ]
    }
   ],
   "source": [
    "# select elements within certain range\n",
    "c = b[(b > 2) & (b < 11)]\n",
    "print(c)"
   ]
  },
  {
   "cell_type": "markdown",
   "id": "bc554abc",
   "metadata": {},
   "source": [
    "A better illustration"
   ]
  },
  {
   "cell_type": "markdown",
   "id": "1d082632",
   "metadata": {},
   "source": [
    "![indexing.jpg](indexing.jpg)"
   ]
  },
  {
   "cell_type": "markdown",
   "id": "c6d9a646",
   "metadata": {},
   "source": [
    "##### 1.2.5 Insert, delete and repeat"
   ]
  },
  {
   "cell_type": "markdown",
   "id": "e15c0838",
   "metadata": {},
   "source": [
    "Insert"
   ]
  },
  {
   "cell_type": "code",
   "execution_count": 33,
   "id": "dfac175b",
   "metadata": {},
   "outputs": [
    {
     "data": {
      "text/plain": [
       "array([1, 2, 3, 4, 5])"
      ]
     },
     "execution_count": 33,
     "metadata": {},
     "output_type": "execute_result"
    }
   ],
   "source": [
    "a = np.array([1, 2, 3, 4, 5])\n",
    "a"
   ]
  },
  {
   "cell_type": "code",
   "execution_count": 34,
   "id": "fede3c17",
   "metadata": {},
   "outputs": [
    {
     "data": {
      "text/plain": [
       "array([1, 5, 2, 3, 4, 5])"
      ]
     },
     "execution_count": 34,
     "metadata": {},
     "output_type": "execute_result"
    }
   ],
   "source": [
    "# insert 5 at position 1\n",
    "np.insert(a, obj = 1, values = 5)"
   ]
  },
  {
   "cell_type": "code",
   "execution_count": 35,
   "id": "7bed2654",
   "metadata": {},
   "outputs": [
    {
     "data": {
      "text/plain": [
       "array([[1, 1],\n",
       "       [2, 2],\n",
       "       [3, 3]])"
      ]
     },
     "execution_count": 35,
     "metadata": {},
     "output_type": "execute_result"
    }
   ],
   "source": [
    "a = np.array([[1, 1], [2, 2], [3, 3]])\n",
    "a"
   ]
  },
  {
   "cell_type": "code",
   "execution_count": 36,
   "id": "be6e4526",
   "metadata": {},
   "outputs": [
    {
     "data": {
      "text/plain": [
       "array([1, 5, 1, 2, 2, 3, 3])"
      ]
     },
     "execution_count": 36,
     "metadata": {},
     "output_type": "execute_result"
    }
   ],
   "source": [
    "# if axis(dimension) is not specified, then, the array is flattened first \n",
    "np.insert(a, 1, 5)"
   ]
  },
  {
   "cell_type": "code",
   "execution_count": 37,
   "id": "607f11d2",
   "metadata": {},
   "outputs": [
    {
     "data": {
      "text/plain": [
       "array([[1, 5, 1],\n",
       "       [2, 5, 2],\n",
       "       [3, 5, 3]])"
      ]
     },
     "execution_count": 37,
     "metadata": {},
     "output_type": "execute_result"
    }
   ],
   "source": [
    "np.insert(a, 1, 5, axis=1)"
   ]
  },
  {
   "cell_type": "markdown",
   "id": "e940c704",
   "metadata": {},
   "source": [
    "Delete\n",
    "\n",
    "Usually, we use boolean mask for deteting values of an array"
   ]
  },
  {
   "cell_type": "code",
   "execution_count": 38,
   "id": "2dbe57a3",
   "metadata": {},
   "outputs": [
    {
     "name": "stdout",
     "output_type": "stream",
     "text": [
      "[0 1 2 3 4 5 6 7 8 9]\n",
      "deleting the values at position 0, 2, 4\n",
      "[1 3 5 6 7 8 9]\n"
     ]
    }
   ],
   "source": [
    "arr = np.arange(10)\n",
    "print(arr)\n",
    "mask = np.ones(len(arr), dtype=bool)\n",
    "print('deleting the values at position 0, 2, 4')\n",
    "mask[[0,2,4]] = False\n",
    "result = arr[mask]\n",
    "print(result)"
   ]
  },
  {
   "cell_type": "markdown",
   "id": "0ea1be26",
   "metadata": {},
   "source": [
    "We can also use np.delete but not preferrable"
   ]
  },
  {
   "cell_type": "code",
   "execution_count": 39,
   "id": "38b1314c",
   "metadata": {},
   "outputs": [
    {
     "data": {
      "text/plain": [
       "array([1, 3, 5, 6, 7, 8, 9])"
      ]
     },
     "execution_count": 39,
     "metadata": {},
     "output_type": "execute_result"
    }
   ],
   "source": [
    "np.delete(arr, [0,2,4], axis=0)"
   ]
  },
  {
   "cell_type": "markdown",
   "id": "55cc90d6",
   "metadata": {},
   "source": [
    "Repeat"
   ]
  },
  {
   "cell_type": "code",
   "execution_count": 40,
   "id": "609a1131",
   "metadata": {},
   "outputs": [
    {
     "data": {
      "text/plain": [
       "array([9, 9, 9, 9])"
      ]
     },
     "execution_count": 40,
     "metadata": {},
     "output_type": "execute_result"
    }
   ],
   "source": [
    "# repeat 9 four times\n",
    "np.repeat(9, 4)"
   ]
  },
  {
   "cell_type": "markdown",
   "id": "2eb4af6d",
   "metadata": {},
   "source": [
    "### 1.3 Mathematical functions"
   ]
  },
  {
   "cell_type": "markdown",
   "id": "11649bac",
   "metadata": {},
   "source": [
    "##### 1.3.1 Sums and products"
   ]
  },
  {
   "cell_type": "markdown",
   "id": "ca66047d",
   "metadata": {},
   "source": [
    "Product of array elements "
   ]
  },
  {
   "cell_type": "code",
   "execution_count": 41,
   "id": "96a6400c",
   "metadata": {},
   "outputs": [
    {
     "name": "stdout",
     "output_type": "stream",
     "text": [
      "[[1. 2.]\n",
      " [3. 4.]]\n"
     ]
    },
    {
     "data": {
      "text/plain": [
       "24.0"
      ]
     },
     "execution_count": 41,
     "metadata": {},
     "output_type": "execute_result"
    }
   ],
   "source": [
    "# when dimension is not specified, return the product of all elements\n",
    "a = np.array([[1., 2.], [3., 4.]])\n",
    "print(a)\n",
    "np.prod(a)"
   ]
  },
  {
   "cell_type": "code",
   "execution_count": 42,
   "id": "b4fb31f5",
   "metadata": {},
   "outputs": [
    {
     "data": {
      "text/plain": [
       "array([ 2., 12.])"
      ]
     },
     "execution_count": 42,
     "metadata": {},
     "output_type": "execute_result"
    }
   ],
   "source": [
    "# product by columns\n",
    "np.prod(a, axis=1)"
   ]
  },
  {
   "cell_type": "code",
   "execution_count": 43,
   "id": "caa4afb3",
   "metadata": {},
   "outputs": [
    {
     "data": {
      "text/plain": [
       "array([3., 8.])"
      ]
     },
     "execution_count": 43,
     "metadata": {},
     "output_type": "execute_result"
    }
   ],
   "source": [
    "# product by rows\n",
    "np.prod(a, axis=0)"
   ]
  },
  {
   "cell_type": "markdown",
   "id": "9ff20f71",
   "metadata": {},
   "source": [
    "Sum of elements"
   ]
  },
  {
   "cell_type": "code",
   "execution_count": 44,
   "id": "b3e6af16",
   "metadata": {},
   "outputs": [
    {
     "data": {
      "text/plain": [
       "array([[0, 1],\n",
       "       [0, 5]])"
      ]
     },
     "execution_count": 44,
     "metadata": {},
     "output_type": "execute_result"
    }
   ],
   "source": [
    "# similar to np.prod\n",
    "b = np.array([[0, 1], [0, 5]])\n",
    "b"
   ]
  },
  {
   "cell_type": "code",
   "execution_count": 45,
   "id": "3dbefbaf",
   "metadata": {},
   "outputs": [
    {
     "name": "stdout",
     "output_type": "stream",
     "text": [
      "6\n",
      "[0 6]\n",
      "[1 5]\n"
     ]
    }
   ],
   "source": [
    "# sum all \n",
    "print(np.sum(b))\n",
    "# sum by rows\n",
    "print(np.sum(b, axis=0))\n",
    "# sum by columns\n",
    "print(np.sum(b, axis=1))"
   ]
  },
  {
   "cell_type": "markdown",
   "id": "1ef5ff98",
   "metadata": {},
   "source": [
    "#### 1.3.2 Rounding"
   ]
  },
  {
   "cell_type": "code",
   "execution_count": 46,
   "id": "b7687f08",
   "metadata": {},
   "outputs": [
    {
     "data": {
      "text/plain": [
       "56131.513"
      ]
     },
     "execution_count": 46,
     "metadata": {},
     "output_type": "execute_result"
    }
   ],
   "source": [
    "# round by 3 decimial\n",
    "np.round(56131.5129837465, 3)"
   ]
  },
  {
   "cell_type": "code",
   "execution_count": 47,
   "id": "7c10854e",
   "metadata": {},
   "outputs": [
    {
     "data": {
      "text/plain": [
       "array([-2., -2., -1.,  0.,  1.,  1.,  2.])"
      ]
     },
     "execution_count": 47,
     "metadata": {},
     "output_type": "execute_result"
    }
   ],
   "source": [
    "# return the floor of the input \n",
    "a = np.array([-1.7, -1.5, -0.2, 0.2, 1.5, 1.7, 2.1])\n",
    "np.floor(a)"
   ]
  },
  {
   "cell_type": "code",
   "execution_count": 48,
   "id": "a859e196",
   "metadata": {},
   "outputs": [
    {
     "data": {
      "text/plain": [
       "array([-1., -1., -0.,  1.,  2.,  2.,  3.])"
      ]
     },
     "execution_count": 48,
     "metadata": {},
     "output_type": "execute_result"
    }
   ],
   "source": [
    "# return the ceiling of the input\n",
    "a = np.array([-1.7, -1.5, -0.2, 0.2, 1.5, 1.7, 2.1])\n",
    "np.ceil(a)"
   ]
  },
  {
   "cell_type": "markdown",
   "id": "1a69335d",
   "metadata": {},
   "source": [
    "#### 1.3.3 Exponents and logarithms\n"
   ]
  },
  {
   "cell_type": "code",
   "execution_count": 49,
   "id": "c35a912b",
   "metadata": {},
   "outputs": [
    {
     "data": {
      "text/plain": [
       "array([ 1.        ,  2.71828183,  7.3890561 , 20.08553692, 54.59815003])"
      ]
     },
     "execution_count": 49,
     "metadata": {},
     "output_type": "execute_result"
    }
   ],
   "source": [
    "# Calculate the exponential of all elements in the input array. check also np.exp2\n",
    "a = np.arange(5)\n",
    "np.exp(a)"
   ]
  },
  {
   "cell_type": "code",
   "execution_count": 50,
   "id": "432a40d2",
   "metadata": {},
   "outputs": [
    {
     "data": {
      "text/plain": [
       "array([ 1.        ,  2.71828183,  7.3890561 , 20.08553692, 54.59815003])"
      ]
     },
     "execution_count": 50,
     "metadata": {},
     "output_type": "execute_result"
    }
   ],
   "source": [
    "np.e ** a"
   ]
  },
  {
   "cell_type": "code",
   "execution_count": 51,
   "id": "8237147f",
   "metadata": {},
   "outputs": [
    {
     "data": {
      "text/plain": [
       "array([0., 1., 2.])"
      ]
     },
     "execution_count": 51,
     "metadata": {},
     "output_type": "execute_result"
    }
   ],
   "source": [
    "# Calculate the element-wise natural logarithm, \n",
    "np.log([1, np.e, np.e**2])"
   ]
  },
  {
   "cell_type": "markdown",
   "id": "b6c8b468",
   "metadata": {},
   "source": [
    "### 1.4 Functional programming"
   ]
  },
  {
   "cell_type": "markdown",
   "id": "8dbe44b2",
   "metadata": {},
   "source": [
    "#### 1.4.1 Apply a function to 1-D slices along the given axis"
   ]
  },
  {
   "cell_type": "markdown",
   "id": "c1615c41",
   "metadata": {},
   "source": [
    "np.apply_along_axis"
   ]
  },
  {
   "cell_type": "code",
   "execution_count": 52,
   "id": "2fbe233d",
   "metadata": {},
   "outputs": [
    {
     "data": {
      "text/plain": [
       "array([[1, 2, 3],\n",
       "       [4, 5, 6],\n",
       "       [7, 8, 9]])"
      ]
     },
     "execution_count": 52,
     "metadata": {},
     "output_type": "execute_result"
    }
   ],
   "source": [
    "b = np.array([[1,2,3], [4,5,6], [7,8,9]])\n",
    "b"
   ]
  },
  {
   "cell_type": "code",
   "execution_count": 53,
   "id": "9780a8a7",
   "metadata": {},
   "outputs": [],
   "source": [
    "def my_func(a):\n",
    "    \"\"\"Average first and last element of a 1-D array\"\"\"\n",
    "    return (a[0] + a[-1]) * 0.5"
   ]
  },
  {
   "cell_type": "code",
   "execution_count": 54,
   "id": "c20f3b78",
   "metadata": {},
   "outputs": [
    {
     "name": "stdout",
     "output_type": "stream",
     "text": [
      "[4. 5. 6.]\n",
      "[4. 5. 6.]\n"
     ]
    }
   ],
   "source": [
    "# Average first and last element by rows \n",
    "print(np.apply_along_axis(my_func, 0, b))\n",
    "\n",
    "print(np.array([(1 + 7) / 2, (2 + 8) / 2, (3 + 9) / 2]))"
   ]
  },
  {
   "cell_type": "code",
   "execution_count": 55,
   "id": "c39529bd",
   "metadata": {},
   "outputs": [
    {
     "name": "stdout",
     "output_type": "stream",
     "text": [
      "[2. 5. 8.]\n",
      "[2. 5. 8.]\n"
     ]
    }
   ],
   "source": [
    "# Average first and last element by columns\n",
    "print(np.apply_along_axis(my_func, 1, b))\n",
    "\n",
    "print(np.array([(1 + 3) / 2, (4 + 6) / 2, (7 + 9) / 2]))"
   ]
  },
  {
   "cell_type": "markdown",
   "id": "43faa73c",
   "metadata": {},
   "source": [
    "#### 1.4.2 Apply a function repeatedly over multiple axes"
   ]
  },
  {
   "cell_type": "markdown",
   "id": "4777f19d",
   "metadata": {},
   "source": [
    "np.apply_over_axes"
   ]
  },
  {
   "cell_type": "code",
   "execution_count": 56,
   "id": "c7b2ca4f",
   "metadata": {},
   "outputs": [
    {
     "data": {
      "text/plain": [
       "array([[[ 0,  1,  2,  3],\n",
       "        [ 4,  5,  6,  7],\n",
       "        [ 8,  9, 10, 11]],\n",
       "\n",
       "       [[12, 13, 14, 15],\n",
       "        [16, 17, 18, 19],\n",
       "        [20, 21, 22, 23]]])"
      ]
     },
     "execution_count": 56,
     "metadata": {},
     "output_type": "execute_result"
    }
   ],
   "source": [
    "a = np.arange(24).reshape(2,3,4)\n",
    "a"
   ]
  },
  {
   "cell_type": "markdown",
   "id": "32d50be6",
   "metadata": {},
   "source": [
    "Imagine a two(first dimension) matrices with 3(second dimension) rows and 4(third dimenstion) columns.\n",
    "\n",
    "We want to apply the sum over the first and the thrid dimension.\n",
    "\n",
    "More like 'squeezing' the 3d-array but keep the dimension unchanged"
   ]
  },
  {
   "cell_type": "code",
   "execution_count": 57,
   "id": "552f5b24",
   "metadata": {},
   "outputs": [
    {
     "data": {
      "text/plain": [
       "array([[[ 60],\n",
       "        [ 92],\n",
       "        [124]]])"
      ]
     },
     "execution_count": 57,
     "metadata": {},
     "output_type": "execute_result"
    }
   ],
   "source": [
    "np.apply_over_axes(np.sum, a, [0,2])\n",
    "\n",
    "# 60 = 0+1+2+3+12+13+14+15\n",
    "# 92 = ..."
   ]
  },
  {
   "cell_type": "markdown",
   "id": "bc9f58fd",
   "metadata": {},
   "source": [
    "### 1.5 Some useful resources\n",
    "- Numpy documentations: https://numpy.org/doc/stable/reference/index.html\n",
    "- Stack overflow: https://stackoverflow.com/\n",
    "- After class exercise, this is a collection of numpy problems from stack overflow, numpy documentation, numpy mailing list: [Numpy-100 exercise (https://github.com/rougier/numpy-100)."
   ]
  },
  {
   "cell_type": "code",
   "execution_count": null,
   "id": "934fb867",
   "metadata": {},
   "outputs": [],
   "source": []
  },
  {
   "cell_type": "markdown",
   "id": "a4ffdad4",
   "metadata": {},
   "source": [
    "## 2. Pandas"
   ]
  },
  {
   "cell_type": "markdown",
   "id": "ef039b16",
   "metadata": {},
   "source": [
    "What is Pandas? \n",
    "\n",
    "- Pandas is a Python library used for working with data sets.\n",
    "- Pandas has functions for ***analyzing, cleaning, exploring, and manipulating*** data.\n",
    "\n",
    "In the second part, we will introduce Pandas by taking look at our data for the term project\n",
    "\n",
    "Let's get started!"
   ]
  },
  {
   "cell_type": "markdown",
   "id": "174488d5",
   "metadata": {},
   "source": [
    "### 2.1 Installation guideline"
   ]
  },
  {
   "cell_type": "markdown",
   "id": "44a57a3b",
   "metadata": {},
   "source": [
    "In your comment line, run:\n",
    "\n",
    "    pip install pandas\n",
    "\n",
    "Or\n",
    "\n",
    "    conda install pandas"
   ]
  },
  {
   "cell_type": "code",
   "execution_count": 58,
   "id": "bf08371e",
   "metadata": {},
   "outputs": [
    {
     "name": "stdout",
     "output_type": "stream",
     "text": [
      "Requirement already satisfied: pandas in /home/zizhang/anaconda3/lib/python3.8/site-packages (1.5.2)\r\n",
      "Requirement already satisfied: python-dateutil>=2.8.1 in /home/zizhang/anaconda3/lib/python3.8/site-packages (from pandas) (2.8.2)\r\n",
      "Requirement already satisfied: pytz>=2020.1 in /home/zizhang/anaconda3/lib/python3.8/site-packages (from pandas) (2022.7.1)\r\n",
      "Requirement already satisfied: numpy>=1.20.3 in /home/zizhang/anaconda3/lib/python3.8/site-packages (from pandas) (1.22.4)\r\n",
      "Requirement already satisfied: six>=1.5 in /home/zizhang/anaconda3/lib/python3.8/site-packages (from python-dateutil>=2.8.1->pandas) (1.16.0)\r\n"
     ]
    }
   ],
   "source": [
    "# Or you can run the chunk\n",
    "!pip install pandas\n",
    "\n",
    "# for conda preferred: run\n",
    "# !conda install pandas"
   ]
  },
  {
   "cell_type": "markdown",
   "id": "46dbad30",
   "metadata": {},
   "source": [
    "A complete installation guideline can be found at: https://pandas.pydata.org/docs/getting_started/install.html"
   ]
  },
  {
   "cell_type": "markdown",
   "id": "00582ba7",
   "metadata": {},
   "source": [
    "### 2.2 DataFrame and Series"
   ]
  },
  {
   "cell_type": "markdown",
   "id": "b73a84ab",
   "metadata": {},
   "source": [
    "What is a DataFrames?\n",
    "\n",
    "- 2-D data structure, like a 2 dimensional array, or a table with rows and columns, more like excel\n",
    "- '2-D numpy array with flexiable type of each columns'\n",
    "\n",
    "What is a Series\n",
    "\n",
    "- It is a one-dimensional array holding data of any type.\n",
    "- 'a column in the DataFrame'\n"
   ]
  },
  {
   "cell_type": "code",
   "execution_count": 59,
   "id": "0aabc42d",
   "metadata": {},
   "outputs": [],
   "source": [
    "import pandas as pd"
   ]
  },
  {
   "cell_type": "markdown",
   "id": "f8bb1eb4",
   "metadata": {},
   "source": [
    "![dataframe.svg](dataframe.svg)"
   ]
  },
  {
   "cell_type": "markdown",
   "id": "05c6cb0d",
   "metadata": {},
   "source": [
    "##### 2.2.1 Create a DataFrame from scratch"
   ]
  },
  {
   "cell_type": "markdown",
   "id": "c60e0099",
   "metadata": {},
   "source": [
    "pd.DataFrame(yourdata), can either be numpy array, dict etc. "
   ]
  },
  {
   "cell_type": "code",
   "execution_count": 60,
   "id": "6e103ed5",
   "metadata": {},
   "outputs": [],
   "source": [
    "data = {\n",
    "  \"calories\": [420, 380, 390],\n",
    "  \"duration\": [50, 40, 45]\n",
    "}\n"
   ]
  },
  {
   "cell_type": "code",
   "execution_count": 61,
   "id": "5b548a88",
   "metadata": {},
   "outputs": [
    {
     "data": {
      "text/html": [
       "<div>\n",
       "<style scoped>\n",
       "    .dataframe tbody tr th:only-of-type {\n",
       "        vertical-align: middle;\n",
       "    }\n",
       "\n",
       "    .dataframe tbody tr th {\n",
       "        vertical-align: top;\n",
       "    }\n",
       "\n",
       "    .dataframe thead th {\n",
       "        text-align: right;\n",
       "    }\n",
       "</style>\n",
       "<table border=\"1\" class=\"dataframe\">\n",
       "  <thead>\n",
       "    <tr style=\"text-align: right;\">\n",
       "      <th></th>\n",
       "      <th>calories</th>\n",
       "      <th>duration</th>\n",
       "    </tr>\n",
       "  </thead>\n",
       "  <tbody>\n",
       "    <tr>\n",
       "      <th>0</th>\n",
       "      <td>420</td>\n",
       "      <td>50</td>\n",
       "    </tr>\n",
       "    <tr>\n",
       "      <th>1</th>\n",
       "      <td>380</td>\n",
       "      <td>40</td>\n",
       "    </tr>\n",
       "    <tr>\n",
       "      <th>2</th>\n",
       "      <td>390</td>\n",
       "      <td>45</td>\n",
       "    </tr>\n",
       "  </tbody>\n",
       "</table>\n",
       "</div>"
      ],
      "text/plain": [
       "   calories  duration\n",
       "0       420        50\n",
       "1       380        40\n",
       "2       390        45"
      ]
     },
     "execution_count": 61,
     "metadata": {},
     "output_type": "execute_result"
    }
   ],
   "source": [
    "df = pd.DataFrame(data)\n",
    "df"
   ]
  },
  {
   "cell_type": "markdown",
   "id": "75d59ee9",
   "metadata": {},
   "source": [
    "A brief example for Series"
   ]
  },
  {
   "cell_type": "code",
   "execution_count": 62,
   "id": "1dcdbbba",
   "metadata": {},
   "outputs": [
    {
     "name": "stdout",
     "output_type": "stream",
     "text": [
      "x    1\n",
      "y    7\n",
      "z    2\n",
      "dtype: int64\n"
     ]
    }
   ],
   "source": [
    "a = [1, 7, 2]\n",
    "\n",
    "myvar = pd.Series(a, index = [\"x\", \"y\", \"z\"])\n",
    "\n",
    "print(myvar)"
   ]
  },
  {
   "cell_type": "markdown",
   "id": "c75db156",
   "metadata": {},
   "source": [
    "### 2.3 Read and write tabular data"
   ]
  },
  {
   "cell_type": "markdown",
   "id": "15377282",
   "metadata": {},
   "source": [
    "For data that is displayed in columns or tables, we always refer them as 'tabular data'"
   ]
  },
  {
   "cell_type": "markdown",
   "id": "cafdc7ad",
   "metadata": {},
   "source": [
    "![read.svg](read.svg)"
   ]
  },
  {
   "cell_type": "markdown",
   "id": "a07d72dc",
   "metadata": {},
   "source": [
    "Let's first write our newly created DataFrame to csv file\n",
    "\n",
    "- Notice that out_path is the path to write our the csv\n",
    "- Be careful with the absolute path and the relative path\n",
    "- To write excel, for error 'ModuleNotFoundError: No module named openpyxl'\n",
    "        pip install openpyxl "
   ]
  },
  {
   "cell_type": "code",
   "execution_count": 63,
   "id": "b1fb44d2",
   "metadata": {},
   "outputs": [],
   "source": [
    "out_path_csv = 'data/df_1.csv'\n",
    "out_path_excel = 'data/df_1.xlsx'\n",
    "\n",
    "df.to_csv(out_path_csv)\n",
    "df.to_excel(out_path_excel)"
   ]
  },
  {
   "cell_type": "markdown",
   "id": "9689142e",
   "metadata": {},
   "source": [
    "Now, let's read the newly created csv/excel files"
   ]
  },
  {
   "cell_type": "code",
   "execution_count": 64,
   "id": "7d983854",
   "metadata": {},
   "outputs": [
    {
     "data": {
      "text/html": [
       "<div>\n",
       "<style scoped>\n",
       "    .dataframe tbody tr th:only-of-type {\n",
       "        vertical-align: middle;\n",
       "    }\n",
       "\n",
       "    .dataframe tbody tr th {\n",
       "        vertical-align: top;\n",
       "    }\n",
       "\n",
       "    .dataframe thead th {\n",
       "        text-align: right;\n",
       "    }\n",
       "</style>\n",
       "<table border=\"1\" class=\"dataframe\">\n",
       "  <thead>\n",
       "    <tr style=\"text-align: right;\">\n",
       "      <th></th>\n",
       "      <th>Unnamed: 0</th>\n",
       "      <th>calories</th>\n",
       "      <th>duration</th>\n",
       "    </tr>\n",
       "  </thead>\n",
       "  <tbody>\n",
       "    <tr>\n",
       "      <th>0</th>\n",
       "      <td>0</td>\n",
       "      <td>420</td>\n",
       "      <td>50</td>\n",
       "    </tr>\n",
       "    <tr>\n",
       "      <th>1</th>\n",
       "      <td>1</td>\n",
       "      <td>380</td>\n",
       "      <td>40</td>\n",
       "    </tr>\n",
       "    <tr>\n",
       "      <th>2</th>\n",
       "      <td>2</td>\n",
       "      <td>390</td>\n",
       "      <td>45</td>\n",
       "    </tr>\n",
       "  </tbody>\n",
       "</table>\n",
       "</div>"
      ],
      "text/plain": [
       "   Unnamed: 0  calories  duration\n",
       "0           0       420        50\n",
       "1           1       380        40\n",
       "2           2       390        45"
      ]
     },
     "execution_count": 64,
     "metadata": {},
     "output_type": "execute_result"
    }
   ],
   "source": [
    "df_csv = pd.read_csv(out_path_csv)\n",
    "df_csv"
   ]
  },
  {
   "cell_type": "code",
   "execution_count": 65,
   "id": "c07142c7",
   "metadata": {},
   "outputs": [
    {
     "data": {
      "text/html": [
       "<div>\n",
       "<style scoped>\n",
       "    .dataframe tbody tr th:only-of-type {\n",
       "        vertical-align: middle;\n",
       "    }\n",
       "\n",
       "    .dataframe tbody tr th {\n",
       "        vertical-align: top;\n",
       "    }\n",
       "\n",
       "    .dataframe thead th {\n",
       "        text-align: right;\n",
       "    }\n",
       "</style>\n",
       "<table border=\"1\" class=\"dataframe\">\n",
       "  <thead>\n",
       "    <tr style=\"text-align: right;\">\n",
       "      <th></th>\n",
       "      <th>Unnamed: 0</th>\n",
       "      <th>calories</th>\n",
       "      <th>duration</th>\n",
       "    </tr>\n",
       "  </thead>\n",
       "  <tbody>\n",
       "    <tr>\n",
       "      <th>0</th>\n",
       "      <td>0</td>\n",
       "      <td>420</td>\n",
       "      <td>50</td>\n",
       "    </tr>\n",
       "    <tr>\n",
       "      <th>1</th>\n",
       "      <td>1</td>\n",
       "      <td>380</td>\n",
       "      <td>40</td>\n",
       "    </tr>\n",
       "    <tr>\n",
       "      <th>2</th>\n",
       "      <td>2</td>\n",
       "      <td>390</td>\n",
       "      <td>45</td>\n",
       "    </tr>\n",
       "  </tbody>\n",
       "</table>\n",
       "</div>"
      ],
      "text/plain": [
       "   Unnamed: 0  calories  duration\n",
       "0           0       420        50\n",
       "1           1       380        40\n",
       "2           2       390        45"
      ]
     },
     "execution_count": 65,
     "metadata": {},
     "output_type": "execute_result"
    }
   ],
   "source": [
    "df_excel = pd.read_excel(out_path_excel)\n",
    "df_excel"
   ]
  },
  {
   "cell_type": "markdown",
   "id": "f55c82a3",
   "metadata": {},
   "source": [
    "***How can I exclude column 'Unnamed: 0'?***\n",
    "\n",
    "A good habbit is, while write a Dataframe to csv, do\n",
    "\n",
    "    pd.to_csv(..., index=False)"
   ]
  },
  {
   "cell_type": "code",
   "execution_count": 66,
   "id": "48447a7b",
   "metadata": {},
   "outputs": [
    {
     "data": {
      "text/html": [
       "<div>\n",
       "<style scoped>\n",
       "    .dataframe tbody tr th:only-of-type {\n",
       "        vertical-align: middle;\n",
       "    }\n",
       "\n",
       "    .dataframe tbody tr th {\n",
       "        vertical-align: top;\n",
       "    }\n",
       "\n",
       "    .dataframe thead th {\n",
       "        text-align: right;\n",
       "    }\n",
       "</style>\n",
       "<table border=\"1\" class=\"dataframe\">\n",
       "  <thead>\n",
       "    <tr style=\"text-align: right;\">\n",
       "      <th></th>\n",
       "      <th>calories</th>\n",
       "      <th>duration</th>\n",
       "    </tr>\n",
       "  </thead>\n",
       "  <tbody>\n",
       "    <tr>\n",
       "      <th>0</th>\n",
       "      <td>420</td>\n",
       "      <td>50</td>\n",
       "    </tr>\n",
       "    <tr>\n",
       "      <th>1</th>\n",
       "      <td>380</td>\n",
       "      <td>40</td>\n",
       "    </tr>\n",
       "    <tr>\n",
       "      <th>2</th>\n",
       "      <td>390</td>\n",
       "      <td>45</td>\n",
       "    </tr>\n",
       "  </tbody>\n",
       "</table>\n",
       "</div>"
      ],
      "text/plain": [
       "   calories  duration\n",
       "0       420        50\n",
       "1       380        40\n",
       "2       390        45"
      ]
     },
     "execution_count": 66,
     "metadata": {},
     "output_type": "execute_result"
    }
   ],
   "source": [
    "df.to_csv(out_path_csv, index = False)\n",
    "pd.read_csv(out_path_csv)"
   ]
  },
  {
   "cell_type": "markdown",
   "id": "2d039c1b",
   "metadata": {},
   "source": [
    "### 2.4 Subsetting"
   ]
  },
  {
   "cell_type": "markdown",
   "id": "5bf61947",
   "metadata": {},
   "source": [
    "Let's first read our dataframe may similar to term project 1, and give a glance of the data"
   ]
  },
  {
   "cell_type": "code",
   "execution_count": 67,
   "id": "7b89c994",
   "metadata": {},
   "outputs": [],
   "source": [
    "df = pd.read_csv('data/pulse2022_puf_51.csv')"
   ]
  },
  {
   "cell_type": "code",
   "execution_count": 68,
   "id": "8b17e1a1",
   "metadata": {},
   "outputs": [
    {
     "data": {
      "text/html": [
       "<div>\n",
       "<style scoped>\n",
       "    .dataframe tbody tr th:only-of-type {\n",
       "        vertical-align: middle;\n",
       "    }\n",
       "\n",
       "    .dataframe tbody tr th {\n",
       "        vertical-align: top;\n",
       "    }\n",
       "\n",
       "    .dataframe thead th {\n",
       "        text-align: right;\n",
       "    }\n",
       "</style>\n",
       "<table border=\"1\" class=\"dataframe\">\n",
       "  <thead>\n",
       "    <tr style=\"text-align: right;\">\n",
       "      <th></th>\n",
       "      <th>SCRAM</th>\n",
       "      <th>WEEK</th>\n",
       "      <th>EST_ST</th>\n",
       "      <th>EST_MSA</th>\n",
       "      <th>REGION</th>\n",
       "      <th>HWEIGHT</th>\n",
       "      <th>PWEIGHT</th>\n",
       "      <th>TBIRTH_YEAR</th>\n",
       "      <th>ABIRTH_YEAR</th>\n",
       "      <th>RHISPANIC</th>\n",
       "      <th>...</th>\n",
       "      <th>FRMLA_TYP4</th>\n",
       "      <th>GAS1</th>\n",
       "      <th>GAS2</th>\n",
       "      <th>GAS3</th>\n",
       "      <th>GAS4</th>\n",
       "      <th>SUMMER_ED1</th>\n",
       "      <th>SUMMER_ED2</th>\n",
       "      <th>SUMMER_ED3</th>\n",
       "      <th>SUMMER_ED4</th>\n",
       "      <th>SUMMER_ED5</th>\n",
       "    </tr>\n",
       "  </thead>\n",
       "  <tbody>\n",
       "    <tr>\n",
       "      <th>0</th>\n",
       "      <td>V510000001</td>\n",
       "      <td>51</td>\n",
       "      <td>34</td>\n",
       "      <td>35620.0</td>\n",
       "      <td>1</td>\n",
       "      <td>1443.711630</td>\n",
       "      <td>5636.201993</td>\n",
       "      <td>1973</td>\n",
       "      <td>2</td>\n",
       "      <td>1</td>\n",
       "      <td>...</td>\n",
       "      <td>-88</td>\n",
       "      <td>1</td>\n",
       "      <td>1</td>\n",
       "      <td>-99</td>\n",
       "      <td>-99</td>\n",
       "      <td>-88</td>\n",
       "      <td>-88</td>\n",
       "      <td>-88</td>\n",
       "      <td>-88</td>\n",
       "      <td>-88</td>\n",
       "    </tr>\n",
       "    <tr>\n",
       "      <th>1</th>\n",
       "      <td>V510000002</td>\n",
       "      <td>51</td>\n",
       "      <td>8</td>\n",
       "      <td>NaN</td>\n",
       "      <td>4</td>\n",
       "      <td>972.449233</td>\n",
       "      <td>952.102570</td>\n",
       "      <td>1945</td>\n",
       "      <td>2</td>\n",
       "      <td>1</td>\n",
       "      <td>...</td>\n",
       "      <td>-88</td>\n",
       "      <td>-99</td>\n",
       "      <td>-99</td>\n",
       "      <td>-99</td>\n",
       "      <td>1</td>\n",
       "      <td>-88</td>\n",
       "      <td>-88</td>\n",
       "      <td>-88</td>\n",
       "      <td>-88</td>\n",
       "      <td>-88</td>\n",
       "    </tr>\n",
       "  </tbody>\n",
       "</table>\n",
       "<p>2 rows × 244 columns</p>\n",
       "</div>"
      ],
      "text/plain": [
       "        SCRAM  WEEK  EST_ST  EST_MSA  REGION      HWEIGHT      PWEIGHT  \\\n",
       "0  V510000001    51      34  35620.0       1  1443.711630  5636.201993   \n",
       "1  V510000002    51       8      NaN       4   972.449233   952.102570   \n",
       "\n",
       "   TBIRTH_YEAR  ABIRTH_YEAR  RHISPANIC  ...  FRMLA_TYP4  GAS1  GAS2  GAS3  \\\n",
       "0         1973            2          1  ...         -88     1     1   -99   \n",
       "1         1945            2          1  ...         -88   -99   -99   -99   \n",
       "\n",
       "   GAS4  SUMMER_ED1  SUMMER_ED2  SUMMER_ED3  SUMMER_ED4  SUMMER_ED5  \n",
       "0   -99         -88         -88         -88         -88         -88  \n",
       "1     1         -88         -88         -88         -88         -88  \n",
       "\n",
       "[2 rows x 244 columns]"
      ]
     },
     "execution_count": 68,
     "metadata": {},
     "output_type": "execute_result"
    }
   ],
   "source": [
    "df.head(2) # 2 refer to the displayed rows"
   ]
  },
  {
   "cell_type": "code",
   "execution_count": 69,
   "id": "a0c9caa7",
   "metadata": {},
   "outputs": [
    {
     "data": {
      "text/html": [
       "<div>\n",
       "<style scoped>\n",
       "    .dataframe tbody tr th:only-of-type {\n",
       "        vertical-align: middle;\n",
       "    }\n",
       "\n",
       "    .dataframe tbody tr th {\n",
       "        vertical-align: top;\n",
       "    }\n",
       "\n",
       "    .dataframe thead th {\n",
       "        text-align: right;\n",
       "    }\n",
       "</style>\n",
       "<table border=\"1\" class=\"dataframe\">\n",
       "  <thead>\n",
       "    <tr style=\"text-align: right;\">\n",
       "      <th></th>\n",
       "      <th>SCRAM</th>\n",
       "      <th>WEEK</th>\n",
       "      <th>EST_ST</th>\n",
       "      <th>EST_MSA</th>\n",
       "      <th>REGION</th>\n",
       "      <th>HWEIGHT</th>\n",
       "      <th>PWEIGHT</th>\n",
       "      <th>TBIRTH_YEAR</th>\n",
       "      <th>ABIRTH_YEAR</th>\n",
       "      <th>RHISPANIC</th>\n",
       "      <th>...</th>\n",
       "      <th>FRMLA_TYP4</th>\n",
       "      <th>GAS1</th>\n",
       "      <th>GAS2</th>\n",
       "      <th>GAS3</th>\n",
       "      <th>GAS4</th>\n",
       "      <th>SUMMER_ED1</th>\n",
       "      <th>SUMMER_ED2</th>\n",
       "      <th>SUMMER_ED3</th>\n",
       "      <th>SUMMER_ED4</th>\n",
       "      <th>SUMMER_ED5</th>\n",
       "    </tr>\n",
       "  </thead>\n",
       "  <tbody>\n",
       "    <tr>\n",
       "      <th>61451</th>\n",
       "      <td>V510061452</td>\n",
       "      <td>51</td>\n",
       "      <td>41</td>\n",
       "      <td>NaN</td>\n",
       "      <td>4</td>\n",
       "      <td>573.010710</td>\n",
       "      <td>1072.996173</td>\n",
       "      <td>1984</td>\n",
       "      <td>2</td>\n",
       "      <td>1</td>\n",
       "      <td>...</td>\n",
       "      <td>-88</td>\n",
       "      <td>-99</td>\n",
       "      <td>-99</td>\n",
       "      <td>-99</td>\n",
       "      <td>1</td>\n",
       "      <td>-88</td>\n",
       "      <td>-88</td>\n",
       "      <td>-88</td>\n",
       "      <td>-88</td>\n",
       "      <td>-88</td>\n",
       "    </tr>\n",
       "    <tr>\n",
       "      <th>61452</th>\n",
       "      <td>V510061453</td>\n",
       "      <td>51</td>\n",
       "      <td>8</td>\n",
       "      <td>NaN</td>\n",
       "      <td>4</td>\n",
       "      <td>1090.027242</td>\n",
       "      <td>2134.440962</td>\n",
       "      <td>1970</td>\n",
       "      <td>2</td>\n",
       "      <td>1</td>\n",
       "      <td>...</td>\n",
       "      <td>-88</td>\n",
       "      <td>-99</td>\n",
       "      <td>1</td>\n",
       "      <td>-99</td>\n",
       "      <td>-99</td>\n",
       "      <td>-88</td>\n",
       "      <td>-88</td>\n",
       "      <td>-88</td>\n",
       "      <td>-88</td>\n",
       "      <td>-88</td>\n",
       "    </tr>\n",
       "  </tbody>\n",
       "</table>\n",
       "<p>2 rows × 244 columns</p>\n",
       "</div>"
      ],
      "text/plain": [
       "            SCRAM  WEEK  EST_ST  EST_MSA  REGION      HWEIGHT      PWEIGHT  \\\n",
       "61451  V510061452    51      41      NaN       4   573.010710  1072.996173   \n",
       "61452  V510061453    51       8      NaN       4  1090.027242  2134.440962   \n",
       "\n",
       "       TBIRTH_YEAR  ABIRTH_YEAR  RHISPANIC  ...  FRMLA_TYP4  GAS1  GAS2  GAS3  \\\n",
       "61451         1984            2          1  ...         -88   -99   -99   -99   \n",
       "61452         1970            2          1  ...         -88   -99     1   -99   \n",
       "\n",
       "       GAS4  SUMMER_ED1  SUMMER_ED2  SUMMER_ED3  SUMMER_ED4  SUMMER_ED5  \n",
       "61451     1         -88         -88         -88         -88         -88  \n",
       "61452   -99         -88         -88         -88         -88         -88  \n",
       "\n",
       "[2 rows x 244 columns]"
      ]
     },
     "execution_count": 69,
     "metadata": {},
     "output_type": "execute_result"
    }
   ],
   "source": [
    "df.tail(2)"
   ]
  },
  {
   "cell_type": "markdown",
   "id": "240f4af0",
   "metadata": {},
   "source": [
    "#### 2.4.1 Subset a single column"
   ]
  },
  {
   "cell_type": "markdown",
   "id": "f26c6e18",
   "metadata": {},
   "source": [
    "Suppose we are interested in 'REGION' "
   ]
  },
  {
   "cell_type": "code",
   "execution_count": 70,
   "id": "a3581a93",
   "metadata": {},
   "outputs": [
    {
     "data": {
      "text/plain": [
       "0        1\n",
       "1        4\n",
       "2        2\n",
       "3        3\n",
       "4        2\n",
       "        ..\n",
       "61448    2\n",
       "61449    1\n",
       "61450    2\n",
       "61451    4\n",
       "61452    4\n",
       "Name: REGION, Length: 61453, dtype: int64"
      ]
     },
     "execution_count": 70,
     "metadata": {},
     "output_type": "execute_result"
    }
   ],
   "source": [
    "region = df['REGION']\n",
    "region"
   ]
  },
  {
   "cell_type": "markdown",
   "id": "0289740c",
   "metadata": {},
   "source": [
    "To extract array do:"
   ]
  },
  {
   "cell_type": "code",
   "execution_count": 71,
   "id": "99eaf1bb",
   "metadata": {},
   "outputs": [
    {
     "data": {
      "text/plain": [
       "array([1, 4, 2, ..., 2, 4, 4])"
      ]
     },
     "execution_count": 71,
     "metadata": {},
     "output_type": "execute_result"
    }
   ],
   "source": [
    "region_arr = df['REGION'].values\n",
    "region_arr"
   ]
  },
  {
   "cell_type": "markdown",
   "id": "19a63ef0",
   "metadata": {},
   "source": [
    "#### 2.4.2 Subset a Dataframe"
   ]
  },
  {
   "cell_type": "markdown",
   "id": "314d8601",
   "metadata": {},
   "source": [
    "Suppose we are interested in both 'REGION' and 'TBIRTH_YEAR'"
   ]
  },
  {
   "cell_type": "code",
   "execution_count": 72,
   "id": "01da4a15",
   "metadata": {},
   "outputs": [
    {
     "data": {
      "text/html": [
       "<div>\n",
       "<style scoped>\n",
       "    .dataframe tbody tr th:only-of-type {\n",
       "        vertical-align: middle;\n",
       "    }\n",
       "\n",
       "    .dataframe tbody tr th {\n",
       "        vertical-align: top;\n",
       "    }\n",
       "\n",
       "    .dataframe thead th {\n",
       "        text-align: right;\n",
       "    }\n",
       "</style>\n",
       "<table border=\"1\" class=\"dataframe\">\n",
       "  <thead>\n",
       "    <tr style=\"text-align: right;\">\n",
       "      <th></th>\n",
       "      <th>REGION</th>\n",
       "      <th>TBIRTH_YEAR</th>\n",
       "    </tr>\n",
       "  </thead>\n",
       "  <tbody>\n",
       "    <tr>\n",
       "      <th>0</th>\n",
       "      <td>1</td>\n",
       "      <td>1973</td>\n",
       "    </tr>\n",
       "    <tr>\n",
       "      <th>1</th>\n",
       "      <td>4</td>\n",
       "      <td>1945</td>\n",
       "    </tr>\n",
       "    <tr>\n",
       "      <th>2</th>\n",
       "      <td>2</td>\n",
       "      <td>1975</td>\n",
       "    </tr>\n",
       "    <tr>\n",
       "      <th>3</th>\n",
       "      <td>3</td>\n",
       "      <td>1986</td>\n",
       "    </tr>\n",
       "    <tr>\n",
       "      <th>4</th>\n",
       "      <td>2</td>\n",
       "      <td>1948</td>\n",
       "    </tr>\n",
       "  </tbody>\n",
       "</table>\n",
       "</div>"
      ],
      "text/plain": [
       "   REGION  TBIRTH_YEAR\n",
       "0       1         1973\n",
       "1       4         1945\n",
       "2       2         1975\n",
       "3       3         1986\n",
       "4       2         1948"
      ]
     },
     "execution_count": 72,
     "metadata": {},
     "output_type": "execute_result"
    }
   ],
   "source": [
    "df_subset = df[['REGION', 'TBIRTH_YEAR']]\n",
    "df_subset.head()"
   ]
  },
  {
   "cell_type": "markdown",
   "id": "0e74fd11",
   "metadata": {},
   "source": [
    "#### 2.4.3 Filter specific rows and columns"
   ]
  },
  {
   "cell_type": "markdown",
   "id": "9081121e",
   "metadata": {},
   "source": [
    "![filter_1.svg](filter_1.svg)"
   ]
  },
  {
   "cell_type": "markdown",
   "id": "f1b4f9f6",
   "metadata": {},
   "source": [
    "Let's say, we want to get the patients born after 1998"
   ]
  },
  {
   "cell_type": "code",
   "execution_count": 73,
   "id": "20d9c06a",
   "metadata": {},
   "outputs": [],
   "source": [
    "above_98 = df_subset[df_subset[\"TBIRTH_YEAR\"] > 1998]"
   ]
  },
  {
   "cell_type": "code",
   "execution_count": 74,
   "id": "5d20fddc",
   "metadata": {},
   "outputs": [
    {
     "data": {
      "text/html": [
       "<div>\n",
       "<style scoped>\n",
       "    .dataframe tbody tr th:only-of-type {\n",
       "        vertical-align: middle;\n",
       "    }\n",
       "\n",
       "    .dataframe tbody tr th {\n",
       "        vertical-align: top;\n",
       "    }\n",
       "\n",
       "    .dataframe thead th {\n",
       "        text-align: right;\n",
       "    }\n",
       "</style>\n",
       "<table border=\"1\" class=\"dataframe\">\n",
       "  <thead>\n",
       "    <tr style=\"text-align: right;\">\n",
       "      <th></th>\n",
       "      <th>REGION</th>\n",
       "      <th>TBIRTH_YEAR</th>\n",
       "    </tr>\n",
       "  </thead>\n",
       "  <tbody>\n",
       "    <tr>\n",
       "      <th>14</th>\n",
       "      <td>2</td>\n",
       "      <td>2001</td>\n",
       "    </tr>\n",
       "    <tr>\n",
       "      <th>44</th>\n",
       "      <td>4</td>\n",
       "      <td>2003</td>\n",
       "    </tr>\n",
       "    <tr>\n",
       "      <th>105</th>\n",
       "      <td>4</td>\n",
       "      <td>2001</td>\n",
       "    </tr>\n",
       "    <tr>\n",
       "      <th>132</th>\n",
       "      <td>2</td>\n",
       "      <td>2002</td>\n",
       "    </tr>\n",
       "    <tr>\n",
       "      <th>133</th>\n",
       "      <td>1</td>\n",
       "      <td>2001</td>\n",
       "    </tr>\n",
       "    <tr>\n",
       "      <th>...</th>\n",
       "      <td>...</td>\n",
       "      <td>...</td>\n",
       "    </tr>\n",
       "    <tr>\n",
       "      <th>61367</th>\n",
       "      <td>2</td>\n",
       "      <td>2003</td>\n",
       "    </tr>\n",
       "    <tr>\n",
       "      <th>61384</th>\n",
       "      <td>3</td>\n",
       "      <td>2001</td>\n",
       "    </tr>\n",
       "    <tr>\n",
       "      <th>61404</th>\n",
       "      <td>4</td>\n",
       "      <td>1999</td>\n",
       "    </tr>\n",
       "    <tr>\n",
       "      <th>61424</th>\n",
       "      <td>3</td>\n",
       "      <td>2000</td>\n",
       "    </tr>\n",
       "    <tr>\n",
       "      <th>61434</th>\n",
       "      <td>3</td>\n",
       "      <td>2000</td>\n",
       "    </tr>\n",
       "  </tbody>\n",
       "</table>\n",
       "<p>2186 rows × 2 columns</p>\n",
       "</div>"
      ],
      "text/plain": [
       "       REGION  TBIRTH_YEAR\n",
       "14          2         2001\n",
       "44          4         2003\n",
       "105         4         2001\n",
       "132         2         2002\n",
       "133         1         2001\n",
       "...       ...          ...\n",
       "61367       2         2003\n",
       "61384       3         2001\n",
       "61404       4         1999\n",
       "61424       3         2000\n",
       "61434       3         2000\n",
       "\n",
       "[2186 rows x 2 columns]"
      ]
     },
     "execution_count": 74,
     "metadata": {},
     "output_type": "execute_result"
    }
   ],
   "source": [
    "above_98"
   ]
  },
  {
   "cell_type": "markdown",
   "id": "9fb578cc",
   "metadata": {},
   "source": [
    "Let's say, we want to get the patient born after 1998, and live in region 1 and 2"
   ]
  },
  {
   "cell_type": "code",
   "execution_count": 75,
   "id": "6fc27ed7",
   "metadata": {},
   "outputs": [
    {
     "data": {
      "text/html": [
       "<div>\n",
       "<style scoped>\n",
       "    .dataframe tbody tr th:only-of-type {\n",
       "        vertical-align: middle;\n",
       "    }\n",
       "\n",
       "    .dataframe tbody tr th {\n",
       "        vertical-align: top;\n",
       "    }\n",
       "\n",
       "    .dataframe thead th {\n",
       "        text-align: right;\n",
       "    }\n",
       "</style>\n",
       "<table border=\"1\" class=\"dataframe\">\n",
       "  <thead>\n",
       "    <tr style=\"text-align: right;\">\n",
       "      <th></th>\n",
       "      <th>REGION</th>\n",
       "      <th>TBIRTH_YEAR</th>\n",
       "    </tr>\n",
       "  </thead>\n",
       "  <tbody>\n",
       "    <tr>\n",
       "      <th>14</th>\n",
       "      <td>2</td>\n",
       "      <td>2001</td>\n",
       "    </tr>\n",
       "    <tr>\n",
       "      <th>132</th>\n",
       "      <td>2</td>\n",
       "      <td>2002</td>\n",
       "    </tr>\n",
       "    <tr>\n",
       "      <th>133</th>\n",
       "      <td>1</td>\n",
       "      <td>2001</td>\n",
       "    </tr>\n",
       "    <tr>\n",
       "      <th>245</th>\n",
       "      <td>2</td>\n",
       "      <td>1999</td>\n",
       "    </tr>\n",
       "    <tr>\n",
       "      <th>269</th>\n",
       "      <td>2</td>\n",
       "      <td>1999</td>\n",
       "    </tr>\n",
       "    <tr>\n",
       "      <th>...</th>\n",
       "      <td>...</td>\n",
       "      <td>...</td>\n",
       "    </tr>\n",
       "    <tr>\n",
       "      <th>61036</th>\n",
       "      <td>2</td>\n",
       "      <td>2001</td>\n",
       "    </tr>\n",
       "    <tr>\n",
       "      <th>61143</th>\n",
       "      <td>2</td>\n",
       "      <td>2002</td>\n",
       "    </tr>\n",
       "    <tr>\n",
       "      <th>61159</th>\n",
       "      <td>2</td>\n",
       "      <td>2001</td>\n",
       "    </tr>\n",
       "    <tr>\n",
       "      <th>61312</th>\n",
       "      <td>2</td>\n",
       "      <td>2002</td>\n",
       "    </tr>\n",
       "    <tr>\n",
       "      <th>61367</th>\n",
       "      <td>2</td>\n",
       "      <td>2003</td>\n",
       "    </tr>\n",
       "  </tbody>\n",
       "</table>\n",
       "<p>983 rows × 2 columns</p>\n",
       "</div>"
      ],
      "text/plain": [
       "       REGION  TBIRTH_YEAR\n",
       "14          2         2001\n",
       "132         2         2002\n",
       "133         1         2001\n",
       "245         2         1999\n",
       "269         2         1999\n",
       "...       ...          ...\n",
       "61036       2         2001\n",
       "61143       2         2002\n",
       "61159       2         2001\n",
       "61312       2         2002\n",
       "61367       2         2003\n",
       "\n",
       "[983 rows x 2 columns]"
      ]
     },
     "execution_count": 75,
     "metadata": {},
     "output_type": "execute_result"
    }
   ],
   "source": [
    "above_98[above_98[\"REGION\"].isin([1, 2])]"
   ]
  },
  {
   "cell_type": "markdown",
   "id": "fd90c4fa",
   "metadata": {},
   "source": [
    "We can also do"
   ]
  },
  {
   "cell_type": "code",
   "execution_count": 76,
   "id": "37c19c6f",
   "metadata": {},
   "outputs": [
    {
     "data": {
      "text/html": [
       "<div>\n",
       "<style scoped>\n",
       "    .dataframe tbody tr th:only-of-type {\n",
       "        vertical-align: middle;\n",
       "    }\n",
       "\n",
       "    .dataframe tbody tr th {\n",
       "        vertical-align: top;\n",
       "    }\n",
       "\n",
       "    .dataframe thead th {\n",
       "        text-align: right;\n",
       "    }\n",
       "</style>\n",
       "<table border=\"1\" class=\"dataframe\">\n",
       "  <thead>\n",
       "    <tr style=\"text-align: right;\">\n",
       "      <th></th>\n",
       "      <th>REGION</th>\n",
       "      <th>TBIRTH_YEAR</th>\n",
       "    </tr>\n",
       "  </thead>\n",
       "  <tbody>\n",
       "    <tr>\n",
       "      <th>14</th>\n",
       "      <td>2</td>\n",
       "      <td>2001</td>\n",
       "    </tr>\n",
       "    <tr>\n",
       "      <th>132</th>\n",
       "      <td>2</td>\n",
       "      <td>2002</td>\n",
       "    </tr>\n",
       "    <tr>\n",
       "      <th>133</th>\n",
       "      <td>1</td>\n",
       "      <td>2001</td>\n",
       "    </tr>\n",
       "    <tr>\n",
       "      <th>245</th>\n",
       "      <td>2</td>\n",
       "      <td>1999</td>\n",
       "    </tr>\n",
       "    <tr>\n",
       "      <th>269</th>\n",
       "      <td>2</td>\n",
       "      <td>1999</td>\n",
       "    </tr>\n",
       "    <tr>\n",
       "      <th>...</th>\n",
       "      <td>...</td>\n",
       "      <td>...</td>\n",
       "    </tr>\n",
       "    <tr>\n",
       "      <th>61036</th>\n",
       "      <td>2</td>\n",
       "      <td>2001</td>\n",
       "    </tr>\n",
       "    <tr>\n",
       "      <th>61143</th>\n",
       "      <td>2</td>\n",
       "      <td>2002</td>\n",
       "    </tr>\n",
       "    <tr>\n",
       "      <th>61159</th>\n",
       "      <td>2</td>\n",
       "      <td>2001</td>\n",
       "    </tr>\n",
       "    <tr>\n",
       "      <th>61312</th>\n",
       "      <td>2</td>\n",
       "      <td>2002</td>\n",
       "    </tr>\n",
       "    <tr>\n",
       "      <th>61367</th>\n",
       "      <td>2</td>\n",
       "      <td>2003</td>\n",
       "    </tr>\n",
       "  </tbody>\n",
       "</table>\n",
       "<p>983 rows × 2 columns</p>\n",
       "</div>"
      ],
      "text/plain": [
       "       REGION  TBIRTH_YEAR\n",
       "14          2         2001\n",
       "132         2         2002\n",
       "133         1         2001\n",
       "245         2         1999\n",
       "269         2         1999\n",
       "...       ...          ...\n",
       "61036       2         2001\n",
       "61143       2         2002\n",
       "61159       2         2001\n",
       "61312       2         2002\n",
       "61367       2         2003\n",
       "\n",
       "[983 rows x 2 columns]"
      ]
     },
     "execution_count": 76,
     "metadata": {},
     "output_type": "execute_result"
    }
   ],
   "source": [
    "df_subset[(df_subset['REGION'].isin([1, 2])) & (df_subset[\"TBIRTH_YEAR\"] > 1998)]"
   ]
  },
  {
   "cell_type": "markdown",
   "id": "0c6825ac",
   "metadata": {},
   "source": [
    "#### 2.4.4 Complicated introduction for indexing and selecting data\n",
    "\n",
    "\n",
    "http://pandas.pydata.org/pandas-docs/stable/user_guide/indexing.html\n",
    "\n",
    "After class question\n",
    "- What is the difference between iloc and loc? "
   ]
  },
  {
   "cell_type": "markdown",
   "id": "6a17d8f9",
   "metadata": {},
   "source": [
    "### 2.5 Column & Row operations"
   ]
  },
  {
   "cell_type": "markdown",
   "id": "c706cee5",
   "metadata": {},
   "source": [
    "![insert_col.svg](insert_col.svg)"
   ]
  },
  {
   "cell_type": "markdown",
   "id": "1bef0590",
   "metadata": {},
   "source": [
    "Suppose we have the following matchings for the region numbers\n",
    "1) Northeast\n",
    "2) South\n",
    "3) Midwest\n",
    "4) West\n",
    "\n",
    "We want to create a new column for the regions"
   ]
  },
  {
   "cell_type": "code",
   "execution_count": 77,
   "id": "6ff8045d",
   "metadata": {},
   "outputs": [],
   "source": [
    "region_numbers = df_subset['REGION'].values"
   ]
  },
  {
   "cell_type": "code",
   "execution_count": 78,
   "id": "a8d44924",
   "metadata": {},
   "outputs": [
    {
     "name": "stdout",
     "output_type": "stream",
     "text": [
      "{1: 'Northeast', 2: 'South', 3: 'Midwest', 4: 'West'}\n"
     ]
    }
   ],
   "source": [
    "list_number = [1, 2, 3, 4]\n",
    "list_region = ['Northeast', 'South', 'Midwest', 'West']\n",
    "\n",
    "list_dic = dict(zip(list_number, list_region))\n",
    "print(list_dic)"
   ]
  },
  {
   "cell_type": "code",
   "execution_count": 79,
   "id": "441e481e",
   "metadata": {},
   "outputs": [
    {
     "name": "stdout",
     "output_type": "stream",
     "text": [
      "['Northeast', 'West', 'South', 'Midwest', 'South', 'Northeast', 'West', 'Midwest', 'West', 'Midwest']\n"
     ]
    }
   ],
   "source": [
    "# create the corresponding region list\n",
    "new_columns = [list_dic[i] for i in region_numbers]\n",
    "print(new_columns[0:10])"
   ]
  },
  {
   "cell_type": "markdown",
   "id": "ded452f1",
   "metadata": {},
   "source": [
    "##### 2.5.1 Insert a new column to with given position"
   ]
  },
  {
   "cell_type": "markdown",
   "id": "a33199c3",
   "metadata": {},
   "source": [
    "loc: Insertion index \n",
    "\n",
    "column: Label of the inserted column, specifically, column names\n",
    "\n",
    "value: Scalar, Series, or array-like values to be inserted"
   ]
  },
  {
   "cell_type": "code",
   "execution_count": 80,
   "id": "51d07a14",
   "metadata": {},
   "outputs": [
    {
     "data": {
      "text/html": [
       "<div>\n",
       "<style scoped>\n",
       "    .dataframe tbody tr th:only-of-type {\n",
       "        vertical-align: middle;\n",
       "    }\n",
       "\n",
       "    .dataframe tbody tr th {\n",
       "        vertical-align: top;\n",
       "    }\n",
       "\n",
       "    .dataframe thead th {\n",
       "        text-align: right;\n",
       "    }\n",
       "</style>\n",
       "<table border=\"1\" class=\"dataframe\">\n",
       "  <thead>\n",
       "    <tr style=\"text-align: right;\">\n",
       "      <th></th>\n",
       "      <th>REGION_ACTUAL</th>\n",
       "      <th>REGION</th>\n",
       "      <th>TBIRTH_YEAR</th>\n",
       "    </tr>\n",
       "  </thead>\n",
       "  <tbody>\n",
       "    <tr>\n",
       "      <th>0</th>\n",
       "      <td>Northeast</td>\n",
       "      <td>1</td>\n",
       "      <td>1973</td>\n",
       "    </tr>\n",
       "    <tr>\n",
       "      <th>1</th>\n",
       "      <td>West</td>\n",
       "      <td>4</td>\n",
       "      <td>1945</td>\n",
       "    </tr>\n",
       "    <tr>\n",
       "      <th>2</th>\n",
       "      <td>South</td>\n",
       "      <td>2</td>\n",
       "      <td>1975</td>\n",
       "    </tr>\n",
       "    <tr>\n",
       "      <th>3</th>\n",
       "      <td>Midwest</td>\n",
       "      <td>3</td>\n",
       "      <td>1986</td>\n",
       "    </tr>\n",
       "    <tr>\n",
       "      <th>4</th>\n",
       "      <td>South</td>\n",
       "      <td>2</td>\n",
       "      <td>1948</td>\n",
       "    </tr>\n",
       "  </tbody>\n",
       "</table>\n",
       "</div>"
      ],
      "text/plain": [
       "  REGION_ACTUAL  REGION  TBIRTH_YEAR\n",
       "0     Northeast       1         1973\n",
       "1          West       4         1945\n",
       "2         South       2         1975\n",
       "3       Midwest       3         1986\n",
       "4         South       2         1948"
      ]
     },
     "execution_count": 80,
     "metadata": {},
     "output_type": "execute_result"
    }
   ],
   "source": [
    "df_subset.insert(0, 'REGION_ACTUAL', new_columns)\n",
    "df_subset.head()"
   ]
  },
  {
   "cell_type": "code",
   "execution_count": 81,
   "id": "a02b9e09",
   "metadata": {},
   "outputs": [
    {
     "data": {
      "text/html": [
       "<div>\n",
       "<style scoped>\n",
       "    .dataframe tbody tr th:only-of-type {\n",
       "        vertical-align: middle;\n",
       "    }\n",
       "\n",
       "    .dataframe tbody tr th {\n",
       "        vertical-align: top;\n",
       "    }\n",
       "\n",
       "    .dataframe thead th {\n",
       "        text-align: right;\n",
       "    }\n",
       "</style>\n",
       "<table border=\"1\" class=\"dataframe\">\n",
       "  <thead>\n",
       "    <tr style=\"text-align: right;\">\n",
       "      <th></th>\n",
       "      <th>REGION_ACTUAL</th>\n",
       "      <th>REGION</th>\n",
       "      <th>TBIRTH_YEAR</th>\n",
       "    </tr>\n",
       "  </thead>\n",
       "  <tbody>\n",
       "    <tr>\n",
       "      <th>0</th>\n",
       "      <td>Northeast</td>\n",
       "      <td>1</td>\n",
       "      <td>1973</td>\n",
       "    </tr>\n",
       "    <tr>\n",
       "      <th>1</th>\n",
       "      <td>West</td>\n",
       "      <td>4</td>\n",
       "      <td>1945</td>\n",
       "    </tr>\n",
       "    <tr>\n",
       "      <th>2</th>\n",
       "      <td>South</td>\n",
       "      <td>2</td>\n",
       "      <td>1975</td>\n",
       "    </tr>\n",
       "    <tr>\n",
       "      <th>3</th>\n",
       "      <td>Midwest</td>\n",
       "      <td>3</td>\n",
       "      <td>1986</td>\n",
       "    </tr>\n",
       "    <tr>\n",
       "      <th>4</th>\n",
       "      <td>South</td>\n",
       "      <td>2</td>\n",
       "      <td>1948</td>\n",
       "    </tr>\n",
       "    <tr>\n",
       "      <th>...</th>\n",
       "      <td>...</td>\n",
       "      <td>...</td>\n",
       "      <td>...</td>\n",
       "    </tr>\n",
       "    <tr>\n",
       "      <th>61448</th>\n",
       "      <td>South</td>\n",
       "      <td>2</td>\n",
       "      <td>1960</td>\n",
       "    </tr>\n",
       "    <tr>\n",
       "      <th>61449</th>\n",
       "      <td>Northeast</td>\n",
       "      <td>1</td>\n",
       "      <td>1972</td>\n",
       "    </tr>\n",
       "    <tr>\n",
       "      <th>61450</th>\n",
       "      <td>South</td>\n",
       "      <td>2</td>\n",
       "      <td>1979</td>\n",
       "    </tr>\n",
       "    <tr>\n",
       "      <th>61451</th>\n",
       "      <td>West</td>\n",
       "      <td>4</td>\n",
       "      <td>1984</td>\n",
       "    </tr>\n",
       "    <tr>\n",
       "      <th>61452</th>\n",
       "      <td>West</td>\n",
       "      <td>4</td>\n",
       "      <td>1970</td>\n",
       "    </tr>\n",
       "  </tbody>\n",
       "</table>\n",
       "<p>61453 rows × 3 columns</p>\n",
       "</div>"
      ],
      "text/plain": [
       "      REGION_ACTUAL  REGION  TBIRTH_YEAR\n",
       "0         Northeast       1         1973\n",
       "1              West       4         1945\n",
       "2             South       2         1975\n",
       "3           Midwest       3         1986\n",
       "4             South       2         1948\n",
       "...             ...     ...          ...\n",
       "61448         South       2         1960\n",
       "61449     Northeast       1         1972\n",
       "61450         South       2         1979\n",
       "61451          West       4         1984\n",
       "61452          West       4         1970\n",
       "\n",
       "[61453 rows x 3 columns]"
      ]
     },
     "execution_count": 81,
     "metadata": {},
     "output_type": "execute_result"
    }
   ],
   "source": [
    "df_subset"
   ]
  },
  {
   "cell_type": "markdown",
   "id": "c94a67d9",
   "metadata": {},
   "source": [
    "##### 2.5.2 Delete a column"
   ]
  },
  {
   "cell_type": "markdown",
   "id": "21f2eded",
   "metadata": {},
   "source": [
    "Suppose we want to drop the newly inserted columns"
   ]
  },
  {
   "cell_type": "code",
   "execution_count": 82,
   "id": "42c6dd90",
   "metadata": {},
   "outputs": [
    {
     "data": {
      "text/html": [
       "<div>\n",
       "<style scoped>\n",
       "    .dataframe tbody tr th:only-of-type {\n",
       "        vertical-align: middle;\n",
       "    }\n",
       "\n",
       "    .dataframe tbody tr th {\n",
       "        vertical-align: top;\n",
       "    }\n",
       "\n",
       "    .dataframe thead th {\n",
       "        text-align: right;\n",
       "    }\n",
       "</style>\n",
       "<table border=\"1\" class=\"dataframe\">\n",
       "  <thead>\n",
       "    <tr style=\"text-align: right;\">\n",
       "      <th></th>\n",
       "      <th>REGION_ACTUAL</th>\n",
       "      <th>TBIRTH_YEAR</th>\n",
       "    </tr>\n",
       "  </thead>\n",
       "  <tbody>\n",
       "    <tr>\n",
       "      <th>0</th>\n",
       "      <td>Northeast</td>\n",
       "      <td>1973</td>\n",
       "    </tr>\n",
       "    <tr>\n",
       "      <th>1</th>\n",
       "      <td>West</td>\n",
       "      <td>1945</td>\n",
       "    </tr>\n",
       "    <tr>\n",
       "      <th>2</th>\n",
       "      <td>South</td>\n",
       "      <td>1975</td>\n",
       "    </tr>\n",
       "    <tr>\n",
       "      <th>3</th>\n",
       "      <td>Midwest</td>\n",
       "      <td>1986</td>\n",
       "    </tr>\n",
       "    <tr>\n",
       "      <th>4</th>\n",
       "      <td>South</td>\n",
       "      <td>1948</td>\n",
       "    </tr>\n",
       "    <tr>\n",
       "      <th>...</th>\n",
       "      <td>...</td>\n",
       "      <td>...</td>\n",
       "    </tr>\n",
       "    <tr>\n",
       "      <th>61448</th>\n",
       "      <td>South</td>\n",
       "      <td>1960</td>\n",
       "    </tr>\n",
       "    <tr>\n",
       "      <th>61449</th>\n",
       "      <td>Northeast</td>\n",
       "      <td>1972</td>\n",
       "    </tr>\n",
       "    <tr>\n",
       "      <th>61450</th>\n",
       "      <td>South</td>\n",
       "      <td>1979</td>\n",
       "    </tr>\n",
       "    <tr>\n",
       "      <th>61451</th>\n",
       "      <td>West</td>\n",
       "      <td>1984</td>\n",
       "    </tr>\n",
       "    <tr>\n",
       "      <th>61452</th>\n",
       "      <td>West</td>\n",
       "      <td>1970</td>\n",
       "    </tr>\n",
       "  </tbody>\n",
       "</table>\n",
       "<p>61453 rows × 2 columns</p>\n",
       "</div>"
      ],
      "text/plain": [
       "      REGION_ACTUAL  TBIRTH_YEAR\n",
       "0         Northeast         1973\n",
       "1              West         1945\n",
       "2             South         1975\n",
       "3           Midwest         1986\n",
       "4             South         1948\n",
       "...             ...          ...\n",
       "61448         South         1960\n",
       "61449     Northeast         1972\n",
       "61450         South         1979\n",
       "61451          West         1984\n",
       "61452          West         1970\n",
       "\n",
       "[61453 rows x 2 columns]"
      ]
     },
     "execution_count": 82,
     "metadata": {},
     "output_type": "execute_result"
    }
   ],
   "source": [
    "df_subset = df_subset.drop(['REGION'], axis = 1)\n",
    "df_subset"
   ]
  },
  {
   "cell_type": "markdown",
   "id": "70aa99b9",
   "metadata": {},
   "source": [
    "##### 2.5.3 Insert rows / Concatenate two DataFrame "
   ]
  },
  {
   "cell_type": "markdown",
   "id": "3379f505",
   "metadata": {},
   "source": [
    "Suppose we collect a new data, a person from Northeast and born at 1998"
   ]
  },
  {
   "cell_type": "code",
   "execution_count": 83,
   "id": "e74fc9f5",
   "metadata": {},
   "outputs": [
    {
     "name": "stderr",
     "output_type": "stream",
     "text": [
      "/tmp/ipykernel_213451/161409946.py:1: FutureWarning: The frame.append method is deprecated and will be removed from pandas in a future version. Use pandas.concat instead.\n",
      "  df_subset = df_subset.append({'REGION_ACTUAL': 'Northeast', 'TBIRTH_YEAR': 1998}, ignore_index=True)\n"
     ]
    },
    {
     "data": {
      "text/html": [
       "<div>\n",
       "<style scoped>\n",
       "    .dataframe tbody tr th:only-of-type {\n",
       "        vertical-align: middle;\n",
       "    }\n",
       "\n",
       "    .dataframe tbody tr th {\n",
       "        vertical-align: top;\n",
       "    }\n",
       "\n",
       "    .dataframe thead th {\n",
       "        text-align: right;\n",
       "    }\n",
       "</style>\n",
       "<table border=\"1\" class=\"dataframe\">\n",
       "  <thead>\n",
       "    <tr style=\"text-align: right;\">\n",
       "      <th></th>\n",
       "      <th>REGION_ACTUAL</th>\n",
       "      <th>TBIRTH_YEAR</th>\n",
       "    </tr>\n",
       "  </thead>\n",
       "  <tbody>\n",
       "    <tr>\n",
       "      <th>0</th>\n",
       "      <td>Northeast</td>\n",
       "      <td>1973</td>\n",
       "    </tr>\n",
       "    <tr>\n",
       "      <th>1</th>\n",
       "      <td>West</td>\n",
       "      <td>1945</td>\n",
       "    </tr>\n",
       "    <tr>\n",
       "      <th>2</th>\n",
       "      <td>South</td>\n",
       "      <td>1975</td>\n",
       "    </tr>\n",
       "    <tr>\n",
       "      <th>3</th>\n",
       "      <td>Midwest</td>\n",
       "      <td>1986</td>\n",
       "    </tr>\n",
       "    <tr>\n",
       "      <th>4</th>\n",
       "      <td>South</td>\n",
       "      <td>1948</td>\n",
       "    </tr>\n",
       "    <tr>\n",
       "      <th>...</th>\n",
       "      <td>...</td>\n",
       "      <td>...</td>\n",
       "    </tr>\n",
       "    <tr>\n",
       "      <th>61449</th>\n",
       "      <td>Northeast</td>\n",
       "      <td>1972</td>\n",
       "    </tr>\n",
       "    <tr>\n",
       "      <th>61450</th>\n",
       "      <td>South</td>\n",
       "      <td>1979</td>\n",
       "    </tr>\n",
       "    <tr>\n",
       "      <th>61451</th>\n",
       "      <td>West</td>\n",
       "      <td>1984</td>\n",
       "    </tr>\n",
       "    <tr>\n",
       "      <th>61452</th>\n",
       "      <td>West</td>\n",
       "      <td>1970</td>\n",
       "    </tr>\n",
       "    <tr>\n",
       "      <th>61453</th>\n",
       "      <td>Northeast</td>\n",
       "      <td>1998</td>\n",
       "    </tr>\n",
       "  </tbody>\n",
       "</table>\n",
       "<p>61454 rows × 2 columns</p>\n",
       "</div>"
      ],
      "text/plain": [
       "      REGION_ACTUAL  TBIRTH_YEAR\n",
       "0         Northeast         1973\n",
       "1              West         1945\n",
       "2             South         1975\n",
       "3           Midwest         1986\n",
       "4             South         1948\n",
       "...             ...          ...\n",
       "61449     Northeast         1972\n",
       "61450         South         1979\n",
       "61451          West         1984\n",
       "61452          West         1970\n",
       "61453     Northeast         1998\n",
       "\n",
       "[61454 rows x 2 columns]"
      ]
     },
     "execution_count": 83,
     "metadata": {},
     "output_type": "execute_result"
    }
   ],
   "source": [
    "df_subset = df_subset.append({'REGION_ACTUAL': 'Northeast', 'TBIRTH_YEAR': 1998}, ignore_index=True)\n",
    "df_subset"
   ]
  },
  {
   "cell_type": "markdown",
   "id": "bd687df3",
   "metadata": {},
   "source": [
    "A better way is, create a new dataframe and concatenate with the old\n",
    "\n",
    "Suppose we collect three more data, \n",
    "\n",
    "a person from Northeast and born at 1998\n",
    "\n",
    "a person from Northeast and born at 1999\n",
    "\n",
    "a person from Northeast and born at 2000"
   ]
  },
  {
   "cell_type": "code",
   "execution_count": 84,
   "id": "d5d77e34",
   "metadata": {},
   "outputs": [
    {
     "data": {
      "text/html": [
       "<div>\n",
       "<style scoped>\n",
       "    .dataframe tbody tr th:only-of-type {\n",
       "        vertical-align: middle;\n",
       "    }\n",
       "\n",
       "    .dataframe tbody tr th {\n",
       "        vertical-align: top;\n",
       "    }\n",
       "\n",
       "    .dataframe thead th {\n",
       "        text-align: right;\n",
       "    }\n",
       "</style>\n",
       "<table border=\"1\" class=\"dataframe\">\n",
       "  <thead>\n",
       "    <tr style=\"text-align: right;\">\n",
       "      <th></th>\n",
       "      <th>REGION_ACTUAL</th>\n",
       "      <th>TBIRTH_YEAR</th>\n",
       "    </tr>\n",
       "  </thead>\n",
       "  <tbody>\n",
       "    <tr>\n",
       "      <th>0</th>\n",
       "      <td>Northeast</td>\n",
       "      <td>1998</td>\n",
       "    </tr>\n",
       "    <tr>\n",
       "      <th>1</th>\n",
       "      <td>Northeast</td>\n",
       "      <td>1999</td>\n",
       "    </tr>\n",
       "    <tr>\n",
       "      <th>2</th>\n",
       "      <td>Northeast</td>\n",
       "      <td>2000</td>\n",
       "    </tr>\n",
       "  </tbody>\n",
       "</table>\n",
       "</div>"
      ],
      "text/plain": [
       "  REGION_ACTUAL  TBIRTH_YEAR\n",
       "0     Northeast         1998\n",
       "1     Northeast         1999\n",
       "2     Northeast         2000"
      ]
     },
     "execution_count": 84,
     "metadata": {},
     "output_type": "execute_result"
    }
   ],
   "source": [
    "data = {\n",
    "  \"REGION_ACTUAL\": ['Northeast', 'Northeast', 'Northeast'],\n",
    "  \"TBIRTH_YEAR\": [1998, 1999, 2000]\n",
    "}\n",
    "new_collected_df = pd.DataFrame(data)\n",
    "new_collected_df"
   ]
  },
  {
   "cell_type": "code",
   "execution_count": 85,
   "id": "f8d2ec2a",
   "metadata": {},
   "outputs": [
    {
     "data": {
      "text/html": [
       "<div>\n",
       "<style scoped>\n",
       "    .dataframe tbody tr th:only-of-type {\n",
       "        vertical-align: middle;\n",
       "    }\n",
       "\n",
       "    .dataframe tbody tr th {\n",
       "        vertical-align: top;\n",
       "    }\n",
       "\n",
       "    .dataframe thead th {\n",
       "        text-align: right;\n",
       "    }\n",
       "</style>\n",
       "<table border=\"1\" class=\"dataframe\">\n",
       "  <thead>\n",
       "    <tr style=\"text-align: right;\">\n",
       "      <th></th>\n",
       "      <th>REGION_ACTUAL</th>\n",
       "      <th>TBIRTH_YEAR</th>\n",
       "    </tr>\n",
       "  </thead>\n",
       "  <tbody>\n",
       "    <tr>\n",
       "      <th>0</th>\n",
       "      <td>Northeast</td>\n",
       "      <td>1973</td>\n",
       "    </tr>\n",
       "    <tr>\n",
       "      <th>1</th>\n",
       "      <td>West</td>\n",
       "      <td>1945</td>\n",
       "    </tr>\n",
       "    <tr>\n",
       "      <th>2</th>\n",
       "      <td>South</td>\n",
       "      <td>1975</td>\n",
       "    </tr>\n",
       "    <tr>\n",
       "      <th>3</th>\n",
       "      <td>Midwest</td>\n",
       "      <td>1986</td>\n",
       "    </tr>\n",
       "    <tr>\n",
       "      <th>4</th>\n",
       "      <td>South</td>\n",
       "      <td>1948</td>\n",
       "    </tr>\n",
       "    <tr>\n",
       "      <th>...</th>\n",
       "      <td>...</td>\n",
       "      <td>...</td>\n",
       "    </tr>\n",
       "    <tr>\n",
       "      <th>61452</th>\n",
       "      <td>West</td>\n",
       "      <td>1970</td>\n",
       "    </tr>\n",
       "    <tr>\n",
       "      <th>61453</th>\n",
       "      <td>Northeast</td>\n",
       "      <td>1998</td>\n",
       "    </tr>\n",
       "    <tr>\n",
       "      <th>61454</th>\n",
       "      <td>Northeast</td>\n",
       "      <td>1998</td>\n",
       "    </tr>\n",
       "    <tr>\n",
       "      <th>61455</th>\n",
       "      <td>Northeast</td>\n",
       "      <td>1999</td>\n",
       "    </tr>\n",
       "    <tr>\n",
       "      <th>61456</th>\n",
       "      <td>Northeast</td>\n",
       "      <td>2000</td>\n",
       "    </tr>\n",
       "  </tbody>\n",
       "</table>\n",
       "<p>61457 rows × 2 columns</p>\n",
       "</div>"
      ],
      "text/plain": [
       "      REGION_ACTUAL  TBIRTH_YEAR\n",
       "0         Northeast         1973\n",
       "1              West         1945\n",
       "2             South         1975\n",
       "3           Midwest         1986\n",
       "4             South         1948\n",
       "...             ...          ...\n",
       "61452          West         1970\n",
       "61453     Northeast         1998\n",
       "61454     Northeast         1998\n",
       "61455     Northeast         1999\n",
       "61456     Northeast         2000\n",
       "\n",
       "[61457 rows x 2 columns]"
      ]
     },
     "execution_count": 85,
     "metadata": {},
     "output_type": "execute_result"
    }
   ],
   "source": [
    "df_subset_more = pd.concat([df_subset, new_collected_df], ignore_index=True)\n",
    "df_subset_more"
   ]
  },
  {
   "cell_type": "markdown",
   "id": "e48c476f",
   "metadata": {},
   "source": [
    "\n",
    "#### 2.5.4 Complicated introduction for Dataframe operations\n",
    "\n",
    "\n",
    "https://pandas.pydata.org/docs/reference/frame.html\n",
    "\n",
    "After class question\n",
    "- How to filter the columns and rows with missing values? \n",
    "- Hint: read document at https://pandas.pydata.org/docs/reference/api/pandas.DataFrame.dropna.html\n"
   ]
  },
  {
   "cell_type": "markdown",
   "id": "e3bb7a1e",
   "metadata": {},
   "source": [
    "### 2.5 Some other useful operations\n"
   ]
  },
  {
   "cell_type": "markdown",
   "id": "e1d094e2",
   "metadata": {},
   "source": [
    "#### 2.5.1 Get the column names"
   ]
  },
  {
   "cell_type": "code",
   "execution_count": 86,
   "id": "f4409350",
   "metadata": {},
   "outputs": [
    {
     "data": {
      "text/plain": [
       "Index(['REGION_ACTUAL', 'TBIRTH_YEAR'], dtype='object')"
      ]
     },
     "execution_count": 86,
     "metadata": {},
     "output_type": "execute_result"
    }
   ],
   "source": [
    "df_subset.columns"
   ]
  },
  {
   "cell_type": "markdown",
   "id": "e349ac3b",
   "metadata": {},
   "source": [
    "#### 2.5.2 Rename the columns"
   ]
  },
  {
   "cell_type": "code",
   "execution_count": 87,
   "id": "53a2782e",
   "metadata": {},
   "outputs": [
    {
     "data": {
      "text/html": [
       "<div>\n",
       "<style scoped>\n",
       "    .dataframe tbody tr th:only-of-type {\n",
       "        vertical-align: middle;\n",
       "    }\n",
       "\n",
       "    .dataframe tbody tr th {\n",
       "        vertical-align: top;\n",
       "    }\n",
       "\n",
       "    .dataframe thead th {\n",
       "        text-align: right;\n",
       "    }\n",
       "</style>\n",
       "<table border=\"1\" class=\"dataframe\">\n",
       "  <thead>\n",
       "    <tr style=\"text-align: right;\">\n",
       "      <th></th>\n",
       "      <th>region_actual</th>\n",
       "      <th>date_of_birth</th>\n",
       "    </tr>\n",
       "  </thead>\n",
       "  <tbody>\n",
       "    <tr>\n",
       "      <th>0</th>\n",
       "      <td>Northeast</td>\n",
       "      <td>1973</td>\n",
       "    </tr>\n",
       "    <tr>\n",
       "      <th>1</th>\n",
       "      <td>West</td>\n",
       "      <td>1945</td>\n",
       "    </tr>\n",
       "    <tr>\n",
       "      <th>2</th>\n",
       "      <td>South</td>\n",
       "      <td>1975</td>\n",
       "    </tr>\n",
       "    <tr>\n",
       "      <th>3</th>\n",
       "      <td>Midwest</td>\n",
       "      <td>1986</td>\n",
       "    </tr>\n",
       "    <tr>\n",
       "      <th>4</th>\n",
       "      <td>South</td>\n",
       "      <td>1948</td>\n",
       "    </tr>\n",
       "  </tbody>\n",
       "</table>\n",
       "</div>"
      ],
      "text/plain": [
       "  region_actual  date_of_birth\n",
       "0     Northeast           1973\n",
       "1          West           1945\n",
       "2         South           1975\n",
       "3       Midwest           1986\n",
       "4         South           1948"
      ]
     },
     "execution_count": 87,
     "metadata": {},
     "output_type": "execute_result"
    }
   ],
   "source": [
    "df_subset.columns = ['region_actual', 'date_of_birth']\n",
    "df_subset.head()"
   ]
  },
  {
   "cell_type": "markdown",
   "id": "b72b76e7",
   "metadata": {},
   "source": [
    "#### 2.5.3 Summary of the data"
   ]
  },
  {
   "cell_type": "code",
   "execution_count": 88,
   "id": "fd6d9780",
   "metadata": {},
   "outputs": [
    {
     "data": {
      "text/plain": [
       "count    61454.000000\n",
       "mean      1970.927295\n",
       "std         16.440455\n",
       "min       1934.000000\n",
       "25%       1957.000000\n",
       "50%       1970.000000\n",
       "75%       1985.000000\n",
       "max       2004.000000\n",
       "Name: date_of_birth, dtype: float64"
      ]
     },
     "execution_count": 88,
     "metadata": {},
     "output_type": "execute_result"
    }
   ],
   "source": [
    "df_subset['date_of_birth'].describe()"
   ]
  },
  {
   "cell_type": "markdown",
   "id": "48f8dcd2",
   "metadata": {},
   "source": [
    "#### 2.5.4 Groupby / Aggregation"
   ]
  },
  {
   "cell_type": "markdown",
   "id": "8ba69434",
   "metadata": {},
   "source": [
    "Suppose we want to get the average data of birth for each region"
   ]
  },
  {
   "cell_type": "code",
   "execution_count": 89,
   "id": "f023d560",
   "metadata": {},
   "outputs": [
    {
     "data": {
      "text/html": [
       "<div>\n",
       "<style scoped>\n",
       "    .dataframe tbody tr th:only-of-type {\n",
       "        vertical-align: middle;\n",
       "    }\n",
       "\n",
       "    .dataframe tbody tr th {\n",
       "        vertical-align: top;\n",
       "    }\n",
       "\n",
       "    .dataframe thead th {\n",
       "        text-align: right;\n",
       "    }\n",
       "</style>\n",
       "<table border=\"1\" class=\"dataframe\">\n",
       "  <thead>\n",
       "    <tr style=\"text-align: right;\">\n",
       "      <th></th>\n",
       "      <th>date_of_birth</th>\n",
       "    </tr>\n",
       "    <tr>\n",
       "      <th>region_actual</th>\n",
       "      <th></th>\n",
       "    </tr>\n",
       "  </thead>\n",
       "  <tbody>\n",
       "    <tr>\n",
       "      <th>Midwest</th>\n",
       "      <td>1971.539768</td>\n",
       "    </tr>\n",
       "    <tr>\n",
       "      <th>Northeast</th>\n",
       "      <td>1971.201438</td>\n",
       "    </tr>\n",
       "    <tr>\n",
       "      <th>South</th>\n",
       "      <td>1970.669554</td>\n",
       "    </tr>\n",
       "    <tr>\n",
       "      <th>West</th>\n",
       "      <td>1970.629911</td>\n",
       "    </tr>\n",
       "  </tbody>\n",
       "</table>\n",
       "</div>"
      ],
      "text/plain": [
       "               date_of_birth\n",
       "region_actual               \n",
       "Midwest          1971.539768\n",
       "Northeast        1971.201438\n",
       "South            1970.669554\n",
       "West             1970.629911"
      ]
     },
     "execution_count": 89,
     "metadata": {},
     "output_type": "execute_result"
    }
   ],
   "source": [
    "df_subset.groupby(\"region_actual\").mean()"
   ]
  },
  {
   "cell_type": "markdown",
   "id": "668bb5fa",
   "metadata": {},
   "source": [
    "Suppose we want to count how may people for each region"
   ]
  },
  {
   "cell_type": "code",
   "execution_count": 90,
   "id": "d508a559",
   "metadata": {},
   "outputs": [
    {
     "data": {
      "text/html": [
       "<div>\n",
       "<style scoped>\n",
       "    .dataframe tbody tr th:only-of-type {\n",
       "        vertical-align: middle;\n",
       "    }\n",
       "\n",
       "    .dataframe tbody tr th {\n",
       "        vertical-align: top;\n",
       "    }\n",
       "\n",
       "    .dataframe thead th {\n",
       "        text-align: right;\n",
       "    }\n",
       "</style>\n",
       "<table border=\"1\" class=\"dataframe\">\n",
       "  <thead>\n",
       "    <tr style=\"text-align: right;\">\n",
       "      <th></th>\n",
       "      <th>date_of_birth</th>\n",
       "    </tr>\n",
       "    <tr>\n",
       "      <th>region_actual</th>\n",
       "      <th></th>\n",
       "    </tr>\n",
       "  </thead>\n",
       "  <tbody>\n",
       "    <tr>\n",
       "      <th>Midwest</th>\n",
       "      <td>13717</td>\n",
       "    </tr>\n",
       "    <tr>\n",
       "      <th>Northeast</th>\n",
       "      <td>8762</td>\n",
       "    </tr>\n",
       "    <tr>\n",
       "      <th>South</th>\n",
       "      <td>19858</td>\n",
       "    </tr>\n",
       "    <tr>\n",
       "      <th>West</th>\n",
       "      <td>19117</td>\n",
       "    </tr>\n",
       "  </tbody>\n",
       "</table>\n",
       "</div>"
      ],
      "text/plain": [
       "               date_of_birth\n",
       "region_actual               \n",
       "Midwest                13717\n",
       "Northeast               8762\n",
       "South                  19858\n",
       "West                   19117"
      ]
     },
     "execution_count": 90,
     "metadata": {},
     "output_type": "execute_result"
    }
   ],
   "source": [
    "df_subset.groupby(\"region_actual\").count()"
   ]
  },
  {
   "cell_type": "markdown",
   "id": "2f1b35e2",
   "metadata": {},
   "source": [
    "## 3. Matplotlib"
   ]
  },
  {
   "cell_type": "markdown",
   "id": "b1f69436",
   "metadata": {},
   "source": [
    "What is Matplotlib? \n",
    "\n",
    "- A comprehensive library for creating static, animated, and interactive visualizations in Python\n",
    "\n",
    "In the third part, we will give a brief introduction to Matplotlib using the dataframe from the second part\n",
    "\n",
    "Let's get started!"
   ]
  },
  {
   "cell_type": "markdown",
   "id": "3334b9e1",
   "metadata": {},
   "source": [
    "### 3.1 Installation guideline"
   ]
  },
  {
   "cell_type": "markdown",
   "id": "fb366200",
   "metadata": {},
   "source": [
    "In your comment line, run:\n",
    "\n",
    "    pip install matplotlib\n",
    "\n",
    "Or\n",
    "\n",
    "    conda install matplotlib"
   ]
  },
  {
   "cell_type": "code",
   "execution_count": 91,
   "id": "8032391d",
   "metadata": {},
   "outputs": [
    {
     "name": "stdout",
     "output_type": "stream",
     "text": [
      "Requirement already satisfied: matplotlib in /home/zizhang/anaconda3/lib/python3.8/site-packages (3.6.3)\n",
      "Requirement already satisfied: packaging>=20.0 in /home/zizhang/anaconda3/lib/python3.8/site-packages (from matplotlib) (23.0)\n",
      "Requirement already satisfied: pillow>=6.2.0 in /home/zizhang/anaconda3/lib/python3.8/site-packages (from matplotlib) (9.4.0)\n",
      "Requirement already satisfied: pyparsing>=2.2.1 in /home/zizhang/anaconda3/lib/python3.8/site-packages (from matplotlib) (3.0.9)\n",
      "Requirement already satisfied: contourpy>=1.0.1 in /home/zizhang/anaconda3/lib/python3.8/site-packages (from matplotlib) (1.0.7)\n",
      "Requirement already satisfied: python-dateutil>=2.7 in /home/zizhang/anaconda3/lib/python3.8/site-packages (from matplotlib) (2.8.2)\n",
      "Requirement already satisfied: fonttools>=4.22.0 in /home/zizhang/anaconda3/lib/python3.8/site-packages (from matplotlib) (4.38.0)\n",
      "Requirement already satisfied: cycler>=0.10 in /home/zizhang/anaconda3/lib/python3.8/site-packages (from matplotlib) (0.11.0)\n",
      "Requirement already satisfied: numpy>=1.19 in /home/zizhang/anaconda3/lib/python3.8/site-packages (from matplotlib) (1.22.4)\n",
      "Requirement already satisfied: kiwisolver>=1.0.1 in /home/zizhang/anaconda3/lib/python3.8/site-packages (from matplotlib) (1.4.4)\n",
      "Requirement already satisfied: six>=1.5 in /home/zizhang/anaconda3/lib/python3.8/site-packages (from python-dateutil>=2.7->matplotlib) (1.16.0)\n"
     ]
    }
   ],
   "source": [
    "# Or you can run the chunk\n",
    "!pip install matplotlib\n",
    "\n",
    "# for conda preferred: run\n",
    "# !conda install matplotlib"
   ]
  },
  {
   "cell_type": "code",
   "execution_count": 92,
   "id": "9acf8c8b",
   "metadata": {},
   "outputs": [],
   "source": [
    "import matplotlib.pyplot as plt"
   ]
  },
  {
   "cell_type": "markdown",
   "id": "4b30207f",
   "metadata": {},
   "source": [
    "##### 3.2 Distribution plot"
   ]
  },
  {
   "cell_type": "code",
   "execution_count": 93,
   "id": "c1a3b229",
   "metadata": {},
   "outputs": [
    {
     "name": "stderr",
     "output_type": "stream",
     "text": [
      "No artists with labels found to put in legend.  Note that artists whose label start with an underscore are ignored when legend() is called with no argument.\n",
      "No artists with labels found to put in legend.  Note that artists whose label start with an underscore are ignored when legend() is called with no argument.\n",
      "No artists with labels found to put in legend.  Note that artists whose label start with an underscore are ignored when legend() is called with no argument.\n"
     ]
    },
    {
     "data": {
      "image/png": "[encoded data removed]",
      "text/plain": [
       "<Figure size 800x600 with 1 Axes>"
      ]
     },
     "metadata": {},
     "output_type": "display_data"
    },
    {
     "data": {
      "image/png": "[encoded data removed]",
      "text/plain": [
       "<Figure size 800x600 with 1 Axes>"
      ]
     },
     "metadata": {},
     "output_type": "display_data"
    },
    {
     "data": {
      "image/png": "[encoded data removed]",
      "text/plain": [
       "<Figure size 800x600 with 1 Axes>"
      ]
     },
     "metadata": {},
     "output_type": "display_data"
    }
   ],
   "source": [
    "# From prof. pengyu's code\n",
    "selected_columns = ['TBIRTH_YEAR','LONGCOVID','RRACE']\n",
    "for ele in selected_columns:\n",
    "    c = df[ele]\n",
    "    plt.figure(figsize=(8,6))\n",
    "    plt.hist(c, weights=np.ones(len(c)) / len(c)*100,alpha=1)\n",
    "    plt.xlabel(\"%s\"%(ele), size=14)\n",
    "    plt.ylabel(\"Percentage\", size=14)\n",
    "    plt.title(\"Frequency percentage distribution of %s\"%(ele))\n",
    "    plt.legend(loc='center right')"
   ]
  },
  {
   "cell_type": "code",
   "execution_count": 94,
   "id": "80377497",
   "metadata": {},
   "outputs": [
    {
     "name": "stderr",
     "output_type": "stream",
     "text": [
      "No artists with labels found to put in legend.  Note that artists whose label start with an underscore are ignored when legend() is called with no argument.\n",
      "No artists with labels found to put in legend.  Note that artists whose label start with an underscore are ignored when legend() is called with no argument.\n"
     ]
    },
    {
     "data": {
      "image/png": "[encoded data removed]",
      "text/plain": [
       "<Figure size 800x600 with 1 Axes>"
      ]
     },
     "metadata": {},
     "output_type": "display_data"
    },
    {
     "data": {
      "image/png": "[encoded data removed]",
      "text/plain": [
       "<Figure size 800x600 with 1 Axes>"
      ]
     },
     "metadata": {},
     "output_type": "display_data"
    }
   ],
   "source": [
    "selected_columns = ['HWEIGHT','PWEIGHT']\n",
    "for ele in selected_columns:\n",
    "    c = df[ele]\n",
    "    bins = np.arange(0,10000,100)\n",
    "    plt.figure(figsize=(8,6))\n",
    "    plt.hist(c, bins=bins,weights=np.ones(len(c)) / len(c)*100,alpha=1)\n",
    "    plt.xlabel(\"%s\"%(ele), size=14)\n",
    "    plt.ylabel(\"Percentage\", size=14)\n",
    "    plt.title(\"Frequency percentage distribution of %s\"%(ele))\n",
    "    plt.legend(loc='center right')"
   ]
  },
  {
   "cell_type": "markdown",
   "id": "5bc0d990",
   "metadata": {},
   "source": [
    "Check the following cheatsheets for matplotlib https://matplotlib.org/cheatsheets/"
   ]
  },
  {
   "cell_type": "markdown",
   "id": "258f0152",
   "metadata": {},
   "source": [
    "Thanks"
   ]
  }
 ],
 "metadata": {
  "kernelspec": {
   "display_name": "Python 3 (ipykernel)",
   "language": "python",
   "name": "python3"
  },
  "language_info": {
   "codemirror_mode": {
    "name": "ipython",
    "version": 3
   },
   "file_extension": ".py",
   "mimetype": "text/x-python",
   "name": "python",
   "nbconvert_exporter": "python",
   "pygments_lexer": "ipython3",
   "version": "3.8.15"
  }
 },
 "nbformat": 4,
 "nbformat_minor": 5
}
