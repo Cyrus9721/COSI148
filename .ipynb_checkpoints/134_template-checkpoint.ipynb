{
 "cells": [
  {
   "cell_type": "markdown",
   "metadata": {
    "slideshow": {
     "slide_type": "slide"
    }
   },
   "source": [
    "# Programming Environment Setup\n",
    "\n",
    "COSI-134A: StatNLP\n",
    "\n",
    "Jayeol Chun\n",
    "\n",
    "[jchun@brandeis.edu](mailto:jchun@brandeis.edu)"
   ]
  },
  {
   "cell_type": "markdown",
   "metadata": {
    "slideshow": {
     "slide_type": "slide"
    }
   },
   "source": [
    "## Contents\n",
    "1. Using Terminal\n",
    "2. Working Remotely\n",
    "3. Screen\n",
    "4. My Setup with PyCharm Pro\n",
    "5. Google Colab Pro (with Jin)\n",
    "6. Quick remark about PA1"
   ]
  },
  {
   "cell_type": "markdown",
   "metadata": {
    "slideshow": {
     "slide_type": "slide"
    }
   },
   "source": [
    "## 1. Using Terminal"
   ]
  },
  {
   "cell_type": "markdown",
   "metadata": {
    "slideshow": {
     "slide_type": "-"
    }
   },
   "source": [
    "Warning for Window users:\n",
    "* None of what follows was tested on Windows; no guarantee that it will work on terminal emulations smoothly."
   ]
  },
  {
   "cell_type": "markdown",
   "metadata": {
    "slideshow": {
     "slide_type": "subslide"
    }
   },
   "source": [
    "Did you know?\n",
    "\n",
    "###### You can type and execute Bash Commands in IPython notebooks by writing your command after `!`"
   ]
  },
  {
   "cell_type": "code",
   "execution_count": 1,
   "metadata": {
    "slideshow": {
     "slide_type": "fragment"
    }
   },
   "outputs": [
    {
     "name": "stdout",
     "output_type": "stream",
     "text": [
      "jchun\r\n"
     ]
    }
   ],
   "source": [
    "!whoami"
   ]
  },
  {
   "cell_type": "markdown",
   "metadata": {
    "slideshow": {
     "slide_type": "slide"
    }
   },
   "source": [
    "### 1. Navigating"
   ]
  },
  {
   "cell_type": "markdown",
   "metadata": {
    "slideshow": {
     "slide_type": "fragment"
    }
   },
   "source": [
    "### `pwd`\n",
    "* Present working directory\n",
    "* i.e. where you are currently at"
   ]
  },
  {
   "cell_type": "code",
   "execution_count": 2,
   "metadata": {},
   "outputs": [
    {
     "name": "stdout",
     "output_type": "stream",
     "text": [
      "/Users/jchun/Documents/Fall_2021/StatNLP/Tutorials/Week_3_Setup\r\n"
     ]
    }
   ],
   "source": [
    "!pwd"
   ]
  },
  {
   "cell_type": "markdown",
   "metadata": {
    "slideshow": {
     "slide_type": "slide"
    }
   },
   "source": [
    "### `ls`\n",
    "* List\n",
    "* Useful Flags:\n",
    "    * `-l`: show in list format\n",
    "    * `-h`: make it easier to read\n",
    "    * `-a`: show hidden files\n",
    "* i.e. lists all contents in the current directory"
   ]
  },
  {
   "cell_type": "code",
   "execution_count": 3,
   "metadata": {},
   "outputs": [
    {
     "name": "stdout",
     "output_type": "stream",
     "text": [
      "\u001b[31mSetup.ipynb\u001b[m\u001b[m\r\n"
     ]
    }
   ],
   "source": [
    "!ls"
   ]
  },
  {
   "cell_type": "markdown",
   "metadata": {
    "slideshow": {
     "slide_type": "subslide"
    }
   },
   "source": [
    "Special Characters\n",
    "* `.`: current location\n",
    "* `..`: parent directory\n",
    "* `~`: your HOME directory"
   ]
  },
  {
   "cell_type": "code",
   "execution_count": 4,
   "metadata": {
    "slideshow": {
     "slide_type": "-"
    }
   },
   "outputs": [
    {
     "name": "stdout",
     "output_type": "stream",
     "text": [
      "\u001b[1m\u001b[36mDesktop\u001b[m\u001b[m   \u001b[1m\u001b[36mDownloads\u001b[m\u001b[m \u001b[1m\u001b[36mLibrary\u001b[m\u001b[m   \u001b[1m\u001b[36mMusic\u001b[m\u001b[m     \u001b[1m\u001b[36mPictures\u001b[m\u001b[m\r\n",
      "\u001b[1m\u001b[36mDocuments\u001b[m\u001b[m \u001b[1m\u001b[36mDropbox\u001b[m\u001b[m   \u001b[1m\u001b[36mMovies\u001b[m\u001b[m    \u001b[1m\u001b[36mOneDrive\u001b[m\u001b[m  \u001b[1m\u001b[36mPublic\u001b[m\u001b[m\r\n"
     ]
    }
   ],
   "source": [
    "!ls ~"
   ]
  },
  {
   "cell_type": "markdown",
   "metadata": {
    "slideshow": {
     "slide_type": "subslide"
    }
   },
   "source": [
    "Using all Flags"
   ]
  },
  {
   "cell_type": "code",
   "execution_count": 5,
   "metadata": {},
   "outputs": [
    {
     "name": "stdout",
     "output_type": "stream",
     "text": [
      "total 16\r\n",
      "drwxr-xr-x  7 jchun  staff   224B Sep 10 11:30 \u001b[1m\u001b[36m.\u001b[m\u001b[m\r\n",
      "drwxr-xr-x  4 jchun  staff   128B Aug 25 23:07 \u001b[1m\u001b[36m..\u001b[m\u001b[m\r\n",
      "-rw-r--r--@ 1 jchun  staff   6.0K Sep 10 11:33 .DS_Store\r\n",
      "drwxr-xr-x  2 jchun  staff    64B Sep  1 17:40 \u001b[1m\u001b[36m.ipynb_checkpoints\u001b[m\u001b[m\r\n",
      "drwxr-xr-x  5 jchun  staff   160B Aug 27 13:31 \u001b[1m\u001b[36mWeek_1_Introduction\u001b[m\u001b[m\r\n",
      "drwxr-xr-x  4 jchun  staff   128B Sep  3 16:18 \u001b[1m\u001b[36mWeek_2_Calculus\u001b[m\u001b[m\r\n",
      "drwxr-xr-x  5 jchun  staff   160B Sep 10 14:04 \u001b[1m\u001b[36mWeek_3_Setup\u001b[m\u001b[m\r\n"
     ]
    }
   ],
   "source": [
    "!ls -lah .."
   ]
  },
  {
   "cell_type": "markdown",
   "metadata": {
    "slideshow": {
     "slide_type": "slide"
    }
   },
   "source": [
    "### 3. `cd`\n",
    "* Change directory\n",
    "* i.e. move to the specified path"
   ]
  },
  {
   "cell_type": "code",
   "execution_count": 6,
   "metadata": {},
   "outputs": [
    {
     "name": "stdout",
     "output_type": "stream",
     "text": [
      "/Users/jchun/Documents/Fall_2021/StatNLP/Tutorials/Week_3_Setup\n",
      "/Users/jchun/Downloads\n"
     ]
    }
   ],
   "source": [
    "!pwd\n",
    "\n",
    "!cd /Users/jchun/Downloads; pwd"
   ]
  },
  {
   "cell_type": "markdown",
   "metadata": {
    "slideshow": {
     "slide_type": "slide"
    }
   },
   "source": [
    "### 2. Files"
   ]
  },
  {
   "cell_type": "markdown",
   "metadata": {
    "slideshow": {
     "slide_type": "-"
    }
   },
   "source": [
    "#### 2.1. Managing Files"
   ]
  },
  {
   "cell_type": "markdown",
   "metadata": {
    "slideshow": {
     "slide_type": "-"
    }
   },
   "source": [
    "#### 1. `touch`\n",
    "* Touch\n",
    "* i.e. create new, empty file(s)"
   ]
  },
  {
   "cell_type": "code",
   "execution_count": 7,
   "metadata": {},
   "outputs": [],
   "source": [
    "!touch empty_file.txt "
   ]
  },
  {
   "cell_type": "code",
   "execution_count": 8,
   "metadata": {},
   "outputs": [
    {
     "name": "stdout",
     "output_type": "stream",
     "text": [
      "total 48\r\n",
      "-rwxr-xr-x@ 1 jchun  staff    23K Sep 10 14:06 \u001b[31mSetup.ipynb\u001b[m\u001b[m\r\n",
      "-rw-r--r--  1 jchun  staff     0B Sep 10 14:06 empty_file.txt\r\n"
     ]
    }
   ],
   "source": [
    "!ls -lh"
   ]
  },
  {
   "cell_type": "markdown",
   "metadata": {
    "slideshow": {
     "slide_type": "slide"
    }
   },
   "source": [
    "#### 2. `mkdir`\n",
    "* Make Directory\n",
    "* i.e. make directory at a specified path"
   ]
  },
  {
   "cell_type": "code",
   "execution_count": 9,
   "metadata": {
    "slideshow": {
     "slide_type": "-"
    }
   },
   "outputs": [],
   "source": [
    "!mkdir assets"
   ]
  },
  {
   "cell_type": "code",
   "execution_count": 10,
   "metadata": {},
   "outputs": [
    {
     "name": "stdout",
     "output_type": "stream",
     "text": [
      "total 48\r\n",
      "-rwxr-xr-x@ 1 jchun  staff    23K Sep 10 14:06 \u001b[31mSetup.ipynb\u001b[m\u001b[m\r\n",
      "drwxr-xr-x  2 jchun  staff    64B Sep 10 14:07 \u001b[1m\u001b[36massets\u001b[m\u001b[m\r\n",
      "-rw-r--r--  1 jchun  staff     0B Sep 10 14:06 empty_file.txt\r\n"
     ]
    }
   ],
   "source": [
    "!ls -lh"
   ]
  },
  {
   "cell_type": "markdown",
   "metadata": {
    "slideshow": {
     "slide_type": "slide"
    }
   },
   "source": [
    "#### 3. `mv`\n",
    "* Move\n",
    "* i.e. moves a file (or a list of files) to the last specified path"
   ]
  },
  {
   "cell_type": "code",
   "execution_count": 11,
   "metadata": {},
   "outputs": [
    {
     "name": "stdout",
     "output_type": "stream",
     "text": [
      "total 48\r\n",
      "-rwxr-xr-x@ 1 jchun  staff    23K Sep 10 14:06 \u001b[31mSetup.ipynb\u001b[m\u001b[m\r\n",
      "drwxr-xr-x  2 jchun  staff    64B Sep 10 14:07 \u001b[1m\u001b[36massets\u001b[m\u001b[m\r\n",
      "-rw-r--r--  1 jchun  staff     0B Sep 10 14:06 empty_file.txt\r\n"
     ]
    }
   ],
   "source": [
    "!ls -lh"
   ]
  },
  {
   "cell_type": "code",
   "execution_count": 12,
   "metadata": {},
   "outputs": [],
   "source": [
    "!ls -lh assets"
   ]
  },
  {
   "cell_type": "code",
   "execution_count": 13,
   "metadata": {
    "slideshow": {
     "slide_type": "-"
    }
   },
   "outputs": [
    {
     "name": "stdout",
     "output_type": "stream",
     "text": [
      "total 0\r\n",
      "-rw-r--r--  1 jchun  staff     0B Sep 10 14:06 empty_file.txt\r\n"
     ]
    }
   ],
   "source": [
    "!mv empty_file.txt assets; ls -lh assets"
   ]
  },
  {
   "cell_type": "code",
   "execution_count": 14,
   "metadata": {},
   "outputs": [
    {
     "name": "stdout",
     "output_type": "stream",
     "text": [
      "total 48\r\n",
      "-rwxr-xr-x@ 1 jchun  staff    24K Sep 10 14:08 \u001b[31mSetup.ipynb\u001b[m\u001b[m\r\n",
      "drwxr-xr-x  3 jchun  staff    96B Sep 10 14:08 \u001b[1m\u001b[36massets\u001b[m\u001b[m\r\n"
     ]
    }
   ],
   "source": [
    "!ls -lh"
   ]
  },
  {
   "cell_type": "markdown",
   "metadata": {
    "slideshow": {
     "slide_type": "slide"
    }
   },
   "source": [
    "You can also use `mv` to rename folders/files"
   ]
  },
  {
   "cell_type": "code",
   "execution_count": 15,
   "metadata": {},
   "outputs": [
    {
     "name": "stdout",
     "output_type": "stream",
     "text": [
      "total 0\r\n",
      "-rw-r--r--  1 jchun  staff     0B Sep 10 14:06 empty_file.txt\r\n"
     ]
    }
   ],
   "source": [
    "!ls -lh assets"
   ]
  },
  {
   "cell_type": "code",
   "execution_count": 16,
   "metadata": {
    "slideshow": {
     "slide_type": "-"
    }
   },
   "outputs": [
    {
     "name": "stdout",
     "output_type": "stream",
     "text": [
      "total 0\r\n",
      "-rw-r--r--  1 jchun  staff     0B Sep 10 14:06 notes.txt\r\n"
     ]
    }
   ],
   "source": [
    "!mv assets/empty_file.txt assets/notes.txt; ls -lh assets"
   ]
  },
  {
   "cell_type": "markdown",
   "metadata": {
    "slideshow": {
     "slide_type": "slide"
    }
   },
   "source": [
    "#### 4. `cp`\n",
    "* Copy\n",
    "* copies a file to another location"
   ]
  },
  {
   "cell_type": "code",
   "execution_count": 17,
   "metadata": {},
   "outputs": [
    {
     "name": "stdout",
     "output_type": "stream",
     "text": [
      "total 48\r\n",
      "-rwxr-xr-x@ 1 jchun  staff    24K Sep 10 14:08 \u001b[31mSetup.ipynb\u001b[m\u001b[m\r\n",
      "drwxr-xr-x  3 jchun  staff    96B Sep 10 14:08 \u001b[1m\u001b[36massets\u001b[m\u001b[m\r\n"
     ]
    }
   ],
   "source": [
    "!ls -lh"
   ]
  },
  {
   "cell_type": "code",
   "execution_count": 18,
   "metadata": {},
   "outputs": [
    {
     "name": "stdout",
     "output_type": "stream",
     "text": [
      "total 48\r\n",
      "-rwxr-xr-x@ 1 jchun  staff    24K Sep 10 14:08 \u001b[31mSetup.ipynb\u001b[m\u001b[m\r\n",
      "drwxr-xr-x  3 jchun  staff    96B Sep 10 14:08 \u001b[1m\u001b[36massets\u001b[m\u001b[m\r\n",
      "-rw-r--r--  1 jchun  staff     0B Sep 10 14:09 target.dev\r\n"
     ]
    }
   ],
   "source": [
    "!touch target.dev; ls -lh"
   ]
  },
  {
   "cell_type": "code",
   "execution_count": 19,
   "metadata": {
    "slideshow": {
     "slide_type": "-"
    }
   },
   "outputs": [
    {
     "name": "stdout",
     "output_type": "stream",
     "text": [
      "total 48\r\n",
      "-rwxr-xr-x@ 1 jchun  staff    24K Sep 10 14:08 \u001b[31mSetup.ipynb\u001b[m\u001b[m\r\n",
      "drwxr-xr-x  4 jchun  staff   128B Sep 10 14:09 \u001b[1m\u001b[36massets\u001b[m\u001b[m\r\n",
      "-rw-r--r--  1 jchun  staff     0B Sep 10 14:09 target.dev\r\n"
     ]
    }
   ],
   "source": [
    "!cp target.dev assets; ls -lh"
   ]
  },
  {
   "cell_type": "code",
   "execution_count": 20,
   "metadata": {},
   "outputs": [
    {
     "name": "stdout",
     "output_type": "stream",
     "text": [
      "total 0\r\n",
      "-rw-r--r--  1 jchun  staff     0B Sep 10 14:06 notes.txt\r\n",
      "-rw-r--r--  1 jchun  staff     0B Sep 10 14:09 target.dev\r\n"
     ]
    }
   ],
   "source": [
    "!ls -lh assets"
   ]
  },
  {
   "cell_type": "markdown",
   "metadata": {
    "slideshow": {
     "slide_type": "slide"
    }
   },
   "source": [
    "#### 5. `rm`\n",
    "* Remove\n",
    "* USEFUL FLAGS\n",
    "    * `-r`: recursively deletes subdirectories and files\n",
    "    * `-f`: force deletion without prompting user input\n",
    "* removes a file (or a list of files)"
   ]
  },
  {
   "cell_type": "markdown",
   "metadata": {
    "slideshow": {
     "slide_type": "slide"
    }
   },
   "source": [
    "#### 2.2. Viewing Files"
   ]
  },
  {
   "cell_type": "markdown",
   "metadata": {
    "slideshow": {
     "slide_type": "-"
    }
   },
   "source": [
    "#### 1. `vi` or `vim`\n",
    "* Vim\n",
    "* i.e. an editor that allows user to view and modify a file"
   ]
  },
  {
   "cell_type": "markdown",
   "metadata": {},
   "source": [
    "##### random text\n",
    "DNA sequence data from genomic and metagenomic projects are essentially the same\n",
    "\n",
    "but genomic sequence data offers higher coverage while metagenomic data is usually highly non-redundant."
   ]
  },
  {
   "cell_type": "code",
   "execution_count": null,
   "metadata": {},
   "outputs": [],
   "source": [
    "!vi test.file"
   ]
  },
  {
   "cell_type": "markdown",
   "metadata": {
    "slideshow": {
     "slide_type": "slide"
    }
   },
   "source": [
    "* `up`/`down` arrows to navigate\n",
    "* `gg`: go to the top\n",
    "* `G`: go to the bottom\n",
    "* `:/text`: search for `text`\n",
    "    * `:noh`: quit highligting\n",
    "* `:q!`: exit without saving\n",
    "* `:wq`: exit after saving"
   ]
  },
  {
   "cell_type": "markdown",
   "metadata": {
    "slideshow": {
     "slide_type": "slide"
    }
   },
   "source": [
    "#### 2. `cat`\n",
    "* Concatenate\n",
    "* prints out the entire file"
   ]
  },
  {
   "cell_type": "code",
   "execution_count": 21,
   "metadata": {
    "slideshow": {
     "slide_type": "-"
    }
   },
   "outputs": [
    {
     "name": "stdout",
     "output_type": "stream",
     "text": [
      "DNA sequence data from genomic and metagenomic projects are essentially the same\r\n",
      "\r\n",
      "but genomic sequence data offers higher coverage while metagenomic data is usually highly non-redundant.\r\n"
     ]
    }
   ],
   "source": [
    "!cat test.file "
   ]
  },
  {
   "cell_type": "markdown",
   "metadata": {
    "slideshow": {
     "slide_type": "slide"
    }
   },
   "source": [
    "#### 3. `less`\n",
    "* Less\n",
    "* i.e. prints out the file one screen at a time"
   ]
  },
  {
   "cell_type": "code",
   "execution_count": null,
   "metadata": {},
   "outputs": [],
   "source": [
    "!less example.txt"
   ]
  },
  {
   "cell_type": "markdown",
   "metadata": {
    "slideshow": {
     "slide_type": "subslide"
    }
   },
   "source": [
    "* `up`/`down` arrows to navigate\n",
    "* `gg`: go to the top\n",
    "* `G`: go to the bottom\n",
    "* `/substring`: search for 'substring'"
   ]
  },
  {
   "cell_type": "markdown",
   "metadata": {
    "slideshow": {
     "slide_type": "slide"
    }
   },
   "source": [
    "### 3. Miscellaneous"
   ]
  },
  {
   "cell_type": "markdown",
   "metadata": {
    "slideshow": {
     "slide_type": "-"
    }
   },
   "source": [
    "#### 1. `wc`\n",
    "* Word Count\n",
    "* i.e. displays:\n",
    "    1. number of lines (`-l`)\n",
    "    2. number of words (`-w`)\n",
    "    3. number of bytes"
   ]
  },
  {
   "cell_type": "code",
   "execution_count": 22,
   "metadata": {},
   "outputs": [
    {
     "name": "stdout",
     "output_type": "stream",
     "text": [
      "       3      26     187 test.file\r\n"
     ]
    }
   ],
   "source": [
    "!wc test.file"
   ]
  },
  {
   "cell_type": "markdown",
   "metadata": {
    "slideshow": {
     "slide_type": "slide"
    }
   },
   "source": [
    "#### 2. `who`"
   ]
  },
  {
   "cell_type": "code",
   "execution_count": 23,
   "metadata": {},
   "outputs": [
    {
     "name": "stdout",
     "output_type": "stream",
     "text": [
      "jchun    console  Aug 30 10:42 \r\n",
      "jchun    ttys002  Aug 30 13:27 \r\n",
      "jchun    ttys003  Sep 10 13:20 \r\n",
      "jchun    ttys004  Aug 30 17:36 \r\n",
      "jchun    ttys005  Sep 10 00:55 \r\n"
     ]
    }
   ],
   "source": [
    "!who"
   ]
  },
  {
   "cell_type": "markdown",
   "metadata": {
    "slideshow": {
     "slide_type": "slide"
    }
   },
   "source": [
    "#### 3. `which`\n",
    "* Which\n",
    "* i.e. displays full path to the specified executable command"
   ]
  },
  {
   "cell_type": "code",
   "execution_count": 24,
   "metadata": {},
   "outputs": [
    {
     "name": "stdout",
     "output_type": "stream",
     "text": [
      "/Users/jchun/.virtualenvs/Presentation/bin/python\r\n"
     ]
    }
   ],
   "source": [
    "!which python"
   ]
  },
  {
   "cell_type": "code",
   "execution_count": 26,
   "metadata": {
    "slideshow": {
     "slide_type": "-"
    }
   },
   "outputs": [
    {
     "name": "stdout",
     "output_type": "stream",
     "text": [
      "/bin/ls\r\n"
     ]
    }
   ],
   "source": [
    "!which ls"
   ]
  },
  {
   "cell_type": "markdown",
   "metadata": {
    "slideshow": {
     "slide_type": "slide"
    }
   },
   "source": [
    "#### 4. `top` (or `htop` if installed)"
   ]
  },
  {
   "cell_type": "markdown",
   "metadata": {},
   "source": [
    "* Top\n",
    "* i.e. displays information about current processes"
   ]
  },
  {
   "cell_type": "code",
   "execution_count": null,
   "metadata": {},
   "outputs": [],
   "source": [
    "!top"
   ]
  },
  {
   "cell_type": "code",
   "execution_count": null,
   "metadata": {},
   "outputs": [],
   "source": [
    "!htop"
   ]
  },
  {
   "cell_type": "markdown",
   "metadata": {
    "slideshow": {
     "slide_type": "slide"
    }
   },
   "source": [
    "#### 5. `nvidia-smi`"
   ]
  },
  {
   "cell_type": "markdown",
   "metadata": {},
   "source": [
    "* Nvidia System Management Interface\n",
    "* i.e. displays information about GPU(s)"
   ]
  },
  {
   "cell_type": "code",
   "execution_count": null,
   "metadata": {},
   "outputs": [],
   "source": [
    "!nvidia-smi"
   ]
  },
  {
   "cell_type": "markdown",
   "metadata": {
    "slideshow": {
     "slide_type": "slide"
    }
   },
   "source": [
    "## 3. Working Remotely"
   ]
  },
  {
   "cell_type": "markdown",
   "metadata": {
    "slideshow": {
     "slide_type": "-"
    }
   },
   "source": [
    "Accessing a remote server (school workstation or AWS EC2 instance) to run jobs\n",
    "* `local`: on your PC\n",
    "* `remote`: remote server"
   ]
  },
  {
   "cell_type": "markdown",
   "metadata": {
    "slideshow": {
     "slide_type": "subslide"
    }
   },
   "source": [
    "Advantages:\n",
    "1. No longer physically tied to a public machine \n",
    "2. Can work from your preferred, internet-available location \n",
    "3. Your PC will be happier"
   ]
  },
  {
   "cell_type": "markdown",
   "metadata": {
    "slideshow": {
     "slide_type": "fragment"
    }
   },
   "source": [
    "Disadvantages:\n",
    "1. No root privilege (sometimes)\n",
    "3. May have to compete for resources\n",
    "5. Two environments to manage\n",
    "4. (Possibly) Less efficient workflow"
   ]
  },
  {
   "cell_type": "markdown",
   "metadata": {
    "slideshow": {
     "slide_type": "slide"
    }
   },
   "source": [
    "Workflow 1:\n",
    "* Coding locally & Running remotely"
   ]
  },
  {
   "cell_type": "markdown",
   "metadata": {
    "slideshow": {
     "slide_type": "fragment"
    }
   },
   "source": [
    "1. Write code locally\n",
    "2. Send your code to remote\n",
    "3. Run the program in remote\n",
    "4. Debug by going back to 1"
   ]
  },
  {
   "cell_type": "markdown",
   "metadata": {
    "slideshow": {
     "slide_type": "fragment"
    }
   },
   "source": [
    "Can use your favorite IDEs and coding environment\n",
    "* But having to constantly synchronize annoying"
   ]
  },
  {
   "cell_type": "markdown",
   "metadata": {
    "slideshow": {
     "slide_type": "subslide"
    }
   },
   "source": [
    "Workflow 2:\n",
    "* Coding & Running remotely"
   ]
  },
  {
   "cell_type": "markdown",
   "metadata": {
    "slideshow": {
     "slide_type": "fragment"
    }
   },
   "source": [
    "1. Send your code to remote\n",
    "2. Write code remotely using editors like `vim`\n",
    "3. Run the program in remote\n",
    "4. Debug by going back to 2"
   ]
  },
  {
   "cell_type": "markdown",
   "metadata": {
    "slideshow": {
     "slide_type": "fragment"
    }
   },
   "source": [
    "No need to worry about synchronizing as much, although local and remote source codes will be different versions\n",
    "* But requires proficiency in `vim` or its equivalents"
   ]
  },
  {
   "cell_type": "markdown",
   "metadata": {
    "slideshow": {
     "slide_type": "slide"
    }
   },
   "source": [
    "### 1. `ssh`\n",
    "* Secure Shell\n",
    "* i.e. remote login"
   ]
  },
  {
   "cell_type": "markdown",
   "metadata": {
    "slideshow": {
     "slide_type": "subslide"
    }
   },
   "source": [
    "[Brandeis Public Workstations](https://www.cs.brandeis.edu/~guru/workstations/)\n",
    "\n",
    "* You need a CS account (if you don't, see [here](https://www.cs.brandeis.edu/~guru/faq/#get-cs-account))"
   ]
  },
  {
   "cell_type": "code",
   "execution_count": 27,
   "metadata": {},
   "outputs": [
    {
     "name": "stdout",
     "output_type": "stream",
     "text": [
      "Last login: Fri Sep 10 11:14:32 2021 from 129.64.55.217\n",
      "#############################################\n",
      "#/              Welcome to the             \\#\n",
      "#       Brandeis University CS Department   #\n",
      "#-------------------------------------------#\n",
      "#\\   Email guru for questions or problems  /#\n",
      "#############################################\n",
      "             You are using diadem            \n",
      "\n",
      "\n",
      "        Want a job? The CS Systems Operations group\n",
      "        is hiring student \"gurus\" to help build,\n",
      "        run, and support the department systems.\n",
      "\n",
      "Apply to gurujob@cs.brandeis.edu, or visit us in Volen 125.\n",
      "\n",
      "        Linux experience helpful but not required.\n",
      "\n",
      "Brandeis is an affirmative action/equal opportunity employer!\n",
      "\n",
      "[jchun@diadem ~]$ ^C\n",
      "[jchun@diadem ~]$ "
     ]
    }
   ],
   "source": [
    "!ssh jchun@diadem.cs.brandeis.edu"
   ]
  },
  {
   "cell_type": "code",
   "execution_count": null,
   "metadata": {},
   "outputs": [],
   "source": [
    "!ssh jchun@diadem.cs.brandeis.edu -t \"ls Documents/StatNLP/Week_3_Setup\""
   ]
  },
  {
   "cell_type": "code",
   "execution_count": null,
   "metadata": {},
   "outputs": [],
   "source": [
    "!ssh jchun@diadem.cs.brandeis.edu -t \"cat Documents/StatNLP/Week_3_Setup/remote.txt\""
   ]
  },
  {
   "cell_type": "markdown",
   "metadata": {
    "slideshow": {
     "slide_type": "slide"
    }
   },
   "source": [
    "### 2. `scp`\n",
    "* Secure Copy\n",
    "* i.e. copies a file or folder (with `-r` flag)\n",
    "    1. from remote to local\n",
    "    2. from local to remote"
   ]
  },
  {
   "cell_type": "code",
   "execution_count": 28,
   "metadata": {},
   "outputs": [
    {
     "name": "stdout",
     "output_type": "stream",
     "text": [
      "\r",
      "remote.txt                                      0%    0     0.0KB/s   --:-- ETA\r",
      "remote.txt                                    100%  133    20.2KB/s   00:00    \r\n"
     ]
    }
   ],
   "source": [
    "# from remote to local\n",
    "!scp jchun@diadem.cs.brandeis.edu:/home/b/jchun/Documents/StatNLP/Week_3_Setup/remote.txt ."
   ]
  },
  {
   "cell_type": "code",
   "execution_count": 29,
   "metadata": {
    "slideshow": {
     "slide_type": "-"
    }
   },
   "outputs": [
    {
     "name": "stdout",
     "output_type": "stream",
     "text": [
      "The second layer, third and fourth hidden layers are consisting of 128, 64 and 16 neurons respectively and they are fully connected.\r\n"
     ]
    }
   ],
   "source": [
    "!cat remote.txt"
   ]
  },
  {
   "cell_type": "code",
   "execution_count": 30,
   "metadata": {},
   "outputs": [
    {
     "name": "stdout",
     "output_type": "stream",
     "text": [
      "test.file                                     100%  187    17.3KB/s   00:00    \n"
     ]
    }
   ],
   "source": [
    "# from local to remote (further note how the filename has been changed)\n",
    "!scp test.file jchun@diadem.cs.brandeis.edu:/home/b/jchun/Documents/StatNLP/Week_3_Setup/test.txt"
   ]
  },
  {
   "cell_type": "code",
   "execution_count": 31,
   "metadata": {},
   "outputs": [
    {
     "name": "stdout",
     "output_type": "stream",
     "text": [
      "remote.txt  Setup.ipynb  test.txt\r\n",
      "Connection to diadem.cs.brandeis.edu closed.\r",
      "\r\n"
     ]
    }
   ],
   "source": [
    "!ssh jchun@diadem.cs.brandeis.edu -t \"ls Documents/StatNLP/Week_3_Setup\""
   ]
  },
  {
   "cell_type": "markdown",
   "metadata": {
    "slideshow": {
     "slide_type": "slide"
    }
   },
   "source": [
    "## 2. Screen"
   ]
  },
  {
   "cell_type": "markdown",
   "metadata": {},
   "source": [
    "`ssh` will automatically disconnect after a certain period of inactivity.\n",
    "* What if your job takes hours, perhaps days to execute?"
   ]
  },
  {
   "cell_type": "markdown",
   "metadata": {
    "slideshow": {
     "slide_type": "slide"
    }
   },
   "source": [
    "### 1. `screen`\n",
    "* allows processes to run in background"
   ]
  },
  {
   "cell_type": "markdown",
   "metadata": {
    "slideshow": {
     "slide_type": "subslide"
    }
   },
   "source": [
    "#### 1. `-S [screen_name]`\n",
    "\n",
    "* Starts a new screen session with name \\[screen_name\\]"
   ]
  },
  {
   "cell_type": "code",
   "execution_count": null,
   "metadata": {},
   "outputs": [],
   "source": [
    "!screen -S test"
   ]
  },
  {
   "cell_type": "markdown",
   "metadata": {
    "slideshow": {
     "slide_type": "slide"
    }
   },
   "source": [
    "#### 2. `-ls`\n",
    "* Lists all screen sessions"
   ]
  },
  {
   "cell_type": "code",
   "execution_count": null,
   "metadata": {},
   "outputs": [],
   "source": [
    "!screen -ls"
   ]
  },
  {
   "cell_type": "markdown",
   "metadata": {
    "slideshow": {
     "slide_type": "slide"
    }
   },
   "source": [
    "#### 3. `-d` OR \\[Ctrl + A\\] + D\n",
    "\n",
    "* Assumes that you are inside a screen session\n",
    "* Detaches from the current screen session"
   ]
  },
  {
   "cell_type": "code",
   "execution_count": null,
   "metadata": {},
   "outputs": [],
   "source": [
    "!screen -d"
   ]
  },
  {
   "cell_type": "markdown",
   "metadata": {
    "slideshow": {
     "slide_type": "slide"
    }
   },
   "source": [
    "#### 4. `-r [screen_name]`\n",
    "* Reattach to a detached screen session"
   ]
  },
  {
   "cell_type": "code",
   "execution_count": null,
   "metadata": {},
   "outputs": [],
   "source": [
    "!screen -r test"
   ]
  },
  {
   "cell_type": "markdown",
   "metadata": {
    "slideshow": {
     "slide_type": "slide"
    }
   },
   "source": [
    "### Alternative: Tmux\n",
    "* If you are interested in a modern alternative, consider `tmux`"
   ]
  },
  {
   "cell_type": "markdown",
   "metadata": {
    "slideshow": {
     "slide_type": "slide"
    }
   },
   "source": [
    "## 4. My Setup with PyCharm Pro"
   ]
  },
  {
   "cell_type": "markdown",
   "metadata": {
    "slideshow": {
     "slide_type": "-"
    }
   },
   "source": [
    "\n",
    "[PyCharm Professional Edition](https://www.jetbrains.com/pycharm/download/#section=mac) (requires a .edu email address, see [here](https://www.jetbrains.com/student/))\n",
    "* Allows your code/application to be deployed to a remote server automatically\n",
    "    * School server\n",
    "    * AWS EC2 instances\n",
    "* Local and remote files remain in sync; every time you change a local file, the same modification is applied automatically to its corresponding remote file\n",
    "* Running/Debugging will then run in the server"
   ]
  },
  {
   "cell_type": "markdown",
   "metadata": {
    "slideshow": {
     "slide_type": "slide"
    }
   },
   "source": [
    "## 5. Google Colab Pro\n",
    "\n",
    "with Jin"
   ]
  },
  {
   "cell_type": "markdown",
   "metadata": {
    "slideshow": {
     "slide_type": "slide"
    }
   },
   "source": [
    "## 6. PA1\n"
   ]
  },
  {
   "cell_type": "markdown",
   "metadata": {},
   "source": [
    "Current release has the following code snippet"
   ]
  },
  {
   "cell_type": "code",
   "execution_count": null,
   "metadata": {},
   "outputs": [],
   "source": [
    "\n",
    "def load_relations(rel_file: str, sense_level: int = 2) -> List['PDTBRelation']:\n",
    "  \"\"\"Loads a single relation json file\n",
    "\n",
    "  Args:\n",
    "    rel_file (str):  path to a json to be loaded\n",
    "    sense_level (int): see `to_level` in `utils.py`\n",
    "\n",
    "  Returns:\n",
    "    List['BagOfWords']: loaded data as a list of BagOfWords objects\n",
    "  \"\"\"\n",
    "  documents = []\n",
    "  with codecs.open(rel_file, encoding='utf-8') as pdtb:\n",
    "    pdtb_lines = pdtb.readlines()\n",
    "    for pdtb_line in pdtb_lines:\n",
    "      rel = json.loads(pdtb_line)\n",
    "\n",
    "      data = rel['Arg1']['RawText']\n",
    "      data_1 = rel['Connective']['RawText']\n",
    "      data_2 = rel['Arg2']['RawText']\n",
    "\n",
    "      # when there are multiple senses, we will only use the first one\n",
    "      label = to_level(rel['Sense'][0], level=sense_level)\n",
    "\n",
    "      document = PDTBRelation(data, data_1, data_2, label=label)\n",
    "      documents.append(document)\n",
    "\n",
    "  return documents\n"
   ]
  },
  {
   "cell_type": "markdown",
   "metadata": {},
   "source": [
    "This should be changed to:"
   ]
  },
  {
   "cell_type": "code",
   "execution_count": null,
   "metadata": {},
   "outputs": [],
   "source": [
    "def load_relations(rel_file: str, sense_level: int = 2) -> List['PDTBRelation']:\n",
    "  \"\"\"Loads a single relation json file\n",
    "\n",
    "  Args:\n",
    "    rel_file (str):  path to a json to be loaded\n",
    "    sense_level (int): see `to_level` in `utils.py`\n",
    "\n",
    "  Returns:\n",
    "    List['BagOfWords']: loaded data as a list of BagOfWords objects\n",
    "  \"\"\"\n",
    "  documents = []\n",
    "  with codecs.open(rel_file, encoding='utf-8') as pdtb:\n",
    "    pdtb_lines = pdtb.readlines()\n",
    "    for pdtb_line in pdtb_lines:\n",
    "      rel = json.loads(pdtb_line)\n",
    "\n",
    "      arg1 = rel['Arg1']['RawText']\n",
    "      connective = rel['Connective']['RawText']\n",
    "      arg2 = rel['Arg2']['RawText']\n",
    "\n",
    "      # when there are multiple senses, we will only use the first one\n",
    "      label = to_level(rel['Sense'][0], level=sense_level)\n",
    "\n",
    "      document = PDTBRelation(arg1, arg2, connective, label=label)\n",
    "      documents.append(document)\n",
    "\n",
    "  return documents"
   ]
  }
 ],
 "metadata": {
  "celltoolbar": "Slideshow",
  "kernelspec": {
   "display_name": "Python 3 (ipykernel)",
   "language": "python",
   "name": "python3"
  },
  "language_info": {
   "codemirror_mode": {
    "name": "ipython",
    "version": 3
   },
   "file_extension": ".py",
   "mimetype": "text/x-python",
   "name": "python",
   "nbconvert_exporter": "python",
   "pygments_lexer": "ipython3",
   "version": "3.8.15"
  }
 },
 "nbformat": 4,
 "nbformat_minor": 2
}
